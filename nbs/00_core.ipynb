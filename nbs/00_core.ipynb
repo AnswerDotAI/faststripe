{
 "cells": [
  {
   "cell_type": "markdown",
   "metadata": {},
   "source": [
    "# core\n",
    "\n",
    "> Fill in a module description here"
   ]
  },
  {
   "cell_type": "code",
   "execution_count": null,
   "metadata": {},
   "outputs": [],
   "source": [
    "#| default_exp core"
   ]
  },
  {
   "cell_type": "code",
   "execution_count": null,
   "metadata": {},
   "outputs": [],
   "source": [
    "#| export\n",
    "from collections import defaultdict\n",
    "from fastcore.all import *\n",
    "from inspect import Parameter, Signature\n",
    "\n",
    "import httpx, re"
   ]
  },
  {
   "cell_type": "code",
   "execution_count": null,
   "metadata": {},
   "outputs": [],
   "source": [
    "#| hide\n",
    "import os"
   ]
  },
  {
   "cell_type": "code",
   "execution_count": null,
   "metadata": {},
   "outputs": [],
   "source": [
    "#| export\n",
    "stripe_openapi_url = 'https://raw.githubusercontent.com/stripe/openapi/refs/heads/master/openapi/spec3.json'\n",
    "stripe_spec = httpx.get(stripe_openapi_url).json()"
   ]
  },
  {
   "cell_type": "code",
   "execution_count": null,
   "metadata": {},
   "outputs": [
    {
     "data": {
      "text/plain": [
       "dict_keys(['components', 'info', 'openapi', 'paths', 'security', 'servers'])"
      ]
     },
     "execution_count": null,
     "metadata": {},
     "output_type": "execute_result"
    }
   ],
   "source": [
    "stripe_spec.keys()"
   ]
  },
  {
   "cell_type": "markdown",
   "metadata": {},
   "source": [
    "The OpenAPI spec describes how a particular REST API works. The most important part of this spec is the paths that are defined by a particular spec. This defines what you can do with a particular API and usually includes things like the description of endpoint, expected parameters, the description of the parameters, and a schema of what will be returned from a particular endpoint."
   ]
  },
  {
   "cell_type": "code",
   "execution_count": null,
   "metadata": {},
   "outputs": [
    {
     "data": {
      "text/plain": [
       "('/v1/account',\n",
       " {'get': {'description': '<p>Retrieves the details of an account.</p>',\n",
       "   'operationId': 'GetAccount',\n",
       "   'parameters': [{'description': 'Specifies which fields in the response should be expanded.',\n",
       "     'explode': True,\n",
       "     'in': 'query',\n",
       "     'name': 'expand',\n",
       "     'required': False,\n",
       "     'schema': {'items': {'maxLength': 5000, 'type': 'string'},\n",
       "      'type': 'array'},\n",
       "     'style': 'deepObject'}],\n",
       "   'requestBody': {'content': {'application/x-www-form-urlencoded': {'encoding': {},\n",
       "      'schema': {'additionalProperties': False,\n",
       "       'properties': {},\n",
       "       'type': 'object'}}},\n",
       "    'required': False},\n",
       "   'responses': {'200': {'content': {'application/json': {'schema': {'$ref': '#/components/schemas/account'}}},\n",
       "     'description': 'Successful response.'},\n",
       "    'default': {'content': {'application/json': {'schema': {'$ref': '#/components/schemas/error'}}},\n",
       "     'description': 'Error response.'}},\n",
       "   'summary': 'Retrieve account'}})"
      ]
     },
     "execution_count": null,
     "metadata": {},
     "output_type": "execute_result"
    }
   ],
   "source": [
    "p = first(stripe_spec['paths'].items())\n",
    "p"
   ]
  },
  {
   "cell_type": "markdown",
   "metadata": {},
   "source": [
    "As we can see here, the account path has a single HTTP verb that we can use on it called GET. The verb + path is what we refer to as an endpoint. This endpoint allows us to get the account details for a stripe."
   ]
  },
  {
   "cell_type": "code",
   "execution_count": null,
   "metadata": {},
   "outputs": [],
   "source": [
    "#| export\n",
    "stripe_api_url = 'https://api.stripe.com'"
   ]
  },
  {
   "cell_type": "code",
   "execution_count": null,
   "metadata": {},
   "outputs": [
    {
     "data": {
      "text/plain": [
       "'https://api.stripe.com/v1/account'"
      ]
     },
     "execution_count": null,
     "metadata": {},
     "output_type": "execute_result"
    }
   ],
   "source": [
    "stripe_api_url + p[0]"
   ]
  },
  {
   "cell_type": "code",
   "execution_count": null,
   "metadata": {},
   "outputs": [],
   "source": [
    "stripe_key = os.getenv('STRIPE_SECRET_KEY')\n",
    "headers = {'Authorization': f'Bearer {stripe_key}'}\n",
    "resp = httpx.get(stripe_api_url + p[0], headers=headers)\n",
    "# resp.status_code, resp.json()"
   ]
  },
  {
   "cell_type": "markdown",
   "metadata": {},
   "source": [
    "Some of these endpoints will take parameters if they are GET verbs or request bodies. POST verbs. Here is an example for the GET customers endpoint"
   ]
  },
  {
   "cell_type": "code",
   "execution_count": null,
   "metadata": {},
   "outputs": [
    {
     "data": {
      "text/plain": [
       "[{'description': 'Only return customers that were created during the given date interval.',\n",
       "  'explode': True,\n",
       "  'in': 'query',\n",
       "  'name': 'created',\n",
       "  'required': False,\n",
       "  'schema': {'anyOf': [{'properties': {'gt': {'type': 'integer'},\n",
       "      'gte': {'type': 'integer'},\n",
       "      'lt': {'type': 'integer'},\n",
       "      'lte': {'type': 'integer'}},\n",
       "     'title': 'range_query_specs',\n",
       "     'type': 'object'},\n",
       "    {'type': 'integer'}]},\n",
       "  'style': 'deepObject'},\n",
       " {'description': \"A case-sensitive filter on the list based on the customer's `email` field. The value must be a string.\",\n",
       "  'in': 'query',\n",
       "  'name': 'email',\n",
       "  'required': False,\n",
       "  'schema': {'maxLength': 512, 'type': 'string'},\n",
       "  'style': 'form'},\n",
       " {'description': 'A cursor for use in pagination. `ending_before` is an object ID that defines your place in the list. For instance, if you make a list request and receive 100 objects, starting with `obj_bar`, your subsequent call can include `ending_before=obj_bar` in order to fetch the previous page of the list.',\n",
       "  'in': 'query',\n",
       "  'name': 'ending_before',\n",
       "  'required': False,\n",
       "  'schema': {'maxLength': 5000, 'type': 'string'},\n",
       "  'style': 'form'}]"
      ]
     },
     "execution_count": null,
     "metadata": {},
     "output_type": "execute_result"
    }
   ],
   "source": [
    "p = first(stripe_spec['paths'].items(), lambda x: x[0] == '/v1/customers')\n",
    "p[1]['get']['parameters'][:3]"
   ]
  },
  {
   "cell_type": "code",
   "execution_count": null,
   "metadata": {},
   "outputs": [
    {
     "data": {
      "text/plain": [
       "[('address',\n",
       "  {'anyOf': [{'properties': {'city': {'maxLength': 5000, 'type': 'string'},\n",
       "      'country': {'maxLength': 5000, 'type': 'string'},\n",
       "      'line1': {'maxLength': 5000, 'type': 'string'},\n",
       "      'line2': {'maxLength': 5000, 'type': 'string'},\n",
       "      'postal_code': {'maxLength': 5000, 'type': 'string'},\n",
       "      'state': {'maxLength': 5000, 'type': 'string'}},\n",
       "     'title': 'optional_fields_customer_address',\n",
       "     'type': 'object'},\n",
       "    {'enum': [''], 'type': 'string'}],\n",
       "   'description': \"The customer's address.\"}),\n",
       " ('balance',\n",
       "  {'description': \"An integer amount in cents (or local equivalent) that represents the customer's current balance, which affect the customer's future invoices. A negative amount represents a credit that decreases the amount due on an invoice; a positive amount increases the amount due on an invoice.\",\n",
       "   'type': 'integer'}),\n",
       " ('cash_balance',\n",
       "  {'description': 'Balance information and default balance settings for this customer.',\n",
       "   'properties': {'settings': {'properties': {'reconciliation_mode': {'enum': ['automatic',\n",
       "        'manual',\n",
       "        'merchant_default'],\n",
       "       'type': 'string'}},\n",
       "     'title': 'balance_settings_param',\n",
       "     'type': 'object'}},\n",
       "   'title': 'cash_balance_param',\n",
       "   'type': 'object'})]"
      ]
     },
     "execution_count": null,
     "metadata": {},
     "output_type": "execute_result"
    }
   ],
   "source": [
    "list(p[1]['post']['requestBody']['content']['application/x-www-form-urlencoded']['schema']['properties'].items())[:3]"
   ]
  },
  {
   "cell_type": "markdown",
   "metadata": {},
   "source": [
    "Let's make a helper function to grab all these endpoints and their parameters."
   ]
  },
  {
   "cell_type": "code",
   "execution_count": null,
   "metadata": {},
   "outputs": [],
   "source": [
    "#| export\n",
    "def stripe_endpoints(spec: dict):\n",
    "    'Extracts all the endpoints and their parameters from the Stripe OpenAPI spec.'\n",
    "    endpoints = []\n",
    "    for path, methods in spec['paths'].items():\n",
    "        for verb, details in methods.items():\n",
    "            op_id = details.get('operationId', '')\n",
    "            summary = details.get('summary', '')\n",
    "            query_params = [dict(name=p['name'], description=p.get('description', ''))\n",
    "                            for p in details.get('parameters', []) if p.get('in') == 'query']\n",
    "            body_params = []\n",
    "            if 'requestBody' in details:\n",
    "                schema = nested_idx(details, 'requestBody', 'content', 'application/x-www-form-urlencoded', 'schema', 'properties') or {}\n",
    "                body_params = [dict(name=k, description=v.get('description', '')) for k,v in schema.items()]\n",
    "            all_params = query_params + body_params\n",
    "            endpoints.append(dict(path=path, verb=verb, op_id=op_id, summary=summary, params=all_params))\n",
    "    return endpoints\n"
   ]
  },
  {
   "cell_type": "code",
   "execution_count": null,
   "metadata": {},
   "outputs": [],
   "source": [
    "#| export\n",
    "eps = stripe_endpoints(stripe_spec)"
   ]
  },
  {
   "cell_type": "code",
   "execution_count": null,
   "metadata": {},
   "outputs": [
    {
     "data": {
      "text/plain": [
       "[{'path': '/v1/account',\n",
       "  'verb': 'get',\n",
       "  'op_id': 'GetAccount',\n",
       "  'summary': 'Retrieve account',\n",
       "  'params': [{'name': 'expand',\n",
       "    'description': 'Specifies which fields in the response should be expanded.'}]},\n",
       " {'path': '/v1/account_links',\n",
       "  'verb': 'post',\n",
       "  'op_id': 'PostAccountLinks',\n",
       "  'summary': 'Create an account link',\n",
       "  'params': [{'name': 'account',\n",
       "    'description': 'The identifier of the account to create an account link for.'},\n",
       "   {'name': 'collect',\n",
       "    'description': 'The collect parameter is deprecated. Use `collection_options` instead.'},\n",
       "   {'name': 'collection_options',\n",
       "    'description': 'Specifies the requirements that Stripe collects from connected accounts in the Connect Onboarding flow.'},\n",
       "   {'name': 'expand',\n",
       "    'description': 'Specifies which fields in the response should be expanded.'},\n",
       "   {'name': 'refresh_url',\n",
       "    'description': \"The URL the user will be redirected to if the account link is expired, has been previously-visited, or is otherwise invalid. The URL you specify should attempt to generate a new account link with the same parameters used to create the original account link, then redirect the user to the new account link's URL so they can continue with Connect Onboarding. If a new account link cannot be generated or the redirect fails you should display a useful error to the user.\"},\n",
       "   {'name': 'return_url',\n",
       "    'description': 'The URL that the user will be redirected to upon leaving or completing the linked flow.'},\n",
       "   {'name': 'type',\n",
       "    'description': 'The type of account link the user is requesting. Possible values are `account_onboarding` or `account_update`.'}]},\n",
       " {'path': '/v1/account_sessions',\n",
       "  'verb': 'post',\n",
       "  'op_id': 'PostAccountSessions',\n",
       "  'summary': 'Create an Account Session',\n",
       "  'params': [{'name': 'account',\n",
       "    'description': 'The identifier of the account to create an Account Session for.'},\n",
       "   {'name': 'components',\n",
       "    'description': 'Each key of the dictionary represents an embedded component, and each embedded component maps to its configuration (e.g. whether it has been enabled or not).'},\n",
       "   {'name': 'expand',\n",
       "    'description': 'Specifies which fields in the response should be expanded.'}]}]"
      ]
     },
     "execution_count": null,
     "metadata": {},
     "output_type": "execute_result"
    }
   ],
   "source": [
    "eps[:3]"
   ]
  },
  {
   "cell_type": "markdown",
   "metadata": {},
   "source": [
    "Now, with each of these descriptions, we can easily create a request that we want on the fly. However, to make it a little bit nicer to use in a library, we'll go ahead and automatically generate functions with proper signatures and docstrings that are then easily accessible in any standard IDE."
   ]
  },
  {
   "cell_type": "code",
   "execution_count": null,
   "metadata": {},
   "outputs": [],
   "source": [
    "#| export\n",
    "def _flatten_data(data, prefix=''):\n",
    "    'Flatten a dictionary of data so that it can be used in a request body.'\n",
    "    result = {}\n",
    "    for k,v in data.items():\n",
    "        key = f'{prefix}[{k}]' if prefix else k\n",
    "        if isinstance(v, dict): result.update(_flatten_data(v, key))\n",
    "        elif isinstance(v, list): \n",
    "            for i,item in enumerate(v):\n",
    "                if isinstance(item, dict): result.update(_flatten_data(item, f'{key}[{i}]'))\n",
    "                else: result[f'{key}[{i}]'] = item\n",
    "        else: result[key] = v\n",
    "    return result"
   ]
  },
  {
   "cell_type": "code",
   "execution_count": null,
   "metadata": {},
   "outputs": [],
   "source": [
    "def _mk_func(path, verb, param_info, summary):\n",
    "    sig_params = [Parameter(param['name'], Parameter.KEYWORD_ONLY, default=None) for param in param_info]\n",
    "    param_docs = '\\n'.join(f\"    {param['name']}: {param['description']}\" for param in param_info)\n",
    "    docstring = f\"{summary}\\n\\nParameters:\\n{param_docs}\" if param_docs else summary\n",
    "    def m(**kwargs): return getattr(httpx, verb)(stripe_api_url + path, headers=headers, params=_flatten_data(kwargs)).json()\n",
    "    m.__signature__ = Signature(sig_params)\n",
    "    m.__doc__ = docstring\n",
    "    return m"
   ]
  },
  {
   "cell_type": "code",
   "execution_count": null,
   "metadata": {},
   "outputs": [
    {
     "name": "stdout",
     "output_type": "stream",
     "text": [
      "\u001b[31mSignature:\u001b[39m get_account(*, expand=\u001b[38;5;28;01mNone\u001b[39;00m)\n",
      "\u001b[31mDocstring:\u001b[39m\n",
      "Retrieve account\n",
      "\n",
      "Parameters:\n",
      "    expand: Specifies which fields in the response should be expanded.\n",
      "\u001b[31mSource:\u001b[39m        \u001b[38;5;28;01mdef\u001b[39;00m m(**kwargs): \u001b[38;5;28;01mreturn\u001b[39;00m getattr(httpx, verb)(stripe_api_url + path, headers=headers, params=_flatten_data(kwargs)).json()\n",
      "\u001b[31mFile:\u001b[39m      /var/folders/5f/gb9vtfjd68q8pwth3s3t67rr0000gn/T/ipykernel_32957/3787833087.py\n",
      "\u001b[31mType:\u001b[39m      function"
     ]
    }
   ],
   "source": [
    "acc_ep = eps[0]\n",
    "get_account = _mk_func(acc_ep['path'], acc_ep['verb'], acc_ep['params'], acc_ep['summary'])\n",
    "get_account??"
   ]
  },
  {
   "cell_type": "code",
   "execution_count": null,
   "metadata": {},
   "outputs": [],
   "source": [
    "# get_account()"
   ]
  },
  {
   "cell_type": "markdown",
   "metadata": {},
   "source": [
    "Let's go ahead and design a class since we need to store our API key and for use in the headers for each of these functions. "
   ]
  },
  {
   "cell_type": "code",
   "execution_count": null,
   "metadata": {},
   "outputs": [],
   "source": [
    "#| export\n",
    "def _parse_operation_id(op_id):\n",
    "    parts = re.findall(r'[A-Z][a-z]*', op_id)\n",
    "    verb,*resource_parts = [p.lower() for p in parts]\n",
    "    r = '_'.join(resource_parts) if resource_parts else 'misc'\n",
    "    nm = 'create' if verb == 'post' else 'fetch' if verb == 'get' else verb\n",
    "    return r, nm"
   ]
  },
  {
   "cell_type": "markdown",
   "metadata": {},
   "source": [
    "For the name of our function, we're going to use this operation ID. However, they use title case so let's make a helper to properly split and construct these names"
   ]
  },
  {
   "cell_type": "code",
   "execution_count": null,
   "metadata": {},
   "outputs": [
    {
     "data": {
      "text/plain": [
       "'account.fetch'"
      ]
     },
     "execution_count": null,
     "metadata": {},
     "output_type": "execute_result"
    }
   ],
   "source": [
    "r, nm = _parse_operation_id(acc_ep['op_id'])\n",
    "f'{r}.{nm}'"
   ]
  },
  {
   "cell_type": "markdown",
   "metadata": {},
   "source": [
    "**Note:** We can't set these as the same post/get verbs because when we actually add these as attributes in our class, we're going to use an AttrDict which we cannot overwrite the get method. So I went ahead and changed the names to either fetch or create. "
   ]
  },
  {
   "cell_type": "code",
   "execution_count": null,
   "metadata": {},
   "outputs": [],
   "source": [
    "#| export\n",
    "def _mk_func(path, verb, param_info, summary, hdrs={}):\n",
    "    sig_params = [Parameter(param['name'], Parameter.KEYWORD_ONLY, default=None) for param in param_info]\n",
    "    param_docs = '\\n'.join(f\"    {param['name']}: {param['description']}\" for param in param_info)\n",
    "    docstring = f\"{summary}\\n\\nParameters:\\n{param_docs}\" if param_docs else summary\n",
    "    def m(**kwargs): return dict2obj(getattr(httpx, verb)(stripe_api_url + path, headers=hdrs,\n",
    "                                                          params=_flatten_data(kwargs)).json())\n",
    "    m.__signature__ = Signature(sig_params)\n",
    "    m.__doc__ = docstring\n",
    "    return m"
   ]
  },
  {
   "cell_type": "code",
   "execution_count": null,
   "metadata": {},
   "outputs": [],
   "source": [
    "#| export\n",
    "class StripeApi:\n",
    "    def __init__(self, api_key=None, base_url='https://api.stripe.com'):\n",
    "        self.api_key,self.base_url = api_key,base_url\n",
    "        self.hdrs = {'Authorization': f'Bearer {self.api_key}'}\n",
    "        eps = stripe_endpoints(stripe_spec)\n",
    "        groups = defaultdict(list)\n",
    "        for ep in eps:\n",
    "            r, nm = _parse_operation_id(ep['op_id'])\n",
    "            groups[r].append((ep['path'], ep['verb'], nm, ep['summary'], ep['params']))\n",
    "        for r, mtds in groups.items():\n",
    "            group = AttrDict()\n",
    "            for path, verb, method_name, summary, params in mtds:\n",
    "                setattr(group, method_name, _mk_func(path, verb, params, summary, hdrs=self.hdrs))\n",
    "            setattr(self, r, group)"
   ]
  },
  {
   "cell_type": "code",
   "execution_count": null,
   "metadata": {},
   "outputs": [
    {
     "name": "stdout",
     "output_type": "stream",
     "text": [
      "\u001b[31mSignature:\u001b[39m sapi.account.fetch(*, expand=\u001b[38;5;28;01mNone\u001b[39;00m)\n",
      "\u001b[31mDocstring:\u001b[39m\n",
      "Retrieve account\n",
      "\n",
      "Parameters:\n",
      "    expand: Specifies which fields in the response should be expanded.\n",
      "\u001b[31mFile:\u001b[39m      /var/folders/5f/gb9vtfjd68q8pwth3s3t67rr0000gn/T/ipykernel_32957/959316412.py\n",
      "\u001b[31mType:\u001b[39m      function"
     ]
    }
   ],
   "source": [
    "sapi = StripeApi(api_key=stripe_key)\n",
    "sapi.account.fetch?"
   ]
  },
  {
   "cell_type": "markdown",
   "metadata": {},
   "source": [
    "That is all we need in order to have a fully functional Python SDK that is compliant with the Stripe OpenAPI spec. Kind of insane that in under 100 lines of code, we can get this functionality, which in my opinion is in some respects even better than the official Stripe Python SDK for the simple fact that we can see the parameters that the functions take without looking up the API reference doc online."
   ]
  },
  {
   "cell_type": "markdown",
   "metadata": {},
   "source": [
    "Let's go ahead and try to build with this thing. The simplest payment system that you can have in Stripe is a one-time payment URL. Here is how we do this in our new API. First, we have to create a product and its price."
   ]
  },
  {
   "cell_type": "code",
   "execution_count": null,
   "metadata": {},
   "outputs": [
    {
     "data": {
      "text/plain": [
       "('prod_SMsKL8PazjzxCp', 'Test Product')"
      ]
     },
     "execution_count": null,
     "metadata": {},
     "output_type": "execute_result"
    }
   ],
   "source": [
    "prod = sapi.products.create(name='Test Product')\n",
    "prod.id, prod.name"
   ]
  },
  {
   "cell_type": "code",
   "execution_count": null,
   "metadata": {},
   "outputs": [
    {
     "data": {
      "text/plain": [
       "('price_1RS8a7KGhqIw9PXmCy76wa1M', 1000, 'usd')"
      ]
     },
     "execution_count": null,
     "metadata": {},
     "output_type": "execute_result"
    }
   ],
   "source": [
    "price = sapi.prices.create(product=prod.id, unit_amount=1000, currency='usd')\n",
    "price.id, price.unit_amount, price.currency"
   ]
  },
  {
   "cell_type": "markdown",
   "metadata": {},
   "source": [
    "Now we can create our checkout session with a mode of payment which means that it will only happen once and is not part of any sort of subscription."
   ]
  },
  {
   "cell_type": "code",
   "execution_count": null,
   "metadata": {},
   "outputs": [
    {
     "name": "stdout",
     "output_type": "stream",
     "text": [
      "Payment link: https://billing.answer.ai/c/pay/cs_test_a1GI49RQWTH9v12ndyoCgNKW...\n"
     ]
    }
   ],
   "source": [
    "checkout = sapi.checkout_sessions.create(mode='payment', line_items=[dict(price=price.id, quantity=1)],\n",
    "                                         success_url='https://localhost:8000/success', cancel_url='https://localhost:8000/cancel')\n",
    "print(f'Payment link: {checkout.url[:64]}...')"
   ]
  },
  {
   "cell_type": "markdown",
   "metadata": {},
   "source": [
    "Let's make this process even easier by add a higher level api ontop of our StripeApi."
   ]
  },
  {
   "cell_type": "markdown",
   "metadata": {},
   "source": [
    "First, let's make it a little bit easier to find an existing products and prices."
   ]
  },
  {
   "cell_type": "code",
   "execution_count": null,
   "metadata": {},
   "outputs": [],
   "source": [
    "#| export\n",
    "@patch\n",
    "def find_product(self:StripeApi, name: str):\n",
    "    \"Find a product by name\"\n",
    "    prods = L(self.products.fetch().data)\n",
    "    return first(prods, lambda p: p.name == name)"
   ]
  },
  {
   "cell_type": "code",
   "execution_count": null,
   "metadata": {},
   "outputs": [
    {
     "data": {
      "text/markdown": [
       "```json\n",
       "{ 'active': True,\n",
       "  'attributes': [],\n",
       "  'created': 1748056627,\n",
       "  'default_price': None,\n",
       "  'description': None,\n",
       "  'id': 'prod_SMsKL8PazjzxCp',\n",
       "  'images': [],\n",
       "  'livemode': False,\n",
       "  'marketing_features': [],\n",
       "  'metadata': {},\n",
       "  'name': 'Test Product',\n",
       "  'object': 'product',\n",
       "  'package_dimensions': None,\n",
       "  'shippable': None,\n",
       "  'statement_descriptor': None,\n",
       "  'tax_code': None,\n",
       "  'type': 'service',\n",
       "  'unit_label': None,\n",
       "  'updated': 1748056627,\n",
       "  'url': None}\n",
       "```"
      ],
      "text/plain": [
       "{'id': 'prod_SMsKL8PazjzxCp',\n",
       " 'object': 'product',\n",
       " 'active': True,\n",
       " 'attributes': (#0) [],\n",
       " 'created': 1748056627,\n",
       " 'default_price': None,\n",
       " 'description': None,\n",
       " 'images': (#0) [],\n",
       " 'livemode': False,\n",
       " 'marketing_features': (#0) [],\n",
       " 'metadata': {},\n",
       " 'name': 'Test Product',\n",
       " 'package_dimensions': None,\n",
       " 'shippable': None,\n",
       " 'statement_descriptor': None,\n",
       " 'tax_code': None,\n",
       " 'type': 'service',\n",
       " 'unit_label': None,\n",
       " 'updated': 1748056627,\n",
       " 'url': None}"
      ]
     },
     "execution_count": null,
     "metadata": {},
     "output_type": "execute_result"
    }
   ],
   "source": [
    "sapi.find_product('Test Product')"
   ]
  },
  {
   "cell_type": "code",
   "execution_count": null,
   "metadata": {},
   "outputs": [],
   "source": [
    "#| export\n",
    "@patch\n",
    "def find_prices(self:StripeApi, product_id: str):\n",
    "    \"Find all prices associated with a product id\"\n",
    "    return L(self.prices.fetch().data).filter(lambda p: p.product == product_id)"
   ]
  },
  {
   "cell_type": "code",
   "execution_count": null,
   "metadata": {},
   "outputs": [
    {
     "data": {
      "text/plain": [
       "(#1) [{'id': 'price_1RS8a7KGhqIw9PXmCy76wa1M', 'object': 'price', 'active': True, 'billing_scheme': 'per_unit', 'created': 1748056627, 'currency': 'usd', 'custom_unit_amount': None, 'livemode': False, 'lookup_key': None, 'metadata': {}, 'nickname': None, 'product': 'prod_SMsKL8PazjzxCp', 'recurring': None, 'tax_behavior': 'unspecified', 'tiers_mode': None, 'transform_quantity': None, 'type': 'one_time', 'unit_amount': 1000, 'unit_amount_decimal': '1000'}]"
      ]
     },
     "execution_count": null,
     "metadata": {},
     "output_type": "execute_result"
    }
   ],
   "source": [
    "sapi.find_prices(sapi.find_product('Test Product').id)"
   ]
  },
  {
   "cell_type": "code",
   "execution_count": null,
   "metadata": {},
   "outputs": [],
   "source": [
    "#| export\n",
    "@patch\n",
    "def priced_product(self:StripeApi, product_name, amount_cents, currency='usd', recurring=None):\n",
    "    \"Create a product and price if they don't exist\"\n",
    "    prod = self.find_product(product_name) or self.products.create(name=product_name)\n",
    "    params = dict(product=prod.id, unit_amount=amount_cents, currency=currency)\n",
    "    if recurring: params['recurring'] = recurring\n",
    "    price = first(self.find_prices(prod.id)) or self.prices.create(**params)\n",
    "    return prod, price"
   ]
  },
  {
   "cell_type": "code",
   "execution_count": null,
   "metadata": {},
   "outputs": [],
   "source": [
    "prod, price = sapi.priced_product('Test Product', 1000, 'usd')"
   ]
  },
  {
   "cell_type": "markdown",
   "metadata": {},
   "source": [
    "Now we can automatically create a product or use an existing one when create a one time payment link."
   ]
  },
  {
   "cell_type": "code",
   "execution_count": null,
   "metadata": {},
   "outputs": [],
   "source": [
    "#| export\n",
    "@patch\n",
    "def one_time_payment(self:StripeApi, product_name, amount_cents, success_url, cancel_url, currency='usd'):\n",
    "    \"Create a simple one-time payment checkout\"\n",
    "    _, price = self.priced_product(product_name, amount_cents, currency)\n",
    "    return self.checkout_sessions.create(mode='payment', line_items=[dict(price=price.id, quantity=1)],\n",
    "                                         success_url=success_url, cancel_url=cancel_url)"
   ]
  },
  {
   "cell_type": "code",
   "execution_count": null,
   "metadata": {},
   "outputs": [
    {
     "name": "stdout",
     "output_type": "stream",
     "text": [
      "Payment link: https://billing.answer.ai/c/pay/cs_test_a1tG6yGlb6sv8tRK6nOHJ1D9...\n"
     ]
    }
   ],
   "source": [
    "checkout = sapi.one_time_payment('Test Product', 1000, 'https://localhost:8000/success', 'https://localhost:8000/cancel', 'usd')\n",
    "print(f'Payment link: {checkout.url[:64]}...')"
   ]
  },
  {
   "cell_type": "markdown",
   "metadata": {},
   "source": [
    "Another common use case is subscriptions. Let's go ahead and create a version that makes subscription creation just as easy."
   ]
  },
  {
   "cell_type": "code",
   "execution_count": null,
   "metadata": {},
   "outputs": [],
   "source": [
    "#| export\n",
    "@patch\n",
    "def subscription(self:StripeApi, product_name, amount_cents , success_url, cancel_url,\n",
    "                 currency='usd', interval='month', customer_email=None):\n",
    "    \"Create a simple recurring subscription\"\n",
    "    _, price = self.priced_product(product_name, amount_cents, currency, recurring=dict(interval=interval))\n",
    "    \n",
    "    params = dict(mode='subscription', line_items=[dict(price=price.id, quantity=1)],\n",
    "                  success_url=success_url, cancel_url=cancel_url)\n",
    "    if customer_email: params['customer_email'] = customer_email\n",
    "    return self.checkout_sessions.create(**params)"
   ]
  },
  {
   "cell_type": "code",
   "execution_count": null,
   "metadata": {},
   "outputs": [
    {
     "name": "stdout",
     "output_type": "stream",
     "text": [
      "Payment link: https://billing.answer.ai/c/pay/cs_test_a1SXP3jSsh0W5nrpX9XRAP5L...\n"
     ]
    }
   ],
   "source": [
    "sub_checkout = sapi.subscription('Test Subscription Product', 1000, 'https://localhost:8000/success', 'https://localhost:8000/cancel')\n",
    "print(f'Payment link: {sub_checkout.url[:64]}...')"
   ]
  },
  {
   "cell_type": "markdown",
   "metadata": {},
   "source": [
    "**Note:** You'll want to use Stripe's webhook functionality for detecting payment and subscription events. To do so, you'll utilize the Python Stripe SDK that the event actually came from stripe."
   ]
  },
  {
   "cell_type": "code",
   "execution_count": null,
   "metadata": {},
   "outputs": [],
   "source": [
    "#| hide\n",
    "import nbdev; nbdev.nbdev_export()"
   ]
  }
 ],
 "metadata": {
  "kernelspec": {
   "display_name": "python3",
   "language": "python",
   "name": "python3"
  }
 },
 "nbformat": 4,
 "nbformat_minor": 4
}
