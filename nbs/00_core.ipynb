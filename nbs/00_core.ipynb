{
 "cells": [
  {
   "cell_type": "markdown",
   "metadata": {},
   "source": [
    "# core\n",
    "\n",
    "> Fill in a module description here"
   ]
  },
  {
   "cell_type": "code",
   "execution_count": null,
   "metadata": {},
   "outputs": [],
   "source": [
    "#| default_exp core"
   ]
  },
  {
   "cell_type": "code",
   "execution_count": null,
   "metadata": {},
   "outputs": [],
   "source": [
    "#| export\n",
    "from fastcore.all import *\n",
    "from httpx import get as xget, post as xpost, delete as xdelete\n",
    "\n",
    "import json, os"
   ]
  },
  {
   "cell_type": "code",
   "execution_count": null,
   "metadata": {},
   "outputs": [],
   "source": [
    "#| export\n",
    "stripe_openapi_url = 'https://raw.githubusercontent.com/stripe/openapi/refs/heads/master/openapi/spec3.json'\n",
    "stripe_spec = xget(stripe_openapi_url).json()"
   ]
  },
  {
   "cell_type": "code",
   "execution_count": null,
   "metadata": {},
   "outputs": [
    {
     "data": {
      "text/plain": [
       "dict_keys(['components', 'info', 'openapi', 'paths', 'security', 'servers'])"
      ]
     },
     "execution_count": null,
     "metadata": {},
     "output_type": "execute_result"
    }
   ],
   "source": [
    "stripe_spec.keys()"
   ]
  },
  {
   "cell_type": "markdown",
   "metadata": {},
   "source": [
    "The OpenAPI spec describes how a particular REST API works. The most important part of this spec is the paths that are defined by a particular spec. This defines what you can do with a particular API and usually includes things like the description of endpoint, expected parameters, the description of the parameters, and a schema of what will be returned from a particular endpoint."
   ]
  },
  {
   "cell_type": "code",
   "execution_count": null,
   "metadata": {},
   "outputs": [
    {
     "data": {
      "text/plain": [
       "('/v1/account',\n",
       " {'get': {'description': '<p>Retrieves the details of an account.</p>',\n",
       "   'operationId': 'GetAccount',\n",
       "   'parameters': [{'description': 'Specifies which fields in the response should be expanded.',\n",
       "     'explode': True,\n",
       "     'in': 'query',\n",
       "     'name': 'expand',\n",
       "     'required': False,\n",
       "     'schema': {'items': {'maxLength': 5000, 'type': 'string'},\n",
       "      'type': 'array'},\n",
       "     'style': 'deepObject'}],\n",
       "   'requestBody': {'content': {'application/x-www-form-urlencoded': {'encoding': {},\n",
       "      'schema': {'additionalProperties': False,\n",
       "       'properties': {},\n",
       "       'type': 'object'}}},\n",
       "    'required': False},\n",
       "   'responses': {'200': {'content': {'application/json': {'schema': {'$ref': '#/components/schemas/account'}}},\n",
       "     'description': 'Successful response.'},\n",
       "    'default': {'content': {'application/json': {'schema': {'$ref': '#/components/schemas/error'}}},\n",
       "     'description': 'Error response.'}},\n",
       "   'summary': 'Retrieve account'}})"
      ]
     },
     "execution_count": null,
     "metadata": {},
     "output_type": "execute_result"
    }
   ],
   "source": [
    "p = first(stripe_spec['paths'].items())\n",
    "p"
   ]
  },
  {
   "cell_type": "markdown",
   "metadata": {},
   "source": [
    "As we can see here, the account path has a single HTTP verb that we can use on it called GET. The verb + path is what we refer to as an endpoint. This endpoint allows us to get the account details for a stripe."
   ]
  },
  {
   "cell_type": "code",
   "execution_count": null,
   "metadata": {},
   "outputs": [
    {
     "data": {
      "text/plain": [
       "'https://api.stripe.com/v1/account'"
      ]
     },
     "execution_count": null,
     "metadata": {},
     "output_type": "execute_result"
    }
   ],
   "source": [
    "stripe_api_url = 'https://api.stripe.com'\n",
    "stripe_api_url + p[0]"
   ]
  },
  {
   "cell_type": "code",
   "execution_count": null,
   "metadata": {},
   "outputs": [],
   "source": [
    "stripe_key = os.getenv('STRIPE_SECRET_KEY')\n",
    "headers = {'Authorization': f'Bearer {stripe_key}'}\n",
    "resp = xget(stripe_api_url + p[0], headers=headers)\n",
    "# resp.status_code, resp.json()"
   ]
  },
  {
   "cell_type": "markdown",
   "metadata": {},
   "source": [
    "Some of these endpoints will take parameters if they are GET verbs or request bodies. POST verbs. Here is an example for the GET customers endpoint"
   ]
  },
  {
   "cell_type": "code",
   "execution_count": null,
   "metadata": {},
   "outputs": [
    {
     "data": {
      "text/plain": [
       "[{'description': 'Only return customers that were created during the given date interval.',\n",
       "  'explode': True,\n",
       "  'in': 'query',\n",
       "  'name': 'created',\n",
       "  'required': False,\n",
       "  'schema': {'anyOf': [{'properties': {'gt': {'type': 'integer'},\n",
       "      'gte': {'type': 'integer'},\n",
       "      'lt': {'type': 'integer'},\n",
       "      'lte': {'type': 'integer'}},\n",
       "     'title': 'range_query_specs',\n",
       "     'type': 'object'},\n",
       "    {'type': 'integer'}]},\n",
       "  'style': 'deepObject'},\n",
       " {'description': \"A case-sensitive filter on the list based on the customer's `email` field. The value must be a string.\",\n",
       "  'in': 'query',\n",
       "  'name': 'email',\n",
       "  'required': False,\n",
       "  'schema': {'maxLength': 512, 'type': 'string'},\n",
       "  'style': 'form'},\n",
       " {'description': 'A cursor for use in pagination. `ending_before` is an object ID that defines your place in the list. For instance, if you make a list request and receive 100 objects, starting with `obj_bar`, your subsequent call can include `ending_before=obj_bar` in order to fetch the previous page of the list.',\n",
       "  'in': 'query',\n",
       "  'name': 'ending_before',\n",
       "  'required': False,\n",
       "  'schema': {'maxLength': 5000, 'type': 'string'},\n",
       "  'style': 'form'}]"
      ]
     },
     "execution_count": null,
     "metadata": {},
     "output_type": "execute_result"
    }
   ],
   "source": [
    "p = first(stripe_spec['paths'].items(), lambda x: x[0] == '/v1/customers')\n",
    "p[1]['get']['parameters'][:3]"
   ]
  },
  {
   "cell_type": "code",
   "execution_count": null,
   "metadata": {},
   "outputs": [
    {
     "data": {
      "text/plain": [
       "[('address',\n",
       "  {'anyOf': [{'properties': {'city': {'maxLength': 5000, 'type': 'string'},\n",
       "      'country': {'maxLength': 5000, 'type': 'string'},\n",
       "      'line1': {'maxLength': 5000, 'type': 'string'},\n",
       "      'line2': {'maxLength': 5000, 'type': 'string'},\n",
       "      'postal_code': {'maxLength': 5000, 'type': 'string'},\n",
       "      'state': {'maxLength': 5000, 'type': 'string'}},\n",
       "     'title': 'optional_fields_customer_address',\n",
       "     'type': 'object'},\n",
       "    {'enum': [''], 'type': 'string'}],\n",
       "   'description': \"The customer's address.\"}),\n",
       " ('balance',\n",
       "  {'description': \"An integer amount in cents (or local equivalent) that represents the customer's current balance, which affect the customer's future invoices. A negative amount represents a credit that decreases the amount due on an invoice; a positive amount increases the amount due on an invoice.\",\n",
       "   'type': 'integer'}),\n",
       " ('cash_balance',\n",
       "  {'description': 'Balance information and default balance settings for this customer.',\n",
       "   'properties': {'settings': {'properties': {'reconciliation_mode': {'enum': ['automatic',\n",
       "        'manual',\n",
       "        'merchant_default'],\n",
       "       'type': 'string'}},\n",
       "     'title': 'balance_settings_param',\n",
       "     'type': 'object'}},\n",
       "   'title': 'cash_balance_param',\n",
       "   'type': 'object'})]"
      ]
     },
     "execution_count": null,
     "metadata": {},
     "output_type": "execute_result"
    }
   ],
   "source": [
    "list(p[1]['post']['requestBody']['content']['application/x-www-form-urlencoded']['schema']['properties'].items())[:3]"
   ]
  },
  {
   "cell_type": "code",
   "execution_count": null,
   "metadata": {},
   "outputs": [],
   "source": [
    "#| hide\n",
    "import nbdev; nbdev.nbdev_export()"
   ]
  }
 ],
 "metadata": {
  "kernelspec": {
   "display_name": "python3",
   "language": "python",
   "name": "python3"
  }
 },
 "nbformat": 4,
 "nbformat_minor": 4
}
