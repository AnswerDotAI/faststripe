{
 "cells": [
  {
   "cell_type": "markdown",
   "metadata": {},
   "source": [
    "# How to Create Subscriptions\n",
    "\n",
    "> Set up recurring payments for services"
   ]
  },
  {
   "cell_type": "markdown",
   "metadata": {},
   "source": [
    "This guide shows you how to create recurring subscription payments using FastStripe.\n",
    "\n",
    "## Problem\n",
    "\n",
    "You want to charge customers on a recurring basis (monthly, yearly, etc.) for a service or product.\n",
    "\n",
    "## Solution\n",
    "\n",
    "Use FastStripe's `subscription()` method which creates the necessary recurring price and checkout session."
   ]
  },
  {
   "cell_type": "code",
   "execution_count": null,
   "metadata": {},
   "outputs": [],
   "source": [
    "from faststripe.core import StripeApi\n",
    "from faststripe.page import pages\n",
    "import os\n",
    "\n",
    "sapi = StripeApi(os.environ['STRIPE_SECRET_KEY'])"
   ]
  },
  {
   "cell_type": "markdown",
   "metadata": {},
   "source": [
    "## Monthly subscription"
   ]
  },
  {
   "cell_type": "code",
   "execution_count": null,
   "metadata": {},
   "outputs": [
    {
     "name": "stdout",
     "output_type": "stream",
     "text": [
      "Subscription URL: https://billing.answer.ai/c/pay/cs_test_a1Koczt2muVRPSvhdKJvW72BhK0tyqULhDdvdNJLzWH2F1F7VRKeSxXqDb#fidkdWxOYHwnPyd1blpxYHZxWjA0VDFNMTFOQm10THI8VV1oX0xtbUt8R0RvX3RicGtMXWBKVm1oN01uYTF8VXZBSXRVSTVxazNqcUcxXHc0V1FGZEpdbDxGZElAc0BUZzNJZHVhfEZcM2tDNTV%2FSXZvYTRtTicpJ2N3amhWYHdzYHcnP3F3cGApJ2lkfGpwcVF8dWAnPyd2bGtiaWBabHFgaCcpJ2BrZGdpYFVpZGZgbWppYWB3dic%2FcXdwYHgl\n"
     ]
    }
   ],
   "source": [
    "# Create a monthly subscription\n",
    "subscription = sapi.subscription(\n",
    "    product_name='Pro Plan',\n",
    "    amount_cents=1999,  # $19.99/month\n",
    "    success_url='https://yoursite.com/welcome',\n",
    "    cancel_url='https://yoursite.com/pricing',\n",
    "    interval='month'\n",
    ")\n",
    "\n",
    "print(f\"Subscription URL: {subscription.url}\")"
   ]
  },
  {
   "cell_type": "markdown",
   "metadata": {},
   "source": [
    "## Annual subscription with discount"
   ]
  },
  {
   "cell_type": "code",
   "execution_count": null,
   "metadata": {},
   "outputs": [
    {
     "name": "stdout",
     "output_type": "stream",
     "text": [
      "Annual subscription URL: https://billing.answer.ai/c/pay/cs_test_a1nEYwo42vkexu8k6G7rcTkH7hojCqtZ8R29mI9kWEhzSAlSdFFGC5F3MS#fidkdWxOYHwnPyd1blpxYHZxWjA0VDFNMTFOQm10THI8VV1oX0xtbUt8R0RvX3RicGtMXWBKVm1oN01uYTF8VXZBSXRVSTVxazNqcUcxXHc0V1FGZEpdbDxGZElAc0BUZzNJZHVhfEZcM2tDNTV%2FSXZvYTRtTicpJ2N3amhWYHdzYHcnP3F3cGApJ2lkfGpwcVF8dWAnPyd2bGtiaWBabHFgaCcpJ2BrZGdpYFVpZGZgbWppYWB3dic%2FcXdwYHgl\n"
     ]
    }
   ],
   "source": [
    "# Create an annual subscription (typically discounted)\n",
    "annual_sub = sapi.subscription(\n",
    "    product_name='Pro Plan',\n",
    "    amount_cents=19999,  # $199.99/year (save $39.89)\n",
    "    success_url='https://yoursite.com/welcome',\n",
    "    cancel_url='https://yoursite.com/pricing',\n",
    "    interval='year'\n",
    ")\n",
    "\n",
    "print(f\"Annual subscription URL: {annual_sub.url}\")"
   ]
  },
  {
   "cell_type": "markdown",
   "metadata": {},
   "source": [
    "## Pre-fill customer email"
   ]
  },
  {
   "cell_type": "code",
   "execution_count": null,
   "metadata": {},
   "outputs": [
    {
     "name": "stdout",
     "output_type": "stream",
     "text": [
      "Subscription with email: https://billing.answer.ai/c/pay/cs_test_a1OEiShyZ519kvG30C7LjJLfTROahjVckQYOU87yaAHaxzfgl4kWJITxCv#fidkdWxOYHwnPyd1blpxYHZxWjA0VDFNMTFOQm10THI8VV1oX0xtbUt8R0RvX3RicGtMXWBKVm1oN01uYTF8VXZBSXRVSTVxazNqcUcxXHc0V1FGZEpdbDxGZElAc0BUZzNJZHVhfEZcM2tDNTV%2FSXZvYTRtTicpJ2N3amhWYHdzYHcnP3F3cGApJ2lkfGpwcVF8dWAnPyd2bGtiaWBabHFgaCcpJ2BrZGdpYFVpZGZgbWppYWB3dic%2FcXdwYHgl\n"
     ]
    }
   ],
   "source": [
    "# Pre-fill customer email in checkout\n",
    "subscription = sapi.subscription(\n",
    "    product_name='Pro Plan',\n",
    "    amount_cents=1999,\n",
    "    success_url='https://yoursite.com/welcome',\n",
    "    cancel_url='https://yoursite.com/pricing',\n",
    "    customer_email='user@example.com'\n",
    ")\n",
    "\n",
    "print(f\"Subscription with email: {subscription.url}\")"
   ]
  },
  {
   "cell_type": "markdown",
   "metadata": {},
   "source": [
    "## Manual subscription setup\n",
    "\n",
    "For more control over subscription features:"
   ]
  },
  {
   "cell_type": "code",
   "execution_count": null,
   "metadata": {},
   "outputs": [
    {
     "name": "stdout",
     "output_type": "stream",
     "text": [
      "Enterprise subscription: https://billing.answer.ai/c/pay/cs_test_b12leucMZratXDH7VRToLgtx9jUGKq8HF3qbTg34Sz5RsOUEhr0Y9lC6V7#fidkdWxOYHwnPyd1blpxYHZxWjA0VDFNMTFOQm10THI8VV1oX0xtbUt8R0RvX3RicGtMXWBKVm1oN01uYTF8VXZBSXRVSTVxazNqcUcxXHc0V1FGZEpdbDxGZElAc0BUZzNJZHVhfEZcM2tDNTV%2FSXZvYTRtTicpJ2N3amhWYHdzYHcnP3F3cGApJ2lkfGpwcVF8dWAnPydocGlxbFpscWBoJyknYGtkZ2lgVWlkZmBtamlhYHd2Jz9xd3BgeCUl\n"
     ]
    }
   ],
   "source": [
    "# Create product\n",
    "product = sapi.products.post(\n",
    "    name='Enterprise Plan',\n",
    "    description='Full access to all features'\n",
    ")\n",
    "\n",
    "# Create recurring price\n",
    "price = sapi.prices.post(\n",
    "    product=product.id,\n",
    "    unit_amount=9999,  # $99.99\n",
    "    currency='usd',\n",
    "    recurring={\n",
    "        'interval': 'month',\n",
    "        'usage_type': 'licensed'  # per-seat billing\n",
    "    }\n",
    ")\n",
    "\n",
    "# Create subscription checkout\n",
    "checkout = sapi.checkout.sessions_post(\n",
    "    mode='subscription',\n",
    "    line_items=[{\n",
    "        'price': price.id,\n",
    "        'quantity': 1\n",
    "    }],\n",
    "    success_url='https://yoursite.com/success?session_id={CHECKOUT_SESSION_ID}',\n",
    "    cancel_url='https://yoursite.com/cancel',\n",
    "    allow_promotion_codes=True,  # Enable promo codes\n",
    "    subscription_data={\n",
    "        'trial_period_days': 14  # 14-day free trial\n",
    "    }\n",
    ")\n",
    "\n",
    "print(f\"Enterprise subscription: {checkout.url}\")"
   ]
  },
  {
   "cell_type": "markdown",
   "metadata": {},
   "source": [
    "## Managing existing subscriptions\n",
    "\n",
    "Retrieve and modify existing subscriptions:"
   ]
  },
  {
   "cell_type": "code",
   "execution_count": null,
   "metadata": {},
   "outputs": [
    {
     "name": "stdout",
     "output_type": "stream",
     "text": [
      "Found 288 subscriptions\n",
      "Subscription sub_1Rh0UdKGhqIw9PXmDnHTOT3M: active\n"
     ]
    }
   ],
   "source": [
    "# List all subscriptions\n",
    "subscriptions = pages(sapi.subscriptions.get, limit=100)\n",
    "print(f\"Found {len(subscriptions)} subscriptions\")\n",
    "\n",
    "# Get a specific subscription\n",
    "sub = subscriptions[0]\n",
    "print(f\"Subscription {sub.id}: {sub.status}\")"
   ]
  },
  {
   "cell_type": "markdown",
   "metadata": {},
   "source": [
    "## Best practices\n",
    "\n",
    "- Always use webhooks to handle subscription lifecycle events\n",
    "- Consider offering free trials to increase conversions\n",
    "- Use promotion codes for discounts and marketing campaigns\n",
    "- Set up proper success/cancel URLs that match your user flow\n",
    "- Test subscription flows thoroughly in test mode"
   ]
  }
 ],
 "metadata": {
  "kernelspec": {
   "display_name": "python3",
   "language": "python",
   "name": "python3"
  }
 },
 "nbformat": 4,
 "nbformat_minor": 4
}
