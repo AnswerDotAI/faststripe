{
 "cells": [
  {
   "cell_type": "markdown",
   "metadata": {},
   "source": [
    "# How to Create Subscriptions\n",
    "\n",
    "> Set up recurring payments for services"
   ]
  },
  {
   "cell_type": "markdown",
   "metadata": {},
   "source": [
    "This guide shows you how to create recurring subscription payments using FastStripe.\n",
    "\n",
    "## Problem\n",
    "\n",
    "You want to charge customers on a recurring basis (monthly, yearly, etc.) for a service or product.\n",
    "\n",
    "## Solution\n",
    "\n",
    "Use FastStripe's `subscription()` method which creates the necessary recurring price and checkout session."
   ]
  },
  {
   "cell_type": "code",
   "execution_count": null,
   "metadata": {},
   "outputs": [],
   "source": [
    "from faststripe.core import StripeApi\n",
    "import os\n",
    "\n",
    "sapi = StripeApi(os.environ['STRIPE_SECRET_KEY'])"
   ]
  },
  {
   "cell_type": "markdown",
   "metadata": {},
   "source": [
    "## Monthly subscription"
   ]
  },
  {
   "cell_type": "code",
   "execution_count": null,
   "metadata": {},
   "outputs": [],
   "source": [
    "# Create a monthly subscription\n",
    "subscription = sapi.subscription(\n",
    "    product_name='Pro Plan',\n",
    "    amount_cents=1999,  # $19.99/month\n",
    "    success_url='https://yoursite.com/welcome',\n",
    "    cancel_url='https://yoursite.com/pricing',\n",
    "    interval='month'\n",
    ")\n",
    "\n",
    "print(f\"Subscription URL: {subscription.url}\")"
   ]
  },
  {
   "cell_type": "markdown",
   "metadata": {},
   "source": [
    "## Annual subscription with discount"
   ]
  },
  {
   "cell_type": "code",
   "execution_count": null,
   "metadata": {},
   "outputs": [],
   "source": [
    "# Create an annual subscription (typically discounted)\n",
    "annual_sub = sapi.subscription(\n",
    "    product_name='Pro Plan',\n",
    "    amount_cents=19999,  # $199.99/year (save $39.89)\n",
    "    success_url='https://yoursite.com/welcome',\n",
    "    cancel_url='https://yoursite.com/pricing',\n",
    "    interval='year'\n",
    ")\n",
    "\n",
    "print(f\"Annual subscription URL: {annual_sub.url}\")"
   ]
  },
  {
   "cell_type": "markdown",
   "metadata": {},
   "source": [
    "## Pre-fill customer email"
   ]
  },
  {
   "cell_type": "code",
   "execution_count": null,
   "metadata": {},
   "outputs": [],
   "source": [
    "# Pre-fill customer email in checkout\n",
    "subscription = sapi.subscription(\n",
    "    product_name='Pro Plan',\n",
    "    amount_cents=1999,\n",
    "    success_url='https://yoursite.com/welcome',\n",
    "    cancel_url='https://yoursite.com/pricing',\n",
    "    customer_email='user@example.com'\n",
    ")\n",
    "\n",
    "print(f\"Subscription with email: {subscription.url}\")"
   ]
  },
  {
   "cell_type": "markdown",
   "metadata": {},
   "source": [
    "## Manual subscription setup\n",
    "\n",
    "For more control over subscription features:"
   ]
  },
  {
   "cell_type": "code",
   "execution_count": null,
   "metadata": {},
   "outputs": [],
   "source": [
    "# Create product\n",
    "product = sapi.products.create(\n",
    "    name='Enterprise Plan',\n",
    "    description='Full access to all features'\n",
    ")\n",
    "\n",
    "# Create recurring price\n",
    "price = sapi.prices.create(\n",
    "    product=product.id,\n",
    "    unit_amount=9999,  # $99.99\n",
    "    currency='usd',\n",
    "    recurring={\n",
    "        'interval': 'month',\n",
    "        'usage_type': 'licensed'  # per-seat billing\n",
    "    }\n",
    ")\n",
    "\n",
    "# Create subscription checkout\n",
    "checkout = sapi.checkout_sessions.create(\n",
    "    mode='subscription',\n",
    "    line_items=[{\n",
    "        'price': price.id,\n",
    "        'quantity': 1\n",
    "    }],\n",
    "    success_url='https://yoursite.com/success?session_id={CHECKOUT_SESSION_ID}',\n",
    "    cancel_url='https://yoursite.com/cancel',\n",
    "    allow_promotion_codes=True,  # Enable promo codes\n",
    "    subscription_data={\n",
    "        'trial_period_days': 14  # 14-day free trial\n",
    "    }\n",
    ")\n",
    "\n",
    "print(f\"Enterprise subscription: {checkout.url}\")"
   ]
  },
  {
   "cell_type": "markdown",
   "metadata": {},
   "source": [
    "## Managing existing subscriptions\n",
    "\n",
    "Retrieve and modify existing subscriptions:"
   ]
  },
  {
   "cell_type": "code",
   "execution_count": null,
   "metadata": {},
   "outputs": [],
   "source": [
    "# List all subscriptions\n",
    "subscriptions = sapi.subscriptions.fetch(limit=10)\n",
    "print(f\"Found {len(subscriptions.data)} subscriptions\")\n",
    "\n",
    "# Get a specific subscription\n",
    "if subscriptions.data:\n",
    "    sub = subscriptions.data[0]\n",
    "    print(f\"Subscription {sub.id}: {sub.status}\")\n",
    "    \n",
    "    # Cancel subscription\n",
    "    # cancelled_sub = sapi.subscriptions.update(sub.id, cancel_at_period_end=True)\n",
    "    # print(f\"Subscription will cancel at period end: {cancelled_sub.cancel_at_period_end}\")"
   ]
  },
  {
   "cell_type": "markdown",
   "metadata": {},
   "source": [
    "## Best practices\n",
    "\n",
    "- Always use webhooks to handle subscription lifecycle events\n",
    "- Consider offering free trials to increase conversions\n",
    "- Use promotion codes for discounts and marketing campaigns\n",
    "- Set up proper success/cancel URLs that match your user flow\n",
    "- Test subscription flows thoroughly in test mode"
   ]
  }
 ],
 "metadata": {
  "kernelspec": {
   "display_name": "python3",
   "language": "python",
   "name": "python3"
  }
 },
 "nbformat": 4,
 "nbformat_minor": 4
}
