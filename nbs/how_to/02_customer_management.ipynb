{
 "cells": [
  {
   "cell_type": "markdown",
   "metadata": {},
   "source": [
    "# How to Manage Customers\n",
    "\n",
    "> Create and manage customer records in Stripe"
   ]
  },
  {
   "cell_type": "markdown",
   "metadata": {},
   "source": [
    "This guide shows you how to create and manage customer records using FastStripe.\n",
    "\n",
    "## Problem\n",
    "\n",
    "You need to store customer information, track their payment history, and manage their subscriptions.\n",
    "\n",
    "## Solution\n",
    "\n",
    "Use FastStripe's customer management methods to create, update, and retrieve customer data."
   ]
  },
  {
   "cell_type": "code",
   "execution_count": null,
   "metadata": {},
   "outputs": [],
   "source": [
    "from faststripe.core import StripeApi\n",
    "import os\n",
    "\n",
    "sapi = StripeApi(os.environ['STRIPE_SECRET_KEY'])"
   ]
  },
  {
   "cell_type": "markdown",
   "metadata": {},
   "source": [
    "## Creating customers"
   ]
  },
  {
   "cell_type": "code",
   "execution_count": null,
   "metadata": {},
   "outputs": [],
   "source": [
    "# Create a basic customer\n",
    "customer = sapi.customers.create(\n",
    "    email='john.doe@example.com',\n",
    "    name='John Doe'\n",
    ")\n",
    "\n",
    "print(f\"Created customer: {customer.id}\")\n",
    "print(f\"Customer email: {customer.email}\")"
   ]
  },
  {
   "cell_type": "markdown",
   "metadata": {},
   "source": [
    "## Creating customers with full details"
   ]
  },
  {
   "cell_type": "code",
   "execution_count": null,
   "metadata": {},
   "outputs": [],
   "source": [
    "# Create customer with address and metadata\n",
    "detailed_customer = sapi.customers.create(\n",
    "    email='jane.smith@example.com',\n",
    "    name='Jane Smith',\n",
    "    phone='+1234567890',\n",
    "    address={\n",
    "        'line1': '123 Main St',\n",
    "        'city': 'San Francisco',\n",
    "        'state': 'CA',\n",
    "        'postal_code': '94105',\n",
    "        'country': 'US'\n",
    "    },\n",
    "    metadata={\n",
    "        'user_id': '12345',\n",
    "        'plan': 'premium',\n",
    "        'signup_date': '2024-01-15'\n",
    "    }\n",
    ")\n",
    "\n",
    "print(f\"Customer with details: {detailed_customer.id}\")\n",
    "print(f\"Address: {detailed_customer.address.line1}, {detailed_customer.address.city}\")\n",
    "print(f\"Metadata: {detailed_customer.metadata}\")"
   ]
  },
  {
   "cell_type": "markdown",
   "metadata": {},
   "source": [
    "## Finding customers"
   ]
  },
  {
   "cell_type": "code",
   "execution_count": null,
   "metadata": {},
   "outputs": [],
   "source": [
    "# Find customer by email\n",
    "customers = sapi.customers.fetch(email='john.doe@example.com')\n",
    "\n",
    "if customers.data:\n",
    "    found_customer = customers.data[0]\n",
    "    print(f\"Found customer: {found_customer.name} ({found_customer.email})\")\n",
    "else:\n",
    "    print(\"Customer not found\")"
   ]
  },
  {
   "cell_type": "markdown",
   "metadata": {},
   "source": [
    "## Using helper methods"
   ]
  },
  {
   "cell_type": "code",
   "execution_count": null,
   "metadata": {},
   "outputs": [],
   "source": [
    "# Use FastStripe's find_product helper\n",
    "existing_customer = sapi.find_product('John Doe')  # This will need to be adapted for customers\n",
    "\n",
    "# List recent customers\n",
    "recent_customers = sapi.customers.fetch(limit=5)\n",
    "print(f\"Recent customers: {len(recent_customers.data)}\")\n",
    "\n",
    "for customer in recent_customers.data:\n",
    "    print(f\"- {customer.name or 'No name'} ({customer.email})\")"
   ]
  },
  {
   "cell_type": "markdown",
   "metadata": {},
   "source": [
    "## Updating customers"
   ]
  },
  {
   "cell_type": "code",
   "execution_count": null,
   "metadata": {},
   "outputs": [],
   "source": [
    "# Update customer information\n",
    "updated_customer = sapi.customers.update(\n",
    "    customer.id,\n",
    "    description='Premium plan customer',\n",
    "    metadata={\n",
    "        'plan': 'premium',\n",
    "        'updated_date': '2024-01-20'\n",
    "    }\n",
    ")\n",
    "\n",
    "print(f\"Updated customer description: {updated_customer.description}\")"
   ]
  },
  {
   "cell_type": "markdown",
   "metadata": {},
   "source": [
    "## Customer payment methods"
   ]
  },
  {
   "cell_type": "code",
   "execution_count": null,
   "metadata": {},
   "outputs": [],
   "source": [
    "# List customer's payment methods\n",
    "payment_methods = sapi.payment_methods.fetch(\n",
    "    customer=customer.id,\n",
    "    type='card'\n",
    ")\n",
    "\n",
    "print(f\"Customer has {len(payment_methods.data)} payment methods\")\n",
    "\n",
    "for pm in payment_methods.data:\n",
    "    if pm.card:\n",
    "        print(f\"- {pm.card.brand} ending in {pm.card.last4}\")"
   ]
  },
  {
   "cell_type": "markdown",
   "metadata": {},
   "source": [
    "## Customer subscriptions"
   ]
  },
  {
   "cell_type": "code",
   "execution_count": null,
   "metadata": {},
   "outputs": [],
   "source": [
    "# Get customer's subscriptions\n",
    "subscriptions = sapi.subscriptions.fetch(customer=customer.id)\n",
    "\n",
    "print(f\"Customer has {len(subscriptions.data)} subscriptions\")\n",
    "\n",
    "for sub in subscriptions.data:\n",
    "    print(f\"- Subscription {sub.id}: {sub.status}\")\n",
    "    if sub.items.data:\n",
    "        item = sub.items.data[0]\n",
    "        amount = item.price.unit_amount / 100\n",
    "        print(f\"  Amount: ${amount:.2f}/{item.price.recurring.interval}\")"
   ]
  },
  {
   "cell_type": "markdown",
   "metadata": {},
   "source": [
    "## Customer invoices"
   ]
  },
  {
   "cell_type": "code",
   "execution_count": null,
   "metadata": {},
   "outputs": [],
   "source": [
    "# Get customer's invoices\n",
    "invoices = sapi.invoices.fetch(customer=customer.id, limit=5)\n",
    "\n",
    "print(f\"Customer has {len(invoices.data)} recent invoices\")\n",
    "\n",
    "for invoice in invoices.data:\n",
    "    amount = invoice.amount_paid / 100\n",
    "    print(f\"- Invoice {invoice.number}: ${amount:.2f} ({invoice.status})\")"
   ]
  },
  {
   "cell_type": "markdown",
   "metadata": {},
   "source": [
    "## Best practices\n",
    "\n",
    "- Always store your internal user ID in the customer's metadata\n",
    "- Use meaningful descriptions for easier identification in the dashboard\n",
    "- Keep customer email addresses up to date for receipts and communication\n",
    "- Use the address field for tax calculation and compliance\n",
    "- Consider customer data privacy and GDPR compliance when storing information"
   ]
  }
 ],
 "metadata": {
  "kernelspec": {
   "display_name": "python3",
   "language": "python",
   "name": "python3"
  }
 },
 "nbformat": 4,
 "nbformat_minor": 4
}
