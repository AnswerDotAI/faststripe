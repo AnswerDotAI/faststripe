{
 "cells": [
  {
   "cell_type": "markdown",
   "metadata": {},
   "source": [
    "# How to Accept One-Time Payments\n",
    "\n",
    "> Create payment links for single purchases"
   ]
  },
  {
   "cell_type": "markdown",
   "metadata": {},
   "source": [
    "This guide shows you how to create one-time payment links using FastStripe's simplified API.\n",
    "\n",
    "## Problem\n",
    "\n",
    "You want to accept a one-time payment for a product or service without dealing with the complexity of creating products, prices, and checkout sessions manually.\n",
    "\n",
    "## Solution\n",
    "\n",
    "Use FastStripe's `one_time_payment()` method which handles all the setup automatically."
   ]
  },
  {
   "cell_type": "code",
   "execution_count": null,
   "metadata": {},
   "outputs": [],
   "source": [
    "from faststripe.core import StripeApi\n",
    "import os\n",
    "\n",
    "# Initialize the API\n",
    "sapi = StripeApi(os.environ['STRIPE_SECRET_KEY'])"
   ]
  },
  {
   "cell_type": "markdown",
   "metadata": {},
   "source": [
    "## Basic one-time payment"
   ]
  },
  {
   "cell_type": "code",
   "execution_count": null,
   "metadata": {},
   "outputs": [],
   "source": [
    "# Create a simple payment link\n",
    "checkout = sapi.one_time_payment(\n",
    "    product_name='Digital Course',\n",
    "    amount_cents=4999,  # $49.99\n",
    "    success_url='https://yoursite.com/success',\n",
    "    cancel_url='https://yoursite.com/cancel'\n",
    ")\n",
    "\n",
    "print(f\"Payment URL: {checkout.url}\")"
   ]
  },
  {
   "cell_type": "markdown",
   "metadata": {},
   "source": [
    "## Different currencies\n",
    "\n",
    "FastStripe supports all currencies that Stripe accepts:"
   ]
  },
  {
   "cell_type": "code",
   "execution_count": null,
   "metadata": {},
   "outputs": [],
   "source": [
    "# Euro payment\n",
    "eur_checkout = sapi.one_time_payment(\n",
    "    product_name='European Product',\n",
    "    amount_cents=2500,  # €25.00\n",
    "    success_url='https://yoursite.com/success',\n",
    "    cancel_url='https://yoursite.com/cancel',\n",
    "    currency='eur'\n",
    ")\n",
    "\n",
    "print(f\"EUR Payment URL: {eur_checkout.url}\")"
   ]
  },
  {
   "cell_type": "markdown",
   "metadata": {},
   "source": [
    "## Manual approach\n",
    "\n",
    "If you need more control, you can create products, prices, and checkout sessions manually:"
   ]
  },
  {
   "cell_type": "code",
   "execution_count": null,
   "metadata": {},
   "outputs": [],
   "source": [
    "# Create product\n",
    "product = sapi.products.create(\n",
    "    name='Advanced Course',\n",
    "    description='Complete Python development course'\n",
    ")\n",
    "\n",
    "# Create price\n",
    "price = sapi.prices.create(\n",
    "    product=product.id,\n",
    "    unit_amount=9999,  # $99.99\n",
    "    currency='usd'\n",
    ")\n",
    "\n",
    "# Create checkout session\n",
    "checkout = sapi.checkout_sessions.create(\n",
    "    mode='payment',\n",
    "    line_items=[{\n",
    "        'price': price.id,\n",
    "        'quantity': 1\n",
    "    }],\n",
    "    success_url='https://yoursite.com/success',\n",
    "    cancel_url='https://yoursite.com/cancel'\n",
    ")\n",
    "\n",
    "print(f\"Manual checkout URL: {checkout.url}\")"
   ]
  },
  {
   "cell_type": "markdown",
   "metadata": {},
   "source": [
    "## Tips\n",
    "\n",
    "- Use test mode (keys starting with `sk_test_`) during development\n",
    "- FastStripe automatically creates products and prices if they don't exist\n",
    "- Store the checkout session ID for tracking payments\n",
    "- Use webhooks to handle successful payments in your application"
   ]
  }
 ],
 "metadata": {
  "kernelspec": {
   "display_name": "python3",
   "language": "python",
   "name": "python3"
  }
 },
 "nbformat": 4,
 "nbformat_minor": 4
}
