{
 "cells": [
  {
   "cell_type": "code",
   "execution_count": null,
   "metadata": {},
   "outputs": [],
   "source": [
    "#| default_exp spec"
   ]
  },
  {
   "cell_type": "code",
   "execution_count": null,
   "metadata": {},
   "outputs": [],
   "source": [
    "#| export\n",
    "from fastcore.all import *\n",
    "\n",
    "import os, pprint"
   ]
  },
  {
   "cell_type": "code",
   "execution_count": null,
   "metadata": {},
   "outputs": [
    {
     "data": {
      "text/html": [
       "<pre style=\"white-space:pre;overflow-x:auto;line-height:normal;font-family:Menlo,'DejaVu Sans Mono',consolas,'Courier New',monospace\"></pre>\n"
      ],
      "text/plain": []
     },
     "metadata": {},
     "output_type": "display_data"
    },
    {
     "data": {
      "text/plain": [
       "\u001b[1;35mdict_keys\u001b[0m\u001b[1m(\u001b[0m\u001b[1m[\u001b[0m\u001b[32m'components'\u001b[0m, \u001b[32m'info'\u001b[0m, \u001b[32m'openapi'\u001b[0m, \u001b[32m'paths'\u001b[0m, \u001b[32m'security'\u001b[0m, \u001b[32m'servers'\u001b[0m\u001b[1m]\u001b[0m\u001b[1m)\u001b[0m"
      ]
     },
     "execution_count": null,
     "metadata": {},
     "output_type": "execute_result"
    }
   ],
   "source": [
    "stripe_openapi_url = 'https://raw.githubusercontent.com/stripe/openapi/refs/heads/master/openapi/spec3.json'\n",
    "stripe_spec = urlsend(stripe_openapi_url, 'GET', return_json=True)\n",
    "stripe_spec.keys()"
   ]
  },
  {
   "cell_type": "markdown",
   "metadata": {},
   "source": [
    "The OpenAPI spec describes how a particular REST API works. The most important part of this spec is the paths that are defined by a particular spec. This defines what you can do with a particular API and usually includes things like the description of endpoint, expected parameters, the description of the parameters, and a schema of what will be returned from a particular endpoint."
   ]
  },
  {
   "cell_type": "code",
   "execution_count": null,
   "metadata": {},
   "outputs": [
    {
     "data": {
      "text/html": [
       "<pre style=\"white-space:pre;overflow-x:auto;line-height:normal;font-family:Menlo,'DejaVu Sans Mono',consolas,'Courier New',monospace\"></pre>\n"
      ],
      "text/plain": []
     },
     "metadata": {},
     "output_type": "display_data"
    },
    {
     "data": {
      "text/plain": [
       "\u001b[1m(\u001b[0m\u001b[32m'/v1/account'\u001b[0m, \u001b[1;35mdict_keys\u001b[0m\u001b[1m(\u001b[0m\u001b[1m[\u001b[0m\u001b[32m'get'\u001b[0m\u001b[1m]\u001b[0m\u001b[1m)\u001b[0m\u001b[1m)\u001b[0m"
      ]
     },
     "execution_count": null,
     "metadata": {},
     "output_type": "execute_result"
    }
   ],
   "source": [
    "path, verbs = first(stripe_spec['paths'].items())\n",
    "path, verbs.keys()"
   ]
  },
  {
   "cell_type": "code",
   "execution_count": null,
   "metadata": {},
   "outputs": [
    {
     "data": {
      "text/html": [
       "<pre style=\"white-space:pre;overflow-x:auto;line-height:normal;font-family:Menlo,'DejaVu Sans Mono',consolas,'Courier New',monospace\"></pre>\n"
      ],
      "text/plain": []
     },
     "metadata": {},
     "output_type": "display_data"
    },
    {
     "data": {
      "text/plain": [
       "\u001b[1;35mdict_keys\u001b[0m\u001b[1m(\u001b[0m\u001b[1m[\u001b[0m\u001b[32m'description'\u001b[0m, \u001b[32m'operationId'\u001b[0m, \u001b[32m'parameters'\u001b[0m, \u001b[32m'requestBody'\u001b[0m, \u001b[32m'responses'\u001b[0m, \u001b[32m'summary'\u001b[0m\u001b[1m]\u001b[0m\u001b[1m)\u001b[0m"
      ]
     },
     "execution_count": null,
     "metadata": {},
     "output_type": "execute_result"
    }
   ],
   "source": [
    "verbs['get'].keys()"
   ]
  },
  {
   "cell_type": "markdown",
   "metadata": {},
   "source": [
    "As we can see here, the account path has a single HTTP verb that we can use on it called GET. The verb + path is what we refer to as an endpoint. This endpoint allows us to get the account details for a stripe."
   ]
  },
  {
   "cell_type": "code",
   "execution_count": null,
   "metadata": {},
   "outputs": [
    {
     "data": {
      "text/html": [
       "<pre style=\"white-space:pre;overflow-x:auto;line-height:normal;font-family:Menlo,'DejaVu Sans Mono',consolas,'Courier New',monospace\"></pre>\n"
      ],
      "text/plain": []
     },
     "metadata": {},
     "output_type": "display_data"
    },
    {
     "data": {
      "text/plain": [
       "\u001b[32m'https://api.stripe.com/v1/account'\u001b[0m"
      ]
     },
     "execution_count": null,
     "metadata": {},
     "output_type": "execute_result"
    }
   ],
   "source": [
    "stripe_api_url = 'https://api.stripe.com'\n",
    "ep = stripe_api_url + path\n",
    "ep"
   ]
  },
  {
   "cell_type": "code",
   "execution_count": null,
   "metadata": {},
   "outputs": [
    {
     "data": {
      "text/html": [
       "<pre style=\"white-space:pre;overflow-x:auto;line-height:normal;font-family:Menlo,'DejaVu Sans Mono',consolas,'Courier New',monospace\"></pre>\n"
      ],
      "text/plain": []
     },
     "metadata": {},
     "output_type": "display_data"
    },
    {
     "data": {
      "text/plain": [
       "\u001b[1;35mdict_keys\u001b[0m\u001b[1m(\u001b[0m\u001b[1m[\u001b[0m\u001b[32m'id'\u001b[0m, \u001b[32m'object'\u001b[0m, \u001b[32m'business_type'\u001b[0m, \u001b[32m'capabilities'\u001b[0m, \u001b[32m'charges_enabled'\u001b[0m, \u001b[32m'country'\u001b[0m, \u001b[32m'default_currency'\u001b[0m, \u001b[32m'details_submitted'\u001b[0m, \u001b[32m'payouts_enabled'\u001b[0m, \u001b[32m'settings'\u001b[0m, \u001b[32m'type'\u001b[0m\u001b[1m]\u001b[0m\u001b[1m)\u001b[0m"
      ]
     },
     "execution_count": null,
     "metadata": {},
     "output_type": "execute_result"
    }
   ],
   "source": [
    "stripe_key = os.environ['STRIPE_SECRET_KEY']\n",
    "headers = {'Authorization': f'Bearer {stripe_key}'}\n",
    "resp = urlsend(ep, 'GET', headers=headers)\n",
    "resp.keys()"
   ]
  },
  {
   "cell_type": "markdown",
   "metadata": {},
   "source": [
    "Some of these endpoints will take parameters if they are GET verbs or request bodies. POST verbs. Here is an example for the GET customers endpoint"
   ]
  },
  {
   "cell_type": "code",
   "execution_count": null,
   "metadata": {},
   "outputs": [
    {
     "data": {
      "text/html": [
       "<pre style=\"white-space:pre;overflow-x:auto;line-height:normal;font-family:Menlo,'DejaVu Sans Mono',consolas,'Courier New',monospace\"></pre>\n"
      ],
      "text/plain": []
     },
     "metadata": {},
     "output_type": "display_data"
    },
    {
     "data": {
      "text/plain": [
       "\n",
       "\u001b[1m{\u001b[0m\n",
       "    \u001b[32m'description'\u001b[0m: \u001b[32m'Only return customers that were created during the given date interval.'\u001b[0m,\n",
       "    \u001b[32m'explode'\u001b[0m: \u001b[3;92mTrue\u001b[0m,\n",
       "    \u001b[32m'in'\u001b[0m: \u001b[32m'query'\u001b[0m,\n",
       "    \u001b[32m'name'\u001b[0m: \u001b[32m'created'\u001b[0m,\n",
       "    \u001b[32m'required'\u001b[0m: \u001b[3;91mFalse\u001b[0m,\n",
       "    \u001b[32m'schema'\u001b[0m: \u001b[1m{\u001b[0m\n",
       "        \u001b[32m'anyOf'\u001b[0m: \u001b[1m[\u001b[0m\n",
       "            \u001b[1m{\u001b[0m\n",
       "                \u001b[32m'properties'\u001b[0m: \u001b[1m{\u001b[0m\n",
       "                    \u001b[32m'gt'\u001b[0m: \u001b[1m{\u001b[0m\u001b[32m'type'\u001b[0m: \u001b[32m'integer'\u001b[0m\u001b[1m}\u001b[0m,\n",
       "                    \u001b[32m'gte'\u001b[0m: \u001b[1m{\u001b[0m\u001b[32m'type'\u001b[0m: \u001b[32m'integer'\u001b[0m\u001b[1m}\u001b[0m,\n",
       "                    \u001b[32m'lt'\u001b[0m: \u001b[1m{\u001b[0m\u001b[32m'type'\u001b[0m: \u001b[32m'integer'\u001b[0m\u001b[1m}\u001b[0m,\n",
       "                    \u001b[32m'lte'\u001b[0m: \u001b[1m{\u001b[0m\u001b[32m'type'\u001b[0m: \u001b[32m'integer'\u001b[0m\u001b[1m}\u001b[0m\n",
       "                \u001b[1m}\u001b[0m,\n",
       "                \u001b[32m'title'\u001b[0m: \u001b[32m'range_query_specs'\u001b[0m,\n",
       "                \u001b[32m'type'\u001b[0m: \u001b[32m'object'\u001b[0m\n",
       "            \u001b[1m}\u001b[0m,\n",
       "            \u001b[1m{\u001b[0m\u001b[32m'type'\u001b[0m: \u001b[32m'integer'\u001b[0m\u001b[1m}\u001b[0m\n",
       "        \u001b[1m]\u001b[0m\n",
       "    \u001b[1m}\u001b[0m,\n",
       "    \u001b[32m'style'\u001b[0m: \u001b[32m'deepObject'\u001b[0m\n",
       "\u001b[1m}\u001b[0m"
      ]
     },
     "execution_count": null,
     "metadata": {},
     "output_type": "execute_result"
    }
   ],
   "source": [
    "path, verbs = first(stripe_spec['paths'].items(), lambda x: x[0] == '/v1/customers')\n",
    "verbs['get']['parameters'][0]"
   ]
  },
  {
   "cell_type": "markdown",
   "metadata": {},
   "source": [
    "And here is one for a post"
   ]
  },
  {
   "cell_type": "code",
   "execution_count": null,
   "metadata": {},
   "outputs": [
    {
     "data": {
      "text/html": [
       "<pre style=\"white-space:pre;overflow-x:auto;line-height:normal;font-family:Menlo,'DejaVu Sans Mono',consolas,'Courier New',monospace\"></pre>\n"
      ],
      "text/plain": []
     },
     "metadata": {},
     "output_type": "display_data"
    },
    {
     "data": {
      "text/plain": [
       "\n",
       "\u001b[1m(\u001b[0m\n",
       "    \u001b[32m'address'\u001b[0m,\n",
       "    \u001b[1m{\u001b[0m\n",
       "        \u001b[32m'anyOf'\u001b[0m: \u001b[1m[\u001b[0m\n",
       "            \u001b[1m{\u001b[0m\n",
       "                \u001b[32m'properties'\u001b[0m: \u001b[1m{\u001b[0m\n",
       "                    \u001b[32m'city'\u001b[0m: \u001b[1m{\u001b[0m\u001b[32m'maxLength'\u001b[0m: \u001b[1;36m5000\u001b[0m, \u001b[32m'type'\u001b[0m: \u001b[32m'string'\u001b[0m\u001b[1m}\u001b[0m,\n",
       "                    \u001b[32m'country'\u001b[0m: \u001b[1m{\u001b[0m\u001b[32m'maxLength'\u001b[0m: \u001b[1;36m5000\u001b[0m, \u001b[32m'type'\u001b[0m: \u001b[32m'string'\u001b[0m\u001b[1m}\u001b[0m,\n",
       "                    \u001b[32m'line1'\u001b[0m: \u001b[1m{\u001b[0m\u001b[32m'maxLength'\u001b[0m: \u001b[1;36m5000\u001b[0m, \u001b[32m'type'\u001b[0m: \u001b[32m'string'\u001b[0m\u001b[1m}\u001b[0m,\n",
       "                    \u001b[32m'line2'\u001b[0m: \u001b[1m{\u001b[0m\u001b[32m'maxLength'\u001b[0m: \u001b[1;36m5000\u001b[0m, \u001b[32m'type'\u001b[0m: \u001b[32m'string'\u001b[0m\u001b[1m}\u001b[0m,\n",
       "                    \u001b[32m'postal_code'\u001b[0m: \u001b[1m{\u001b[0m\u001b[32m'maxLength'\u001b[0m: \u001b[1;36m5000\u001b[0m, \u001b[32m'type'\u001b[0m: \u001b[32m'string'\u001b[0m\u001b[1m}\u001b[0m,\n",
       "                    \u001b[32m'state'\u001b[0m: \u001b[1m{\u001b[0m\u001b[32m'maxLength'\u001b[0m: \u001b[1;36m5000\u001b[0m, \u001b[32m'type'\u001b[0m: \u001b[32m'string'\u001b[0m\u001b[1m}\u001b[0m\n",
       "                \u001b[1m}\u001b[0m,\n",
       "                \u001b[32m'title'\u001b[0m: \u001b[32m'optional_fields_customer_address'\u001b[0m,\n",
       "                \u001b[32m'type'\u001b[0m: \u001b[32m'object'\u001b[0m\n",
       "            \u001b[1m}\u001b[0m,\n",
       "            \u001b[1m{\u001b[0m\u001b[32m'enum'\u001b[0m: \u001b[1m[\u001b[0m\u001b[32m''\u001b[0m\u001b[1m]\u001b[0m, \u001b[32m'type'\u001b[0m: \u001b[32m'string'\u001b[0m\u001b[1m}\u001b[0m\n",
       "        \u001b[1m]\u001b[0m,\n",
       "        \u001b[32m'description'\u001b[0m: \u001b[32m\"The customer's address.\"\u001b[0m\n",
       "    \u001b[1m}\u001b[0m\n",
       "\u001b[1m)\u001b[0m"
      ]
     },
     "execution_count": null,
     "metadata": {},
     "output_type": "execute_result"
    }
   ],
   "source": [
    "first(nested_idx(verbs, *'post requestBody content application/x-www-form-urlencoded schema properties'.split()).items())"
   ]
  },
  {
   "cell_type": "markdown",
   "metadata": {},
   "source": [
    "Depending on the spec, the encoding might be json or form url encoded. For Stripe, form url encoded is used."
   ]
  },
  {
   "cell_type": "markdown",
   "metadata": {},
   "source": [
    "Finally, parameters can be inside the path itself"
   ]
  },
  {
   "cell_type": "code",
   "execution_count": null,
   "metadata": {},
   "outputs": [
    {
     "data": {
      "text/html": [
       "<pre style=\"white-space:pre;overflow-x:auto;line-height:normal;font-family:Menlo,'DejaVu Sans Mono',consolas,'Courier New',monospace\"></pre>\n"
      ],
      "text/plain": []
     },
     "metadata": {},
     "output_type": "display_data"
    },
    {
     "data": {
      "text/plain": [
       "\u001b[1m(\u001b[0m\u001b[32m'/v1/accounts/\u001b[0m\u001b[32m{\u001b[0m\u001b[32maccount\u001b[0m\u001b[32m}\u001b[0m\u001b[32m'\u001b[0m, \u001b[1;35mdict_keys\u001b[0m\u001b[1m(\u001b[0m\u001b[1m[\u001b[0m\u001b[32m'delete'\u001b[0m, \u001b[32m'get'\u001b[0m, \u001b[32m'post'\u001b[0m\u001b[1m]\u001b[0m\u001b[1m)\u001b[0m\u001b[1m)\u001b[0m"
      ]
     },
     "execution_count": null,
     "metadata": {},
     "output_type": "execute_result"
    }
   ],
   "source": [
    "path, verbs = first(stripe_spec['paths'].items(), lambda x: '{' in x[0])\n",
    "path, verbs.keys()"
   ]
  },
  {
   "cell_type": "markdown",
   "metadata": {},
   "source": [
    "`fastcore` luckily has some pretty nifty helper functions to deal with path parameters"
   ]
  },
  {
   "cell_type": "code",
   "execution_count": null,
   "metadata": {},
   "outputs": [
    {
     "data": {
      "text/html": [
       "<pre style=\"white-space:pre;overflow-x:auto;line-height:normal;font-family:Menlo,'DejaVu Sans Mono',consolas,'Courier New',monospace\"></pre>\n"
      ],
      "text/plain": []
     },
     "metadata": {},
     "output_type": "display_data"
    },
    {
     "data": {
      "text/plain": [
       "\u001b[1m[\u001b[0m\u001b[32m'account'\u001b[0m\u001b[1m]\u001b[0m"
      ]
     },
     "execution_count": null,
     "metadata": {},
     "output_type": "execute_result"
    }
   ],
   "source": [
    "path, *_ = partial_format(path)\n",
    "route_ps = stringfmt_names(path)\n",
    "route_ps"
   ]
  },
  {
   "cell_type": "markdown",
   "metadata": {},
   "source": [
    "For post parameters, we can get data type information that we can surface to developers."
   ]
  },
  {
   "cell_type": "code",
   "execution_count": null,
   "metadata": {},
   "outputs": [],
   "source": [
    "#| export\n",
    "_lu_type = dict(zip(\n",
    "    'NA string object array boolean number integer'.split(),\n",
    "    map(PrettyString,'object str dict list bool int int'.split())\n",
    "))"
   ]
  },
  {
   "cell_type": "code",
   "execution_count": null,
   "metadata": {},
   "outputs": [
    {
     "data": {
      "text/html": [
       "<pre style=\"white-space:pre;overflow-x:auto;line-height:normal;font-family:Menlo,'DejaVu Sans Mono',consolas,'Courier New',monospace\"></pre>\n"
      ],
      "text/plain": []
     },
     "metadata": {},
     "output_type": "display_data"
    },
    {
     "data": {
      "text/plain": [
       "\n",
       "\u001b[1m{\u001b[0m\n",
       "    \u001b[32m'NA'\u001b[0m: object,\n",
       "    \u001b[32m'string'\u001b[0m: str,\n",
       "    \u001b[32m'object'\u001b[0m: dict,\n",
       "    \u001b[32m'array'\u001b[0m: list,\n",
       "    \u001b[32m'boolean'\u001b[0m: bool,\n",
       "    \u001b[32m'number'\u001b[0m: int,\n",
       "    \u001b[32m'integer'\u001b[0m: int\n",
       "\u001b[1m}\u001b[0m"
      ]
     },
     "execution_count": null,
     "metadata": {},
     "output_type": "execute_result"
    }
   ],
   "source": [
    "_lu_type"
   ]
  },
  {
   "cell_type": "code",
   "execution_count": null,
   "metadata": {},
   "outputs": [],
   "source": [
    "#| export\n",
    "def _find_data(v, encoding='application/json'):\n",
    "    'Finds the properties in a schema'\n",
    "    schema = nested_idx(v, *f'requestBody content {encoding} schema'.split())\n",
    "    if not schema: return {}\n",
    "    if 'properties' in schema: return schema['properties']\n",
    "    if 'oneOf' in schema:\n",
    "        for o in schema['oneOf']:\n",
    "            if 'properties' in o: return o['properties']\n",
    "    return {}"
   ]
  },
  {
   "cell_type": "code",
   "execution_count": null,
   "metadata": {},
   "outputs": [
    {
     "data": {
      "text/html": [
       "<pre style=\"white-space:pre;overflow-x:auto;line-height:normal;font-family:Menlo,'DejaVu Sans Mono',consolas,'Courier New',monospace\"></pre>\n"
      ],
      "text/plain": []
     },
     "metadata": {},
     "output_type": "display_data"
    },
    {
     "data": {
      "text/plain": [
       "\n",
       "\u001b[1m(\u001b[0m\n",
       "    \u001b[32m'account_token'\u001b[0m,\n",
       "    \u001b[1m{\u001b[0m\n",
       "        \u001b[32m'description'\u001b[0m: \u001b[32m'An \u001b[0m\u001b[32m[\u001b[0m\u001b[32maccount token\u001b[0m\u001b[32m]\u001b[0m\u001b[32m(\u001b[0m\u001b[32mhttps://stripe.com/docs/api#create_account_token\u001b[0m\u001b[32m)\u001b[0m\u001b[32m, used to securely provide details to the account.'\u001b[0m,\n",
       "        \u001b[32m'maxLength'\u001b[0m: \u001b[1;36m5000\u001b[0m,\n",
       "        \u001b[32m'type'\u001b[0m: \u001b[32m'string'\u001b[0m\n",
       "    \u001b[1m}\u001b[0m\n",
       "\u001b[1m)\u001b[0m"
      ]
     },
     "execution_count": null,
     "metadata": {},
     "output_type": "execute_result"
    }
   ],
   "source": [
    "d = first(_find_data(verbs['post'], 'application/x-www-form-urlencoded').items())\n",
    "d"
   ]
  },
  {
   "cell_type": "code",
   "execution_count": null,
   "metadata": {},
   "outputs": [],
   "source": [
    "#| export\n",
    "def _deets(k,v):\n",
    "    'Extracts the type and default value from a schema'\n",
    "    return {'name': k, 'description': v.get('description', ''),\n",
    "        'annotation': _lu_type[v.get('type', 'NA')], 'default' : v.get('default', None)}"
   ]
  },
  {
   "cell_type": "code",
   "execution_count": null,
   "metadata": {},
   "outputs": [
    {
     "data": {
      "text/html": [
       "<pre style=\"white-space:pre;overflow-x:auto;line-height:normal;font-family:Menlo,'DejaVu Sans Mono',consolas,'Courier New',monospace\"></pre>\n"
      ],
      "text/plain": []
     },
     "metadata": {},
     "output_type": "display_data"
    },
    {
     "data": {
      "text/plain": [
       "\n",
       "\u001b[1m{\u001b[0m\n",
       "    \u001b[32m'name'\u001b[0m: \u001b[32m'account_token'\u001b[0m,\n",
       "    \u001b[32m'description'\u001b[0m: \u001b[32m'An \u001b[0m\u001b[32m[\u001b[0m\u001b[32maccount token\u001b[0m\u001b[32m]\u001b[0m\u001b[32m(\u001b[0m\u001b[32mhttps://stripe.com/docs/api#create_account_token\u001b[0m\u001b[32m)\u001b[0m\u001b[32m, used to securely provide details to the account.'\u001b[0m,\n",
       "    \u001b[32m'annotation'\u001b[0m: str,\n",
       "    \u001b[32m'default'\u001b[0m: \u001b[3;35mNone\u001b[0m\n",
       "\u001b[1m}\u001b[0m"
      ]
     },
     "execution_count": null,
     "metadata": {},
     "output_type": "execute_result"
    }
   ],
   "source": [
    "deets = _deets(*d)\n",
    "deets"
   ]
  },
  {
   "cell_type": "markdown",
   "metadata": {},
   "source": [
    "While get requests can technically also have bodies, these are normally ignored by HTTP servers."
   ]
  },
  {
   "cell_type": "markdown",
   "metadata": {},
   "source": [
    "The data we care most about for interfacing with an OpenAPI spec are the data, operation id, query parameters, summary, and url. So, lets make a helper function to grab these tidbits"
   ]
  },
  {
   "cell_type": "code",
   "execution_count": null,
   "metadata": {},
   "outputs": [],
   "source": [
    "#| export\n",
    "def _info(desc):\n",
    "    # handle both json and form-urlencoded\n",
    "    data = _find_data(desc, 'application/json') | _find_data(desc, 'application/x-www-form-urlencoded')\n",
    "    data = [_deets(*o) for o in data.items()]\n",
    "\n",
    "    params = desc.get('parameters',None)\n",
    "    qparams = [{'name': p['name'], 'description': p.get('description', '')}\n",
    "               for p in params if p.get('in')=='query'] if params else []\n",
    "    return {'data': data, 'op_id': desc.get('operationId',''),\n",
    "            'qparams': qparams, 'summary': desc.get('summary','')}"
   ]
  },
  {
   "cell_type": "code",
   "execution_count": null,
   "metadata": {},
   "outputs": [
    {
     "data": {
      "text/html": [
       "<pre style=\"white-space:pre;overflow-x:auto;line-height:normal;font-family:Menlo,'DejaVu Sans Mono',consolas,'Courier New',monospace\"></pre>\n"
      ],
      "text/plain": []
     },
     "metadata": {},
     "output_type": "display_data"
    },
    {
     "data": {
      "text/plain": [
       "\n",
       "\u001b[1m(\u001b[0m\n",
       "    \u001b[3;35mNone\u001b[0m,\n",
       "    \u001b[32m'GetAccountsAccount'\u001b[0m,\n",
       "    \u001b[1m{\u001b[0m\u001b[32m'name'\u001b[0m: \u001b[32m'expand'\u001b[0m, \u001b[32m'description'\u001b[0m: \u001b[32m'Specifies which fields in the response should be expanded.'\u001b[0m\u001b[1m}\u001b[0m,\n",
       "    \u001b[32m'Retrieve account'\u001b[0m\n",
       "\u001b[1m)\u001b[0m"
      ]
     },
     "execution_count": null,
     "metadata": {},
     "output_type": "execute_result"
    }
   ],
   "source": [
    "info = _info(verbs['get'])\n",
    "first(info['data']), info['op_id'], first(info['qparams']), info['summary']"
   ]
  },
  {
   "cell_type": "code",
   "execution_count": null,
   "metadata": {},
   "outputs": [
    {
     "data": {
      "text/html": [
       "<pre style=\"white-space:pre;overflow-x:auto;line-height:normal;font-family:Menlo,'DejaVu Sans Mono',consolas,'Courier New',monospace\"></pre>\n"
      ],
      "text/plain": []
     },
     "metadata": {},
     "output_type": "display_data"
    },
    {
     "data": {
      "text/plain": [
       "\n",
       "\u001b[1m(\u001b[0m\n",
       "    \u001b[1m{\u001b[0m\n",
       "        \u001b[32m'name'\u001b[0m: \u001b[32m'account_token'\u001b[0m,\n",
       "        \u001b[32m'description'\u001b[0m: \u001b[32m'An \u001b[0m\u001b[32m[\u001b[0m\u001b[32maccount token\u001b[0m\u001b[32m]\u001b[0m\u001b[32m(\u001b[0m\u001b[32mhttps://stripe.com/docs/api#create_account_token\u001b[0m\u001b[32m)\u001b[0m\u001b[32m, used to securely provide details to the account.'\u001b[0m,\n",
       "        \u001b[32m'annotation'\u001b[0m: str,\n",
       "        \u001b[32m'default'\u001b[0m: \u001b[3;35mNone\u001b[0m\n",
       "    \u001b[1m}\u001b[0m,\n",
       "    \u001b[32m'PostAccountsAccount'\u001b[0m,\n",
       "    \u001b[3;35mNone\u001b[0m,\n",
       "    \u001b[32m'Update an account'\u001b[0m\n",
       "\u001b[1m)\u001b[0m"
      ]
     },
     "execution_count": null,
     "metadata": {},
     "output_type": "execute_result"
    }
   ],
   "source": [
    "info = _info(verbs['post'])\n",
    "first(info['data']), info['op_id'], first(info['qparams']), info['summary']"
   ]
  },
  {
   "cell_type": "code",
   "execution_count": null,
   "metadata": {},
   "outputs": [],
   "source": [
    "#| export\n",
    "def build_eps(url):\n",
    "    \"Build module metadata.py from an Open API spec and optionally filter by a path `pre`\"\n",
    "    spec = urlsend(url, 'GET', return_json=True)\n",
    "    _funcs = [{'path': p, 'verb': v, **_info(desc)}\n",
    "              for p, vs in spec['paths'].items() for v, desc in vs.items()]\n",
    "    return _funcs"
   ]
  },
  {
   "cell_type": "code",
   "execution_count": null,
   "metadata": {},
   "outputs": [
    {
     "data": {
      "text/html": [
       "<pre style=\"white-space:pre;overflow-x:auto;line-height:normal;font-family:Menlo,'DejaVu Sans Mono',consolas,'Courier New',monospace\"></pre>\n"
      ],
      "text/plain": []
     },
     "metadata": {},
     "output_type": "display_data"
    },
    {
     "data": {
      "text/plain": [
       "\n",
       "\u001b[1m{\u001b[0m\n",
       "    \u001b[32m'path'\u001b[0m: \u001b[32m'/v1/account'\u001b[0m,\n",
       "    \u001b[32m'verb'\u001b[0m: \u001b[32m'get'\u001b[0m,\n",
       "    \u001b[32m'data'\u001b[0m: \u001b[1m[\u001b[0m\u001b[1m]\u001b[0m,\n",
       "    \u001b[32m'op_id'\u001b[0m: \u001b[32m'GetAccount'\u001b[0m,\n",
       "    \u001b[32m'qparams'\u001b[0m: \u001b[1m[\u001b[0m\n",
       "        \u001b[1m{\u001b[0m\n",
       "            \u001b[32m'name'\u001b[0m: \u001b[32m'expand'\u001b[0m,\n",
       "            \u001b[32m'description'\u001b[0m: \u001b[32m'Specifies which fields in the response should be expanded.'\u001b[0m\n",
       "        \u001b[1m}\u001b[0m\n",
       "    \u001b[1m]\u001b[0m,\n",
       "    \u001b[32m'summary'\u001b[0m: \u001b[32m'Retrieve account'\u001b[0m\n",
       "\u001b[1m}\u001b[0m"
      ]
     },
     "execution_count": null,
     "metadata": {},
     "output_type": "execute_result"
    }
   ],
   "source": [
    "eps = build_eps(stripe_openapi_url)\n",
    "eps[0]"
   ]
  },
  {
   "cell_type": "code",
   "execution_count": null,
   "metadata": {},
   "outputs": [],
   "source": [
    "#| export\n",
    "@call_parse\n",
    "def update_version():\n",
    "    'Update the version to the latest version of the Stripe API and the endpoints file.'\n",
    "    cfg = Config.find(\"settings.ini\")\n",
    "    stripe_spec = urlsend(stripe_openapi_url, 'GET', return_json=True)\n",
    "    stripe_version = stripe_spec['info']['version'].split('.')[0].replace('-', '.')\n",
    "\n",
    "    if cfg.d['version'] == stripe_version: return\n",
    "    cfg.d['version'] = stripe_version\n",
    "    cfg.save()\n",
    "    eps = build_eps(stripe_openapi_url, stripe_api_url)\n",
    "    (cfg.config_path/'faststripe/endpoints.py').write_text(f'eps = {pprint.pformat(eps, width=360)}')\n",
    "    print(f'Updated version to {stripe_version}')"
   ]
  },
  {
   "cell_type": "code",
   "execution_count": null,
   "metadata": {},
   "outputs": [
    {
     "name": "stdout",
     "output_type": "stream",
     "text": [
      "Updated version to 2025.05.28\n"
     ]
    }
   ],
   "source": [
    "update_version()"
   ]
  },
  {
   "cell_type": "code",
   "execution_count": null,
   "metadata": {},
   "outputs": [],
   "source": [
    "#| hide\n",
    "import nbdev; nbdev.nbdev_export()"
   ]
  }
 ],
 "metadata": {
  "kernelspec": {
   "display_name": "python3",
   "language": "python",
   "name": "python3"
  }
 },
 "nbformat": 4,
 "nbformat_minor": 4
}
