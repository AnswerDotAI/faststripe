{
 "cells": [
  {
   "cell_type": "code",
   "execution_count": null,
   "metadata": {},
   "outputs": [],
   "source": [
    "#| default_exp spec"
   ]
  },
  {
   "cell_type": "code",
   "execution_count": null,
   "metadata": {},
   "outputs": [],
   "source": [
    "#| export\n",
    "from fastcore.all import *\n",
    "\n",
    "import os, pprint, re"
   ]
  },
  {
   "cell_type": "code",
   "execution_count": null,
   "metadata": {},
   "outputs": [
    {
     "data": {
      "text/plain": [
       "dict_keys(['components', 'info', 'openapi', 'paths', 'security', 'servers'])"
      ]
     },
     "execution_count": null,
     "metadata": {},
     "output_type": "execute_result"
    }
   ],
   "source": [
    "stripe_openapi_url = 'https://raw.githubusercontent.com/stripe/openapi/refs/heads/master/openapi/spec3.json'\n",
    "stripe_spec = urlsend(stripe_openapi_url, 'GET', return_json=True)\n",
    "stripe_spec.keys()"
   ]
  },
  {
   "cell_type": "markdown",
   "metadata": {},
   "source": [
    "https://docs.stripe.com/api/capabilities/update\n",
    "https://docs.stripe.com/api/persons/create?api-version=2025-03-31.basil"
   ]
  },
  {
   "cell_type": "markdown",
   "metadata": {},
   "source": [
    "The OpenAPI spec describes how a particular REST API works. The most important part of this spec is the paths that are defined by a particular spec. This defines what you can do with a particular API and usually includes things like the description of endpoint, expected parameters, the description of the parameters, and a schema of what will be returned from a particular endpoint."
   ]
  },
  {
   "cell_type": "code",
   "execution_count": null,
   "metadata": {},
   "outputs": [
    {
     "data": {
      "text/plain": [
       "('/v1/account', dict_keys(['get']))"
      ]
     },
     "execution_count": null,
     "metadata": {},
     "output_type": "execute_result"
    }
   ],
   "source": [
    "path, verbs = first(stripe_spec['paths'].items())\n",
    "path, verbs.keys()"
   ]
  },
  {
   "cell_type": "code",
   "execution_count": null,
   "metadata": {},
   "outputs": [
    {
     "data": {
      "text/plain": [
       "dict_keys(['description', 'operationId', 'parameters', 'requestBody', 'responses', 'summary'])"
      ]
     },
     "execution_count": null,
     "metadata": {},
     "output_type": "execute_result"
    }
   ],
   "source": [
    "verbs['get'].keys()"
   ]
  },
  {
   "cell_type": "markdown",
   "metadata": {},
   "source": [
    "As we can see here, the account path has a single HTTP verb that we can use on it called GET. The verb + path is what we refer to as an endpoint. This endpoint allows us to get the account details for a stripe."
   ]
  },
  {
   "cell_type": "code",
   "execution_count": null,
   "metadata": {},
   "outputs": [
    {
     "data": {
      "text/plain": [
       "'https://api.stripe.com/v1/account'"
      ]
     },
     "execution_count": null,
     "metadata": {},
     "output_type": "execute_result"
    }
   ],
   "source": [
    "stripe_api_url = 'https://api.stripe.com'\n",
    "ep = stripe_api_url + path\n",
    "ep"
   ]
  },
  {
   "cell_type": "code",
   "execution_count": null,
   "metadata": {},
   "outputs": [
    {
     "data": {
      "text/plain": [
       "dict_keys(['id', 'object', 'business_type', 'capabilities', 'charges_enabled', 'country', 'default_currency', 'details_submitted', 'payouts_enabled', 'settings', 'type'])"
      ]
     },
     "execution_count": null,
     "metadata": {},
     "output_type": "execute_result"
    }
   ],
   "source": [
    "stripe_key = os.environ['STRIPE_SECRET_KEY']\n",
    "headers = {'Authorization': f'Bearer {stripe_key}'}\n",
    "resp = urlsend(ep, 'GET', headers=headers)\n",
    "resp.keys()"
   ]
  },
  {
   "cell_type": "markdown",
   "metadata": {},
   "source": [
    "Some of these endpoints will take parameters if they are GET verbs or request bodies. POST verbs. Here is an example for the GET customers endpoint"
   ]
  },
  {
   "cell_type": "code",
   "execution_count": null,
   "metadata": {},
   "outputs": [
    {
     "data": {
      "text/plain": [
       "{'description': 'Only return customers that were created during the given date interval.',\n",
       " 'explode': True,\n",
       " 'in': 'query',\n",
       " 'name': 'created',\n",
       " 'required': False,\n",
       " 'schema': {'anyOf': [{'properties': {'gt': {'type': 'integer'},\n",
       "     'gte': {'type': 'integer'},\n",
       "     'lt': {'type': 'integer'},\n",
       "     'lte': {'type': 'integer'}},\n",
       "    'title': 'range_query_specs',\n",
       "    'type': 'object'},\n",
       "   {'type': 'integer'}]},\n",
       " 'style': 'deepObject'}"
      ]
     },
     "execution_count": null,
     "metadata": {},
     "output_type": "execute_result"
    }
   ],
   "source": [
    "path, verbs = first(stripe_spec['paths'].items(), lambda x: x[0] == '/v1/customers')\n",
    "verbs['get']['parameters'][0]"
   ]
  },
  {
   "cell_type": "markdown",
   "metadata": {},
   "source": [
    "And here is one for a post"
   ]
  },
  {
   "cell_type": "code",
   "execution_count": null,
   "metadata": {},
   "outputs": [
    {
     "data": {
      "text/plain": [
       "('address',\n",
       " {'anyOf': [{'properties': {'city': {'maxLength': 5000, 'type': 'string'},\n",
       "     'country': {'maxLength': 5000, 'type': 'string'},\n",
       "     'line1': {'maxLength': 5000, 'type': 'string'},\n",
       "     'line2': {'maxLength': 5000, 'type': 'string'},\n",
       "     'postal_code': {'maxLength': 5000, 'type': 'string'},\n",
       "     'state': {'maxLength': 5000, 'type': 'string'}},\n",
       "    'title': 'optional_fields_customer_address',\n",
       "    'type': 'object'},\n",
       "   {'enum': [''], 'type': 'string'}],\n",
       "  'description': \"The customer's address.\"})"
      ]
     },
     "execution_count": null,
     "metadata": {},
     "output_type": "execute_result"
    }
   ],
   "source": [
    "first(nested_idx(verbs, *'post requestBody content application/x-www-form-urlencoded schema properties'.split()).items())"
   ]
  },
  {
   "cell_type": "markdown",
   "metadata": {},
   "source": [
    "Depending on the spec, the encoding might be json or form url encoded. For Stripe, form url encoded is used."
   ]
  },
  {
   "cell_type": "markdown",
   "metadata": {},
   "source": [
    "Finally, parameters can be inside the path itself"
   ]
  },
  {
   "cell_type": "code",
   "execution_count": null,
   "metadata": {},
   "outputs": [
    {
     "data": {
      "text/plain": [
       "('/v1/accounts/{account}', dict_keys(['delete', 'get', 'post']))"
      ]
     },
     "execution_count": null,
     "metadata": {},
     "output_type": "execute_result"
    }
   ],
   "source": [
    "path, verbs = first(stripe_spec['paths'].items(), lambda x: '{' in x[0])\n",
    "path, verbs.keys()"
   ]
  },
  {
   "cell_type": "markdown",
   "metadata": {},
   "source": [
    "`fastcore` luckily has some pretty nifty helper functions to deal with path parameters"
   ]
  },
  {
   "cell_type": "code",
   "execution_count": null,
   "metadata": {},
   "outputs": [
    {
     "data": {
      "text/plain": [
       "['account']"
      ]
     },
     "execution_count": null,
     "metadata": {},
     "output_type": "execute_result"
    }
   ],
   "source": [
    "path, *_ = partial_format(path)\n",
    "route_ps = stringfmt_names(path)\n",
    "route_ps"
   ]
  },
  {
   "cell_type": "markdown",
   "metadata": {},
   "source": [
    "For post parameters, we can get data type information that we can surface to developers."
   ]
  },
  {
   "cell_type": "code",
   "execution_count": null,
   "metadata": {},
   "outputs": [],
   "source": [
    "#| export\n",
    "_lu_type = dict(zip(\n",
    "    'NA string object array boolean number integer'.split(),\n",
    "    map(PrettyString,'object str dict list bool int int'.split())\n",
    "))"
   ]
  },
  {
   "cell_type": "code",
   "execution_count": null,
   "metadata": {},
   "outputs": [
    {
     "data": {
      "text/plain": [
       "{'NA': object,\n",
       " 'string': str,\n",
       " 'object': dict,\n",
       " 'array': list,\n",
       " 'boolean': bool,\n",
       " 'number': int,\n",
       " 'integer': int}"
      ]
     },
     "execution_count": null,
     "metadata": {},
     "output_type": "execute_result"
    }
   ],
   "source": [
    "_lu_type"
   ]
  },
  {
   "cell_type": "code",
   "execution_count": null,
   "metadata": {},
   "outputs": [],
   "source": [
    "#| export\n",
    "def _find_data(v, encoding='application/json'):\n",
    "    'Finds the properties in a schema'\n",
    "    schema = nested_idx(v, *f'requestBody content {encoding} schema'.split())\n",
    "    if not schema: return {}\n",
    "    if 'properties' in schema: return schema['properties']\n",
    "    if 'oneOf' in schema:\n",
    "        for o in schema['oneOf']:\n",
    "            if 'properties' in o: return o['properties']\n",
    "    return {}"
   ]
  },
  {
   "cell_type": "code",
   "execution_count": null,
   "metadata": {},
   "outputs": [
    {
     "data": {
      "text/plain": [
       "('account_token',\n",
       " {'description': 'An [account token](https://stripe.com/docs/api#create_account_token), used to securely provide details to the account.',\n",
       "  'maxLength': 5000,\n",
       "  'type': 'string'})"
      ]
     },
     "execution_count": null,
     "metadata": {},
     "output_type": "execute_result"
    }
   ],
   "source": [
    "d = first(_find_data(verbs['post'], 'application/x-www-form-urlencoded').items())\n",
    "d"
   ]
  },
  {
   "cell_type": "code",
   "execution_count": null,
   "metadata": {},
   "outputs": [],
   "source": [
    "#| export\n",
    "def _deets(k,v):\n",
    "    'Extracts the type and default value from a schema'\n",
    "    return {'name': k, 'description': v.get('description', ''),\n",
    "        'annotation': _lu_type[v.get('type', 'NA')], 'default' : v.get('default', None)}"
   ]
  },
  {
   "cell_type": "code",
   "execution_count": null,
   "metadata": {},
   "outputs": [
    {
     "data": {
      "text/plain": [
       "{'name': 'account_token',\n",
       " 'description': 'An [account token](https://stripe.com/docs/api#create_account_token), used to securely provide details to the account.',\n",
       " 'annotation': str,\n",
       " 'default': None}"
      ]
     },
     "execution_count": null,
     "metadata": {},
     "output_type": "execute_result"
    }
   ],
   "source": [
    "deets = _deets(*d)\n",
    "deets"
   ]
  },
  {
   "cell_type": "markdown",
   "metadata": {},
   "source": [
    "While get requests can technically also have bodies, these are normally ignored by HTTP servers."
   ]
  },
  {
   "cell_type": "markdown",
   "metadata": {},
   "source": [
    "The data we care most about for interfacing with an OpenAPI spec are the data, operation id, query parameters, summary, and url. So, lets make a helper function to grab these tidbits"
   ]
  },
  {
   "cell_type": "code",
   "execution_count": null,
   "metadata": {},
   "outputs": [],
   "source": [
    "#| export\n",
    "def _info(desc):\n",
    "    # handle both json and form-urlencoded\n",
    "    data = _find_data(desc, 'application/json') | _find_data(desc, 'application/x-www-form-urlencoded')\n",
    "    data = [_deets(*o) for o in data.items()]\n",
    "\n",
    "    params = desc.get('parameters',None)\n",
    "    qparams = [{'name': p['name'], 'description': p.get('description', ''), 'annotation': 'str'}\n",
    "               for p in params if p.get('in')=='query'] if params else []\n",
    "    return {'data': data, 'op_id': desc.get('operationId',''),\n",
    "            'qparams': qparams, 'summary': desc.get('summary','')}"
   ]
  },
  {
   "cell_type": "code",
   "execution_count": null,
   "metadata": {},
   "outputs": [
    {
     "data": {
      "text/plain": [
       "(None,\n",
       " 'GetAccountsAccount',\n",
       " {'name': 'expand',\n",
       "  'description': 'Specifies which fields in the response should be expanded.',\n",
       "  'annotation': 'str'},\n",
       " 'Retrieve account')"
      ]
     },
     "execution_count": null,
     "metadata": {},
     "output_type": "execute_result"
    }
   ],
   "source": [
    "info = _info(verbs['get'])\n",
    "first(info['data']), info['op_id'], first(info['qparams']), info['summary']"
   ]
  },
  {
   "cell_type": "code",
   "execution_count": null,
   "metadata": {},
   "outputs": [
    {
     "data": {
      "text/plain": [
       "({'name': 'account_token',\n",
       "  'description': 'An [account token](https://stripe.com/docs/api#create_account_token), used to securely provide details to the account.',\n",
       "  'annotation': str,\n",
       "  'default': None},\n",
       " 'PostAccountsAccount',\n",
       " None,\n",
       " 'Update an account')"
      ]
     },
     "execution_count": null,
     "metadata": {},
     "output_type": "execute_result"
    }
   ],
   "source": [
    "info = _info(verbs['post'])\n",
    "first(info['data']), info['op_id'], first(info['qparams']), info['summary']"
   ]
  },
  {
   "cell_type": "code",
   "execution_count": null,
   "metadata": {},
   "outputs": [],
   "source": [
    "#| export\n",
    "docs_url = 'https://docs.stripe.com/api'"
   ]
  },
  {
   "cell_type": "code",
   "execution_count": null,
   "metadata": {},
   "outputs": [],
   "source": [
    "#| export\n",
    "def _slug(has_pparams, is_plural, verb):\n",
    "    'Return the slug for a verb'\n",
    "    match (has_pparams, is_plural, verb):\n",
    "        case (_, False, 'get'): return 'retrieve'\n",
    "        case (True, _, 'post'): return 'update'\n",
    "        case (False, _, 'get'): return 'list'\n",
    "        case (False, _, 'post'): return 'create'\n",
    "        case _: return 'delete'"
   ]
  },
  {
   "cell_type": "code",
   "execution_count": null,
   "metadata": {},
   "outputs": [],
   "source": [
    "#| export\n",
    "pat = r'/\\{[^}]+\\}'\n",
    "def _durl(path, verb):\n",
    "    'Return the doc url for a path and verb if it exists else None'\n",
    "    has_pparams = '{' in path\n",
    "    p = re.sub(pat, '', path)\n",
    "    is_plural = p.endswith('s')\n",
    "    if not is_plural: p += 's'\n",
    "    res = p.split('/')[-1]\n",
    "    slug = _slug(has_pparams, is_plural, verb)\n",
    "    return f'{docs_url}/{res}/{slug}'"
   ]
  },
  {
   "cell_type": "code",
   "execution_count": null,
   "metadata": {},
   "outputs": [
    {
     "data": {
      "text/plain": [
       "'https://docs.stripe.com/api/accounts/delete'"
      ]
     },
     "execution_count": null,
     "metadata": {},
     "output_type": "execute_result"
    }
   ],
   "source": [
    "_durl(path, 'get')"
   ]
  },
  {
   "cell_type": "code",
   "execution_count": null,
   "metadata": {},
   "outputs": [],
   "source": [
    "#| export\n",
    "def build_eps(url):\n",
    "    \"Build module metadata.py from an Open API spec and optionally filter by a path `pre`\"\n",
    "    spec = urlsend(url, 'GET', return_json=True)\n",
    "    _funcs = [{'path': p, 'verb': v, **_info(desc), 'doc_url': _durl(p, v)}\n",
    "              for p, vs in spec['paths'].items() for v, desc in vs.items()]\n",
    "    return _funcs"
   ]
  },
  {
   "cell_type": "code",
   "execution_count": null,
   "metadata": {},
   "outputs": [
    {
     "data": {
      "text/plain": [
       "{'path': '/v1/account',\n",
       " 'verb': 'get',\n",
       " 'data': [],\n",
       " 'op_id': 'GetAccount',\n",
       " 'qparams': [{'name': 'expand',\n",
       "   'description': 'Specifies which fields in the response should be expanded.',\n",
       "   'annotation': 'str'}],\n",
       " 'summary': 'Retrieve account',\n",
       " 'doc_url': 'https://docs.stripe.com/api/accounts/retrieve'}"
      ]
     },
     "execution_count": null,
     "metadata": {},
     "output_type": "execute_result"
    }
   ],
   "source": [
    "eps = build_eps(stripe_openapi_url)\n",
    "eps[0]"
   ]
  },
  {
   "cell_type": "code",
   "execution_count": null,
   "metadata": {},
   "outputs": [],
   "source": [
    "#| export\n",
    "@call_parse\n",
    "def update_version():\n",
    "    'Update the version to the latest version of the Stripe API and the endpoints file.'\n",
    "    cfg = Config.find(\"settings.ini\")\n",
    "    stripe_spec = urlsend(stripe_openapi_url, 'GET', return_json=True)\n",
    "    stripe_version = stripe_spec['info']['version'].split('.')[0].replace('-', '.')\n",
    "\n",
    "    if cfg.d['version'] == stripe_version: return\n",
    "    cfg.d['version'] = stripe_version + '.0'\n",
    "    cfg.save()\n",
    "    eps = build_eps(stripe_openapi_url)\n",
    "    (cfg.config_path/'faststripe/endpoints.py').write_text(f'eps = {pprint.pformat(eps, width=360)}')\n",
    "    print(f\"Updated version to {cfg.d['version']}\")"
   ]
  },
  {
   "cell_type": "code",
   "execution_count": null,
   "metadata": {},
   "outputs": [
    {
     "name": "stdout",
     "output_type": "stream",
     "text": [
      "Updated version to 2025.08.27.0\n"
     ]
    }
   ],
   "source": [
    "update_version()"
   ]
  },
  {
   "cell_type": "code",
   "execution_count": null,
   "metadata": {},
   "outputs": [],
   "source": [
    "#| hide\n",
    "import nbdev; nbdev.nbdev_export()"
   ]
  }
 ],
 "metadata": {
  "kernelspec": {
   "display_name": "python3",
   "language": "python",
   "name": "python3"
  }
 },
 "nbformat": 4,
 "nbformat_minor": 4
}
