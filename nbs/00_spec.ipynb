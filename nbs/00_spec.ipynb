{
 "cells": [
  {
   "cell_type": "markdown",
   "metadata": {},
   "source": [
    "# spec\n",
    "\n",
    "> Fill in a module description here"
   ]
  },
  {
   "cell_type": "code",
   "execution_count": null,
   "metadata": {},
   "outputs": [],
   "source": [
    "#| default_exp spec"
   ]
  },
  {
   "cell_type": "code",
   "execution_count": null,
   "metadata": {},
   "outputs": [],
   "source": [
    "#| export\n",
    "from fastcore.all import *\n",
    "from fastcore.script import *\n",
    "\n",
    "import httpx, json"
   ]
  },
  {
   "cell_type": "code",
   "execution_count": null,
   "metadata": {},
   "outputs": [],
   "source": [
    "#| hide\n",
    "import os"
   ]
  },
  {
   "cell_type": "code",
   "execution_count": null,
   "metadata": {},
   "outputs": [],
   "source": [
    "#| exports\n",
    "stripe_openapi_url = 'https://raw.githubusercontent.com/stripe/openapi/refs/heads/master/openapi/spec3.json'"
   ]
  },
  {
   "cell_type": "code",
   "execution_count": null,
   "metadata": {},
   "outputs": [
    {
     "data": {
      "text/html": [
       "<pre style=\"white-space:pre;overflow-x:auto;line-height:normal;font-family:Menlo,'DejaVu Sans Mono',consolas,'Courier New',monospace\"></pre>\n"
      ],
      "text/plain": []
     },
     "metadata": {},
     "output_type": "display_data"
    },
    {
     "data": {
      "text/plain": [
       "\u001b[1;35mdict_keys\u001b[0m\u001b[1m(\u001b[0m\u001b[1m[\u001b[0m\u001b[32m'components'\u001b[0m, \u001b[32m'info'\u001b[0m, \u001b[32m'openapi'\u001b[0m, \u001b[32m'paths'\u001b[0m, \u001b[32m'security'\u001b[0m, \u001b[32m'servers'\u001b[0m\u001b[1m]\u001b[0m\u001b[1m)\u001b[0m"
      ]
     },
     "execution_count": null,
     "metadata": {},
     "output_type": "execute_result"
    }
   ],
   "source": [
    "stripe_spec = httpx.get(stripe_openapi_url).json()\n",
    "stripe_spec.keys()"
   ]
  },
  {
   "cell_type": "markdown",
   "metadata": {},
   "source": [
    "The OpenAPI spec describes how a particular REST API works. The most important part of this spec is the paths that are defined by a particular spec. This defines what you can do with a particular API and usually includes things like the description of endpoint, expected parameters, the description of the parameters, and a schema of what will be returned from a particular endpoint."
   ]
  },
  {
   "cell_type": "code",
   "execution_count": null,
   "metadata": {},
   "outputs": [
    {
     "data": {
      "text/html": [
       "<pre style=\"white-space:pre;overflow-x:auto;line-height:normal;font-family:Menlo,'DejaVu Sans Mono',consolas,'Courier New',monospace\"></pre>\n"
      ],
      "text/plain": []
     },
     "metadata": {},
     "output_type": "display_data"
    },
    {
     "data": {
      "text/plain": [
       "\n",
       "\u001b[1m(\u001b[0m\n",
       "    \u001b[32m'/v1/account'\u001b[0m,\n",
       "    \u001b[1m{\u001b[0m\n",
       "        \u001b[32m'get'\u001b[0m: \u001b[1m{\u001b[0m\n",
       "            \u001b[32m'description'\u001b[0m: \u001b[32m'\u001b[0m\u001b[32m<\u001b[0m\u001b[32mp\u001b[0m\u001b[32m>Retrieves the details of an account.</p\u001b[0m\u001b[32m>\u001b[0m\u001b[32m'\u001b[0m,\n",
       "            \u001b[32m'operationId'\u001b[0m: \u001b[32m'GetAccount'\u001b[0m,\n",
       "            \u001b[32m'parameters'\u001b[0m: \u001b[1m[\u001b[0m\n",
       "                \u001b[1m{\u001b[0m\n",
       "                    \u001b[32m'description'\u001b[0m: \u001b[32m'Specifies which fields in the response should be expanded.'\u001b[0m,\n",
       "                    \u001b[32m'explode'\u001b[0m: \u001b[3;92mTrue\u001b[0m,\n",
       "                    \u001b[32m'in'\u001b[0m: \u001b[32m'query'\u001b[0m,\n",
       "                    \u001b[32m'name'\u001b[0m: \u001b[32m'expand'\u001b[0m,\n",
       "                    \u001b[32m'required'\u001b[0m: \u001b[3;91mFalse\u001b[0m,\n",
       "                    \u001b[32m'schema'\u001b[0m: \u001b[1m{\u001b[0m\u001b[32m'items'\u001b[0m: \u001b[1m{\u001b[0m\u001b[32m'maxLength'\u001b[0m: \u001b[1;36m5000\u001b[0m, \u001b[32m'type'\u001b[0m: \u001b[32m'string'\u001b[0m\u001b[1m}\u001b[0m, \u001b[32m'type'\u001b[0m: \u001b[32m'array'\u001b[0m\u001b[1m}\u001b[0m,\n",
       "                    \u001b[32m'style'\u001b[0m: \u001b[32m'deepObject'\u001b[0m\n",
       "                \u001b[1m}\u001b[0m\n",
       "            \u001b[1m]\u001b[0m,\n",
       "            \u001b[32m'requestBody'\u001b[0m: \u001b[1m{\u001b[0m\n",
       "                \u001b[32m'content'\u001b[0m: \u001b[1m{\u001b[0m\n",
       "                    \u001b[32m'application/x-www-form-urlencoded'\u001b[0m: \u001b[1m{\u001b[0m\n",
       "                        \u001b[32m'encoding'\u001b[0m: \u001b[1m{\u001b[0m\u001b[1m}\u001b[0m,\n",
       "                        \u001b[32m'schema'\u001b[0m: \u001b[1m{\u001b[0m\u001b[32m'additionalProperties'\u001b[0m: \u001b[3;91mFalse\u001b[0m, \u001b[32m'properties'\u001b[0m: \u001b[1m{\u001b[0m\u001b[1m}\u001b[0m, \u001b[32m'type'\u001b[0m: \u001b[32m'object'\u001b[0m\u001b[1m}\u001b[0m\n",
       "                    \u001b[1m}\u001b[0m\n",
       "                \u001b[1m}\u001b[0m,\n",
       "                \u001b[32m'required'\u001b[0m: \u001b[3;91mFalse\u001b[0m\n",
       "            \u001b[1m}\u001b[0m,\n",
       "            \u001b[32m'responses'\u001b[0m: \u001b[1m{\u001b[0m\n",
       "                \u001b[32m'200'\u001b[0m: \u001b[1m{\u001b[0m\n",
       "                    \u001b[32m'content'\u001b[0m: \u001b[1m{\u001b[0m\n",
       "                        \u001b[32m'application/json'\u001b[0m: \u001b[1m{\u001b[0m\u001b[32m'schema'\u001b[0m: \u001b[1m{\u001b[0m\u001b[32m'$ref'\u001b[0m: \u001b[32m'#/components/schemas/account'\u001b[0m\u001b[1m}\u001b[0m\u001b[1m}\u001b[0m\n",
       "                    \u001b[1m}\u001b[0m,\n",
       "                    \u001b[32m'description'\u001b[0m: \u001b[32m'Successful response.'\u001b[0m\n",
       "                \u001b[1m}\u001b[0m,\n",
       "                \u001b[32m'default'\u001b[0m: \u001b[1m{\u001b[0m\n",
       "                    \u001b[32m'content'\u001b[0m: \u001b[1m{\u001b[0m\n",
       "                        \u001b[32m'application/json'\u001b[0m: \u001b[1m{\u001b[0m\u001b[32m'schema'\u001b[0m: \u001b[1m{\u001b[0m\u001b[32m'$ref'\u001b[0m: \u001b[32m'#/components/schemas/error'\u001b[0m\u001b[1m}\u001b[0m\u001b[1m}\u001b[0m\n",
       "                    \u001b[1m}\u001b[0m,\n",
       "                    \u001b[32m'description'\u001b[0m: \u001b[32m'Error response.'\u001b[0m\n",
       "                \u001b[1m}\u001b[0m\n",
       "            \u001b[1m}\u001b[0m,\n",
       "            \u001b[32m'summary'\u001b[0m: \u001b[32m'Retrieve account'\u001b[0m\n",
       "        \u001b[1m}\u001b[0m\n",
       "    \u001b[1m}\u001b[0m\n",
       "\u001b[1m)\u001b[0m"
      ]
     },
     "execution_count": null,
     "metadata": {},
     "output_type": "execute_result"
    }
   ],
   "source": [
    "p = first(stripe_spec['paths'].items())\n",
    "p"
   ]
  },
  {
   "cell_type": "markdown",
   "metadata": {},
   "source": [
    "As we can see here, the account path has a single HTTP verb that we can use on it called GET. The verb + path is what we refer to as an endpoint. This endpoint allows us to get the account details for a stripe."
   ]
  },
  {
   "cell_type": "code",
   "execution_count": null,
   "metadata": {},
   "outputs": [
    {
     "data": {
      "text/html": [
       "<pre style=\"white-space:pre;overflow-x:auto;line-height:normal;font-family:Menlo,'DejaVu Sans Mono',consolas,'Courier New',monospace\"></pre>\n"
      ],
      "text/plain": []
     },
     "metadata": {},
     "output_type": "display_data"
    },
    {
     "data": {
      "text/plain": [
       "\u001b[32m'https://api.stripe.com/v1/account'\u001b[0m"
      ]
     },
     "execution_count": null,
     "metadata": {},
     "output_type": "execute_result"
    }
   ],
   "source": [
    "stripe_api_url = 'https://api.stripe.com'\n",
    "stripe_api_url + p[0]"
   ]
  },
  {
   "cell_type": "code",
   "execution_count": null,
   "metadata": {},
   "outputs": [],
   "source": [
    "stripe_key = os.getenv('STRIPE_SECRET_KEY')\n",
    "headers = {'Authorization': f'Bearer {stripe_key}'}\n",
    "resp = httpx.get(stripe_api_url + p[0], headers=headers)\n",
    "# resp.status_code, resp.json()"
   ]
  },
  {
   "cell_type": "markdown",
   "metadata": {},
   "source": [
    "Some of these endpoints will take parameters if they are GET verbs or request bodies. POST verbs. Here is an example for the GET customers endpoint"
   ]
  },
  {
   "cell_type": "code",
   "execution_count": null,
   "metadata": {},
   "outputs": [
    {
     "data": {
      "text/html": [
       "<pre style=\"white-space:pre;overflow-x:auto;line-height:normal;font-family:Menlo,'DejaVu Sans Mono',consolas,'Courier New',monospace\"></pre>\n"
      ],
      "text/plain": []
     },
     "metadata": {},
     "output_type": "display_data"
    },
    {
     "data": {
      "text/plain": [
       "\n",
       "\u001b[1m[\u001b[0m\n",
       "    \u001b[1m{\u001b[0m\n",
       "        \u001b[32m'description'\u001b[0m: \u001b[32m'Only return customers that were created during the given date interval.'\u001b[0m,\n",
       "        \u001b[32m'explode'\u001b[0m: \u001b[3;92mTrue\u001b[0m,\n",
       "        \u001b[32m'in'\u001b[0m: \u001b[32m'query'\u001b[0m,\n",
       "        \u001b[32m'name'\u001b[0m: \u001b[32m'created'\u001b[0m,\n",
       "        \u001b[32m'required'\u001b[0m: \u001b[3;91mFalse\u001b[0m,\n",
       "        \u001b[32m'schema'\u001b[0m: \u001b[1m{\u001b[0m\n",
       "            \u001b[32m'anyOf'\u001b[0m: \u001b[1m[\u001b[0m\n",
       "                \u001b[1m{\u001b[0m\n",
       "                    \u001b[32m'properties'\u001b[0m: \u001b[1m{\u001b[0m\n",
       "                        \u001b[32m'gt'\u001b[0m: \u001b[1m{\u001b[0m\u001b[32m'type'\u001b[0m: \u001b[32m'integer'\u001b[0m\u001b[1m}\u001b[0m,\n",
       "                        \u001b[32m'gte'\u001b[0m: \u001b[1m{\u001b[0m\u001b[32m'type'\u001b[0m: \u001b[32m'integer'\u001b[0m\u001b[1m}\u001b[0m,\n",
       "                        \u001b[32m'lt'\u001b[0m: \u001b[1m{\u001b[0m\u001b[32m'type'\u001b[0m: \u001b[32m'integer'\u001b[0m\u001b[1m}\u001b[0m,\n",
       "                        \u001b[32m'lte'\u001b[0m: \u001b[1m{\u001b[0m\u001b[32m'type'\u001b[0m: \u001b[32m'integer'\u001b[0m\u001b[1m}\u001b[0m\n",
       "                    \u001b[1m}\u001b[0m,\n",
       "                    \u001b[32m'title'\u001b[0m: \u001b[32m'range_query_specs'\u001b[0m,\n",
       "                    \u001b[32m'type'\u001b[0m: \u001b[32m'object'\u001b[0m\n",
       "                \u001b[1m}\u001b[0m,\n",
       "                \u001b[1m{\u001b[0m\u001b[32m'type'\u001b[0m: \u001b[32m'integer'\u001b[0m\u001b[1m}\u001b[0m\n",
       "            \u001b[1m]\u001b[0m\n",
       "        \u001b[1m}\u001b[0m,\n",
       "        \u001b[32m'style'\u001b[0m: \u001b[32m'deepObject'\u001b[0m\n",
       "    \u001b[1m}\u001b[0m,\n",
       "    \u001b[1m{\u001b[0m\n",
       "        \u001b[32m'description'\u001b[0m: \u001b[32m\"A case-sensitive filter on the list based on the customer's `email` field. The value must be a string.\"\u001b[0m,\n",
       "        \u001b[32m'in'\u001b[0m: \u001b[32m'query'\u001b[0m,\n",
       "        \u001b[32m'name'\u001b[0m: \u001b[32m'email'\u001b[0m,\n",
       "        \u001b[32m'required'\u001b[0m: \u001b[3;91mFalse\u001b[0m,\n",
       "        \u001b[32m'schema'\u001b[0m: \u001b[1m{\u001b[0m\u001b[32m'maxLength'\u001b[0m: \u001b[1;36m512\u001b[0m, \u001b[32m'type'\u001b[0m: \u001b[32m'string'\u001b[0m\u001b[1m}\u001b[0m,\n",
       "        \u001b[32m'style'\u001b[0m: \u001b[32m'form'\u001b[0m\n",
       "    \u001b[1m}\u001b[0m,\n",
       "    \u001b[1m{\u001b[0m\n",
       "        \u001b[32m'description'\u001b[0m: \u001b[32m'A cursor for use in pagination. `ending_before` is an object ID that defines your place in the list. For instance, if you make a list request and receive 100 objects, starting with `obj_bar`, your subsequent call can include `\u001b[0m\u001b[32mending_before\u001b[0m\u001b[32m=\u001b[0m\u001b[32mobj_bar\u001b[0m\u001b[32m` in order to fetch the previous page of the list.'\u001b[0m,\n",
       "        \u001b[32m'in'\u001b[0m: \u001b[32m'query'\u001b[0m,\n",
       "        \u001b[32m'name'\u001b[0m: \u001b[32m'ending_before'\u001b[0m,\n",
       "        \u001b[32m'required'\u001b[0m: \u001b[3;91mFalse\u001b[0m,\n",
       "        \u001b[32m'schema'\u001b[0m: \u001b[1m{\u001b[0m\u001b[32m'maxLength'\u001b[0m: \u001b[1;36m5000\u001b[0m, \u001b[32m'type'\u001b[0m: \u001b[32m'string'\u001b[0m\u001b[1m}\u001b[0m,\n",
       "        \u001b[32m'style'\u001b[0m: \u001b[32m'form'\u001b[0m\n",
       "    \u001b[1m}\u001b[0m\n",
       "\u001b[1m]\u001b[0m"
      ]
     },
     "execution_count": null,
     "metadata": {},
     "output_type": "execute_result"
    }
   ],
   "source": [
    "p = first(stripe_spec['paths'].items(), lambda x: x[0] == '/v1/customers')\n",
    "p[1]['get']['parameters'][:3]"
   ]
  },
  {
   "cell_type": "markdown",
   "metadata": {},
   "source": [
    "And here is one for a post"
   ]
  },
  {
   "cell_type": "code",
   "execution_count": null,
   "metadata": {},
   "outputs": [
    {
     "data": {
      "text/html": [
       "<pre style=\"white-space:pre;overflow-x:auto;line-height:normal;font-family:Menlo,'DejaVu Sans Mono',consolas,'Courier New',monospace\"></pre>\n"
      ],
      "text/plain": []
     },
     "metadata": {},
     "output_type": "display_data"
    },
    {
     "data": {
      "text/plain": [
       "\n",
       "\u001b[1m[\u001b[0m\n",
       "    \u001b[1m(\u001b[0m\n",
       "        \u001b[32m'address'\u001b[0m,\n",
       "        \u001b[1m{\u001b[0m\n",
       "            \u001b[32m'anyOf'\u001b[0m: \u001b[1m[\u001b[0m\n",
       "                \u001b[1m{\u001b[0m\n",
       "                    \u001b[32m'properties'\u001b[0m: \u001b[1m{\u001b[0m\n",
       "                        \u001b[32m'city'\u001b[0m: \u001b[1m{\u001b[0m\u001b[32m'maxLength'\u001b[0m: \u001b[1;36m5000\u001b[0m, \u001b[32m'type'\u001b[0m: \u001b[32m'string'\u001b[0m\u001b[1m}\u001b[0m,\n",
       "                        \u001b[32m'country'\u001b[0m: \u001b[1m{\u001b[0m\u001b[32m'maxLength'\u001b[0m: \u001b[1;36m5000\u001b[0m, \u001b[32m'type'\u001b[0m: \u001b[32m'string'\u001b[0m\u001b[1m}\u001b[0m,\n",
       "                        \u001b[32m'line1'\u001b[0m: \u001b[1m{\u001b[0m\u001b[32m'maxLength'\u001b[0m: \u001b[1;36m5000\u001b[0m, \u001b[32m'type'\u001b[0m: \u001b[32m'string'\u001b[0m\u001b[1m}\u001b[0m,\n",
       "                        \u001b[32m'line2'\u001b[0m: \u001b[1m{\u001b[0m\u001b[32m'maxLength'\u001b[0m: \u001b[1;36m5000\u001b[0m, \u001b[32m'type'\u001b[0m: \u001b[32m'string'\u001b[0m\u001b[1m}\u001b[0m,\n",
       "                        \u001b[32m'postal_code'\u001b[0m: \u001b[1m{\u001b[0m\u001b[32m'maxLength'\u001b[0m: \u001b[1;36m5000\u001b[0m, \u001b[32m'type'\u001b[0m: \u001b[32m'string'\u001b[0m\u001b[1m}\u001b[0m,\n",
       "                        \u001b[32m'state'\u001b[0m: \u001b[1m{\u001b[0m\u001b[32m'maxLength'\u001b[0m: \u001b[1;36m5000\u001b[0m, \u001b[32m'type'\u001b[0m: \u001b[32m'string'\u001b[0m\u001b[1m}\u001b[0m\n",
       "                    \u001b[1m}\u001b[0m,\n",
       "                    \u001b[32m'title'\u001b[0m: \u001b[32m'optional_fields_customer_address'\u001b[0m,\n",
       "                    \u001b[32m'type'\u001b[0m: \u001b[32m'object'\u001b[0m\n",
       "                \u001b[1m}\u001b[0m,\n",
       "                \u001b[1m{\u001b[0m\u001b[32m'enum'\u001b[0m: \u001b[1m[\u001b[0m\u001b[32m''\u001b[0m\u001b[1m]\u001b[0m, \u001b[32m'type'\u001b[0m: \u001b[32m'string'\u001b[0m\u001b[1m}\u001b[0m\n",
       "            \u001b[1m]\u001b[0m,\n",
       "            \u001b[32m'description'\u001b[0m: \u001b[32m\"The customer's address.\"\u001b[0m\n",
       "        \u001b[1m}\u001b[0m\n",
       "    \u001b[1m)\u001b[0m,\n",
       "    \u001b[1m(\u001b[0m\n",
       "        \u001b[32m'balance'\u001b[0m,\n",
       "        \u001b[1m{\u001b[0m\n",
       "            \u001b[32m'description'\u001b[0m: \u001b[32m\"An integer amount in cents \u001b[0m\u001b[32m(\u001b[0m\u001b[32mor local equivalent\u001b[0m\u001b[32m)\u001b[0m\u001b[32m that represents the customer's current balance, which affect the customer's future invoices. A negative amount represents a credit that decreases the amount due on an invoice; a positive amount increases the amount due on an invoice.\"\u001b[0m,\n",
       "            \u001b[32m'type'\u001b[0m: \u001b[32m'integer'\u001b[0m\n",
       "        \u001b[1m}\u001b[0m\n",
       "    \u001b[1m)\u001b[0m,\n",
       "    \u001b[1m(\u001b[0m\n",
       "        \u001b[32m'cash_balance'\u001b[0m,\n",
       "        \u001b[1m{\u001b[0m\n",
       "            \u001b[32m'description'\u001b[0m: \u001b[32m'Balance information and default balance settings for this customer.'\u001b[0m,\n",
       "            \u001b[32m'properties'\u001b[0m: \u001b[1m{\u001b[0m\n",
       "                \u001b[32m'settings'\u001b[0m: \u001b[1m{\u001b[0m\n",
       "                    \u001b[32m'properties'\u001b[0m: \u001b[1m{\u001b[0m\n",
       "                        \u001b[32m'reconciliation_mode'\u001b[0m: \u001b[1m{\u001b[0m\n",
       "                            \u001b[32m'enum'\u001b[0m: \u001b[1m[\u001b[0m\u001b[32m'automatic'\u001b[0m, \u001b[32m'manual'\u001b[0m, \u001b[32m'merchant_default'\u001b[0m\u001b[1m]\u001b[0m,\n",
       "                            \u001b[32m'type'\u001b[0m: \u001b[32m'string'\u001b[0m\n",
       "                        \u001b[1m}\u001b[0m\n",
       "                    \u001b[1m}\u001b[0m,\n",
       "                    \u001b[32m'title'\u001b[0m: \u001b[32m'balance_settings_param'\u001b[0m,\n",
       "                    \u001b[32m'type'\u001b[0m: \u001b[32m'object'\u001b[0m\n",
       "                \u001b[1m}\u001b[0m\n",
       "            \u001b[1m}\u001b[0m,\n",
       "            \u001b[32m'title'\u001b[0m: \u001b[32m'cash_balance_param'\u001b[0m,\n",
       "            \u001b[32m'type'\u001b[0m: \u001b[32m'object'\u001b[0m\n",
       "        \u001b[1m}\u001b[0m\n",
       "    \u001b[1m)\u001b[0m\n",
       "\u001b[1m]\u001b[0m"
      ]
     },
     "execution_count": null,
     "metadata": {},
     "output_type": "execute_result"
    }
   ],
   "source": [
    "list(p[1]['post']['requestBody']['content']['application/x-www-form-urlencoded']['schema']['properties'].items())[:3]"
   ]
  },
  {
   "cell_type": "markdown",
   "metadata": {},
   "source": [
    "Let's make a helper function to grab all these endpoints and their parameters."
   ]
  },
  {
   "cell_type": "code",
   "execution_count": null,
   "metadata": {},
   "outputs": [],
   "source": [
    "#| export\n",
    "def stripe_endpoints(spec: dict):\n",
    "    'Extracts all the endpoints and their parameters from the Stripe OpenAPI spec.'\n",
    "    endpoints = []\n",
    "    for path, methods in spec['paths'].items():\n",
    "        for verb, details in methods.items():\n",
    "            op_id = details.get('operationId', '')\n",
    "            summary = details.get('summary', '')\n",
    "            query_params = [dict(name=p['name'], description=p.get('description', ''))\n",
    "                            for p in details.get('parameters', []) if p.get('in') == 'query']\n",
    "            body_params = []\n",
    "            if 'requestBody' in details:\n",
    "                schema = nested_idx(details, 'requestBody', 'content', 'application/x-www-form-urlencoded', 'schema', 'properties') or {}\n",
    "                body_params = [dict(name=k, description=v.get('description', '')) for k,v in schema.items()]\n",
    "            all_params = query_params + body_params\n",
    "            endpoints.append(dict(path=path, verb=verb, op_id=op_id, summary=summary, params=all_params))\n",
    "    return endpoints"
   ]
  },
  {
   "cell_type": "code",
   "execution_count": null,
   "metadata": {},
   "outputs": [
    {
     "data": {
      "text/html": [
       "<pre style=\"white-space:pre;overflow-x:auto;line-height:normal;font-family:Menlo,'DejaVu Sans Mono',consolas,'Courier New',monospace\"></pre>\n"
      ],
      "text/plain": []
     },
     "metadata": {},
     "output_type": "display_data"
    },
    {
     "data": {
      "text/plain": [
       "\n",
       "\u001b[1m{\u001b[0m\n",
       "    \u001b[32m'path'\u001b[0m: \u001b[32m'/v1/account'\u001b[0m,\n",
       "    \u001b[32m'verb'\u001b[0m: \u001b[32m'get'\u001b[0m,\n",
       "    \u001b[32m'op_id'\u001b[0m: \u001b[32m'GetAccount'\u001b[0m,\n",
       "    \u001b[32m'summary'\u001b[0m: \u001b[32m'Retrieve account'\u001b[0m,\n",
       "    \u001b[32m'params'\u001b[0m: \u001b[1m[\u001b[0m\n",
       "        \u001b[1m{\u001b[0m\n",
       "            \u001b[32m'name'\u001b[0m: \u001b[32m'expand'\u001b[0m,\n",
       "            \u001b[32m'description'\u001b[0m: \u001b[32m'Specifies which fields in the response should be expanded.'\u001b[0m\n",
       "        \u001b[1m}\u001b[0m\n",
       "    \u001b[1m]\u001b[0m\n",
       "\u001b[1m}\u001b[0m"
      ]
     },
     "execution_count": null,
     "metadata": {},
     "output_type": "execute_result"
    }
   ],
   "source": [
    "eps = stripe_endpoints(stripe_spec)\n",
    "eps[0]"
   ]
  },
  {
   "cell_type": "markdown",
   "metadata": {},
   "outputs": [],
   "source": "FastStripe follows Stripe's monthly API versioning to ensure stability and compatibility. Rather than automatically using the latest version (which could break existing code when endpoints change), we pin FastStripe releases to specific Stripe API versions.\n\nThis approach works by generating a static `endpoints.py` file containing a snapshot of all endpoints, parameters, and documentation from a specific Stripe API version. The FastStripe API then uses these endpoint definitions when interfacing with Stripe.\n\nThe helper function below updates both the FastStripe version and the endpoints file to match the latest Stripe API version."
  },
  {
   "cell_type": "code",
   "execution_count": null,
   "metadata": {},
   "outputs": [],
   "source": [
    "#| export\n",
    "@call_parse\n",
    "def update_version():\n",
    "    'Update the version to the latest version of the Stripe API and the endpoints file.'\n",
    "    cfg = Config.find(\"settings.ini\")\n",
    "    stripe_spec = httpx.get(stripe_openapi_url).json()\n",
    "    stripe_version = stripe_spec['info']['version'].split('.')[0].replace('-', '.')\n",
    "\n",
    "    if cfg.d['version'] == stripe_version: return\n",
    "    cfg.d['version'] = stripe_version\n",
    "    cfg.save()\n",
    "    eps = stripe_endpoints(stripe_spec)\n",
    "    (cfg.config_path/'faststripe/endpoints.py').write_text(f'eps = {json.dumps(eps, indent=4)}')\n",
    "    print(f'Updated version to {stripe_version}')"
   ]
  },
  {
   "cell_type": "code",
   "execution_count": null,
   "metadata": {},
   "outputs": [],
   "source": [
    "#| hide\n",
    "import nbdev; nbdev.nbdev_export()"
   ]
  }
 ],
 "metadata": {
  "kernelspec": {
   "display_name": "python3",
   "language": "python",
   "name": "python3"
  }
 },
 "nbformat": 4,
 "nbformat_minor": 2
}
