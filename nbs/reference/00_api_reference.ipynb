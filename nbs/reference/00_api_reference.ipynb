{
 "cells": [
  {
   "cell_type": "markdown",
   "metadata": {},
   "source": [
    "# API Reference\n",
    "\n",
    "> Complete reference for all FastStripe methods and classes"
   ]
  },
  {
   "cell_type": "markdown",
   "metadata": {},
   "source": [
    "This reference provides detailed information about all FastStripe classes, methods, and their parameters."
   ]
  },
  {
   "cell_type": "code",
   "execution_count": null,
   "metadata": {},
   "outputs": [],
   "source": [
    "from faststripe.core import StripeApi\n",
    "import os"
   ]
  },
  {
   "cell_type": "markdown",
   "metadata": {},
   "source": [
    "## StripeApi Class\n",
    "\n",
    "The main class for interacting with the Stripe API."
   ]
  },
  {
   "cell_type": "code",
   "execution_count": null,
   "metadata": {},
   "outputs": [],
   "source": [
    "# Initialize StripeApi\n",
    "sapi = StripeApi(\n",
    "    api_key='sk_test_...', # Your Stripe secret key\n",
    "    base_url='https://api.stripe.com'  # Optional, defaults to Stripe's API\n",
    ")"
   ]
  },
  {
   "cell_type": "markdown",
   "metadata": {},
   "source": [
    "### Constructor Parameters\n",
    "\n",
    "- **api_key** (str): Your Stripe secret API key\n",
    "- **base_url** (str, optional): Base URL for Stripe API. Defaults to 'https://api.stripe.com'\n",
    "\n",
    "### Available Resource Groups\n",
    "\n",
    "All Stripe resources are organized into logical groups:"
   ]
  },
  {
   "cell_type": "code",
   "execution_count": null,
   "metadata": {},
   "outputs": [],
   "source": [
    "# Example resource groups available on StripeApi instance\n",
    "resource_groups = [\n",
    "    'account',           # Account information\n",
    "    'customers',         # Customer management\n",
    "    'products',          # Product catalog\n",
    "    'prices',           # Pricing information\n",
    "    'checkout_sessions', # Checkout sessions\n",
    "    'payment_intents',   # Payment intents\n",
    "    'payment_methods',   # Payment methods\n",
    "    'subscriptions',     # Subscription management\n",
    "    'invoices',         # Invoice management\n",
    "    'coupons',          # Discount coupons\n",
    "    'webhook_endpoints', # Webhook configuration\n",
    "    # ... and many more\n",
    "]\n",
    "\n",
    "# Each group has create/fetch methods\n",
    "print(\"Customer methods:\")\n",
    "print(dir(sapi.customers))"
   ]
  },
  {
   "cell_type": "markdown",
   "metadata": {},
   "source": [
    "## High-Level Convenience Methods\n",
    "\n",
    "FastStripe provides simplified methods for common workflows."
   ]
  },
  {
   "cell_type": "markdown",
   "metadata": {},
   "source": [
    "### one_time_payment()\n",
    "\n",
    "Create a one-time payment checkout session."
   ]
  },
  {
   "cell_type": "code",
   "execution_count": null,
   "metadata": {},
   "outputs": [],
   "source": [
    "checkout = sapi.one_time_payment(\n",
    "    product_name='My Product',       # Product name\n",
    "    amount_cents=2000,              # Amount in cents ($20.00)\n",
    "    success_url='https://example.com/success',  # Success redirect URL\n",
    "    cancel_url='https://example.com/cancel',    # Cancel redirect URL\n",
    "    currency='usd'                   # Currency code (optional, defaults to 'usd')\n",
    ")\n",
    "\n",
    "print(f\"Payment URL: {checkout.url}\")"
   ]
  },
  {
   "cell_type": "markdown",
   "metadata": {},
   "source": [
    "**Parameters:**\n",
    "- **product_name** (str): Name of the product\n",
    "- **amount_cents** (int): Price in cents\n",
    "- **success_url** (str): URL to redirect after successful payment\n",
    "- **cancel_url** (str): URL to redirect if payment is cancelled\n",
    "- **currency** (str, optional): Currency code. Defaults to 'usd'\n",
    "\n",
    "**Returns:** Checkout session object with payment URL"
   ]
  },
  {
   "cell_type": "markdown",
   "metadata": {},
   "source": [
    "### subscription()\n",
    "\n",
    "Create a recurring subscription checkout session."
   ]
  },
  {
   "cell_type": "code",
   "execution_count": null,
   "metadata": {},
   "outputs": [],
   "source": [
    "subscription = sapi.subscription(\n",
    "    product_name='Monthly Plan',     # Product name\n",
    "    amount_cents=999,               # Amount in cents ($9.99)\n",
    "    success_url='https://example.com/welcome',  # Success redirect URL\n",
    "    cancel_url='https://example.com/pricing',   # Cancel redirect URL\n",
    "    currency='usd',                 # Currency code (optional)\n",
    "    interval='month',               # Billing interval (optional)\n",
    "    customer_email='user@example.com'  # Pre-fill email (optional)\n",
    ")\n",
    "\n",
    "print(f\"Subscription URL: {subscription.url}\")"
   ]
  },
  {
   "cell_type": "markdown",
   "metadata": {},
   "source": [
    "**Parameters:**\n",
    "- **product_name** (str): Name of the subscription product\n",
    "- **amount_cents** (int): Price in cents per billing period\n",
    "- **success_url** (str): URL to redirect after successful subscription\n",
    "- **cancel_url** (str): URL to redirect if subscription is cancelled\n",
    "- **currency** (str, optional): Currency code. Defaults to 'usd'\n",
    "- **interval** (str, optional): Billing interval ('month', 'year', etc.). Defaults to 'month'\n",
    "- **customer_email** (str, optional): Pre-fill customer email in checkout\n",
    "\n",
    "**Returns:** Checkout session object with subscription URL"
   ]
  },
  {
   "cell_type": "markdown",
   "metadata": {},
   "source": [
    "### find_product()\n",
    "\n",
    "Find a product by name."
   ]
  },
  {
   "cell_type": "code",
   "execution_count": null,
   "metadata": {},
   "outputs": [],
   "source": [
    "product = sapi.find_product('My Product')\n",
    "if product:\n",
    "    print(f\"Found product: {product.id}\")\n",
    "else:\n",
    "    print(\"Product not found\")"
   ]
  },
  {
   "cell_type": "markdown",
   "metadata": {},
   "source": [
    "**Parameters:**\n",
    "- **name** (str): Product name to search for\n",
    "\n",
    "**Returns:** Product object if found, None otherwise"
   ]
  },
  {
   "cell_type": "markdown",
   "metadata": {},
   "source": [
    "### find_prices()\n",
    "\n",
    "Find all prices for a product."
   ]
  },
  {
   "cell_type": "code",
   "execution_count": null,
   "metadata": {},
   "outputs": [],
   "source": [
    "prices = sapi.find_prices('prod_abc123')\n",
    "print(f\"Found {len(prices)} prices for product\")"
   ]
  },
  {
   "cell_type": "markdown",
   "metadata": {},
   "source": [
    "**Parameters:**\n",
    "- **product_id** (str): Stripe product ID\n",
    "\n",
    "**Returns:** List of price objects"
   ]
  },
  {
   "cell_type": "markdown",
   "metadata": {},
   "source": [
    "### priced_product()\n",
    "\n",
    "Create or find a product with associated price."
   ]
  },
  {
   "cell_type": "code",
   "execution_count": null,
   "metadata": {},
   "outputs": [],
   "source": [
    "product, price = sapi.priced_product(\n",
    "    product_name='My Product',\n",
    "    amount_cents=2000,\n",
    "    currency='usd',\n",
    "    recurring={'interval': 'month'}  # Optional for subscriptions\n",
    ")\n",
    "\n",
    "print(f\"Product: {product.id}, Price: {price.id}\")"
   ]
  },
  {
   "cell_type": "markdown",
   "metadata": {},
   "source": [
    "**Parameters:**\n",
    "- **product_name** (str): Product name\n",
    "- **amount_cents** (int): Price in cents\n",
    "- **currency** (str, optional): Currency code. Defaults to 'usd'\n",
    "- **recurring** (dict, optional): Recurring billing configuration\n",
    "\n",
    "**Returns:** Tuple of (product, price) objects"
   ]
  },
  {
   "cell_type": "markdown",
   "metadata": {},
   "source": [
    "## Common Resource Methods\n",
    "\n",
    "Each resource group provides consistent `create` and `fetch` methods."
   ]
  },
  {
   "cell_type": "markdown",
   "metadata": {},
   "source": [
    "### create() methods\n",
    "\n",
    "Create new resources (corresponds to POST endpoints)."
   ]
  },
  {
   "cell_type": "code",
   "execution_count": null,
   "metadata": {},
   "outputs": [],
   "source": [
    "# Create a customer\n",
    "customer = sapi.customers.create(\n",
    "    email='user@example.com',\n",
    "    name='John Doe',\n",
    "    metadata={'user_id': '12345'}\n",
    ")\n",
    "\n",
    "# Create a product\n",
    "product = sapi.products.create(\n",
    "    name='My Product',\n",
    "    description='A great product'\n",
    ")\n",
    "\n",
    "# Create a price\n",
    "price = sapi.prices.create(\n",
    "    product=product.id,\n",
    "    unit_amount=2000,\n",
    "    currency='usd'\n",
    ")"
   ]
  },
  {
   "cell_type": "markdown",
   "metadata": {},
   "source": [
    "### fetch() methods\n",
    "\n",
    "Retrieve existing resources (corresponds to GET endpoints)."
   ]
  },
  {
   "cell_type": "code",
   "execution_count": null,
   "metadata": {},
   "outputs": [],
   "source": [
    "# Fetch a specific customer\n",
    "customer = sapi.customers.fetch('cus_abc123')\n",
    "\n",
    "# Fetch multiple customers with filters\n",
    "customers = sapi.customers.fetch(\n",
    "    limit=10,\n",
    "    email='user@example.com'\n",
    ")\n",
    "\n",
    "# Fetch products\n",
    "products = sapi.products.fetch(limit=20, active=True)"
   ]
  },
  {
   "cell_type": "markdown",
   "metadata": {},
   "source": [
    "### update() methods\n",
    "\n",
    "Update existing resources (available on some resources)."
   ]
  },
  {
   "cell_type": "code",
   "execution_count": null,
   "metadata": {},
   "outputs": [],
   "source": [
    "# Update customer\n",
    "updated_customer = sapi.customers.update(\n",
    "    'cus_abc123',\n",
    "    description='VIP Customer',\n",
    "    metadata={'tier': 'premium'}\n",
    ")\n",
    "\n",
    "# Update subscription\n",
    "updated_subscription = sapi.subscriptions.update(\n",
    "    'sub_abc123',\n",
    "    cancel_at_period_end=True\n",
    ")"
   ]
  },
  {
   "cell_type": "markdown",
   "metadata": {},
   "source": [
    "## Response Objects\n",
    "\n",
    "All API responses are returned as AttrDict objects, allowing both dictionary and dot notation access."
   ]
  },
  {
   "cell_type": "code",
   "execution_count": null,
   "metadata": {},
   "outputs": [],
   "source": [
    "customer = sapi.customers.create(email='user@example.com', name='John Doe')\n",
    "\n",
    "# Dictionary-style access\n",
    "print(customer['id'])\n",
    "print(customer['email'])\n",
    "\n",
    "# Dot notation access (preferred)\n",
    "print(customer.id)\n",
    "print(customer.email)\n",
    "print(customer.created)  # Unix timestamp"
   ]
  },
  {
   "cell_type": "markdown",
   "metadata": {},
   "source": [
    "## Error Handling\n",
    "\n",
    "FastStripe uses the underlying httpx library for HTTP requests. Stripe API errors are returned as JSON responses."
   ]
  },
  {
   "cell_type": "code",
   "execution_count": null,
   "metadata": {},
   "outputs": [],
   "source": [
    "try:\n",
    "    # This will fail with invalid customer ID\n",
    "    customer = sapi.customers.fetch('invalid_id')\nexcept Exception as e:\n",
    "    print(f\"Error: {e}\")\n",
    "    # Handle error appropriately"
   ]
  },
  {
   "cell_type": "markdown",
   "metadata": {},
   "source": [
    "## Parameter Flattening\n",
    "\n",
    "FastStripe automatically flattens nested parameters for Stripe's form-encoded format."
   ]
  },
  {
   "cell_type": "code",
   "execution_count": null,
   "metadata": {},
   "outputs": [],
   "source": [
    "# Nested parameters are automatically flattened\n",
    "customer = sapi.customers.create(\n",
    "    email='user@example.com',\n",
    "    address={\n",
    "        'line1': '123 Main St',\n",
    "        'city': 'San Francisco',\n",
    "        'state': 'CA',\n",
    "        'postal_code': '94105',\n",
    "        'country': 'US'\n",
    "    },\n",
    "    metadata={\n",
    "        'user_id': '12345',\n",
    "        'plan': 'premium'\n",
    "    }\n",
    ")\n",
    "\n",
    "# FastStripe converts this to:\n",
    "# {\n",
    "#     'email': 'user@example.com',\n",
    "#     'address[line1]': '123 Main St',\n",
    "#     'address[city]': 'San Francisco',\n",
    "#     'address[state]': 'CA',\n",
    "#     'address[postal_code]': '94105',\n",
    "#     'address[country]': 'US',\n",
    "#     'metadata[user_id]': '12345',\n",
    "#     'metadata[plan]': 'premium'\n",
    "# }"
   ]
  },
  {
   "cell_type": "markdown",
   "metadata": {},
   "source": [
    "## Method Documentation\n",
    "\n",
    "All methods include comprehensive documentation accessible via your IDE or the `?` operator in Jupyter."
   ]
  },
  {
   "cell_type": "code",
   "execution_count": null,
   "metadata": {},
   "outputs": [],
   "source": [
    "# View method documentation\n",
    "sapi.customers.create?"
   ]
  },
  {
   "cell_type": "markdown",
   "metadata": {},
   "source": [
    "## Environment Variables\n",
    "\n",
    "Common environment variables used with FastStripe:\n",
    "\n",
    "- `STRIPE_SECRET_KEY`: Your Stripe secret API key\n",
    "- `STRIPE_WEBHOOK_SECRET`: Webhook endpoint secret for signature verification\n",
    "- `STRIPE_PUBLISHABLE_KEY`: Your Stripe publishable key (for frontend use)\n",
    "\n",
    "Example `.env` file:\n",
    "```\n",
    "STRIPE_SECRET_KEY=sk_test_...\n",
    "STRIPE_WEBHOOK_SECRET=whsec_...\n",
    "STRIPE_PUBLISHABLE_KEY=pk_test_...\n",
    "```"
   ]
  }
 ],
 "metadata": {
  "kernelspec": {
   "display_name": "python3",
   "language": "python",
   "name": "python3"
  }
 },
 "nbformat": 4,
 "nbformat_minor": 4
}
