{
 "cells": [
  {
   "cell_type": "code",
   "execution_count": null,
   "id": "0618d213",
   "metadata": {},
   "outputs": [],
   "source": [
    "#| default_exp page"
   ]
  },
  {
   "cell_type": "markdown",
   "id": "566a9927",
   "metadata": {},
   "source": [
    "This notebook implements pagination for the Stripe API."
   ]
  },
  {
   "cell_type": "code",
   "execution_count": null,
   "id": "8e979383",
   "metadata": {},
   "outputs": [],
   "source": [
    "#| export\n",
    "from fastcore.all import *\n",
    "from faststripe.core import *"
   ]
  },
  {
   "cell_type": "code",
   "execution_count": null,
   "id": "1f7f294d",
   "metadata": {},
   "outputs": [],
   "source": [
    "#| hide\n",
    "from nbdev import *\n",
    "\n",
    "import itertools, os"
   ]
  },
  {
   "cell_type": "code",
   "execution_count": null,
   "id": "d06978d5",
   "metadata": {},
   "outputs": [],
   "source": [
    "sapi = StripeApi(os.environ['STRIPE_SECRET_KEY'])"
   ]
  },
  {
   "cell_type": "code",
   "execution_count": null,
   "id": "c26e5d55",
   "metadata": {},
   "outputs": [
    {
     "data": {
      "text/markdown": [
       "[customers.get](https://docs.stripe.com/api/customers/list)(created: 'str', email: 'str', ending_before: 'str', expand: 'str', limit: 'str', starting_after: 'str', test_clock: 'str'): *List all customers*"
      ],
      "text/plain": [
       "[customers.get](https://docs.stripe.com/api/customers/list)(created: 'str', email: 'str', ending_before: 'str', expand: 'str', limit: 'str', starting_after: 'str', test_clock: 'str'): *List all customers*"
      ]
     },
     "execution_count": null,
     "metadata": {},
     "output_type": "execute_result"
    }
   ],
   "source": [
    "sapi.customers.get"
   ]
  },
  {
   "cell_type": "code",
   "execution_count": null,
   "id": "96245afb",
   "metadata": {},
   "outputs": [
    {
     "data": {
      "text/plain": [
       "(dict_keys(['object', 'data', 'has_more', 'url']),\n",
       " dict_keys(['id', 'object', 'address', 'balance', 'created', 'currency', 'default_source', 'delinquent', 'description', 'discount', 'email', 'invoice_prefix', 'invoice_settings', 'livemode', 'metadata', 'name', 'next_invoice_sequence', 'phone', 'preferred_locales', 'shipping', 'tax_exempt', 'test_clock']))"
      ]
     },
     "execution_count": null,
     "metadata": {},
     "output_type": "execute_result"
    }
   ],
   "source": [
    "customers = sapi.customers.get(limit = 1)\n",
    "customers.keys(), customers.data[0].keys()"
   ]
  },
  {
   "cell_type": "markdown",
   "id": "a6df67d9",
   "metadata": {},
   "source": [
    "The `paged` function provides an iterator that automatically handles pagination for Stripe API list methods."
   ]
  },
  {
   "cell_type": "code",
   "execution_count": null,
   "id": "630b64db",
   "metadata": {},
   "outputs": [],
   "source": [
    "#| export\n",
    "def paged(oper, *args, **kwargs):\n",
    "    \"\"\"Iterate through all pages of a Stripe API operation.\"\"\"\n",
    "    page = oper(*args, **kwargs)\n",
    "    yield page\n",
    "    while page.has_more:\n",
    "        last_id = page.data[-1].id\n",
    "        page = oper(*args, starting_after=last_id, **kwargs)\n",
    "        yield page"
   ]
  },
  {
   "cell_type": "code",
   "execution_count": null,
   "id": "aa48122d",
   "metadata": {},
   "outputs": [],
   "source": [
    "ps = L(itertools.islice(paged(sapi.customers.get, limit=2), 2))\n",
    "cs = L(c for p in ps for c in p.data)\n",
    "test_eq(len(ps), 2)\n",
    "test_eq(len(cs), 4)"
   ]
  },
  {
   "cell_type": "markdown",
   "id": "b5ae234f",
   "metadata": {},
   "source": [
    "The `pages` function retrieves all items from all pages and returns them as a single list."
   ]
  },
  {
   "cell_type": "code",
   "execution_count": null,
   "id": "b5b687fd",
   "metadata": {},
   "outputs": [],
   "source": [
    "#| export\n",
    "def pages(oper, *args, **kwargs):\n",
    "    \"\"\"Retrieve all items from all pages of a Stripe API operation.\"\"\"\n",
    "    return L(p for page in paged(oper, *args, **kwargs) for p in page.data)"
   ]
  },
  {
   "cell_type": "markdown",
   "id": "d06c0a79",
   "metadata": {},
   "source": [
    "Let's test the pagination with the `customers` endpoint."
   ]
  },
  {
   "cell_type": "code",
   "execution_count": null,
   "id": "656a7b23",
   "metadata": {},
   "outputs": [
    {
     "data": {
      "text/plain": [
       "(1060,\n",
       " dict_keys(['id', 'object', 'address', 'balance', 'created', 'currency', 'default_source', 'delinquent', 'description', 'discount', 'email', 'invoice_prefix', 'invoice_settings', 'livemode', 'metadata', 'name', 'next_invoice_sequence', 'phone', 'preferred_locales', 'shipping', 'tax_exempt', 'test_clock']))"
      ]
     },
     "execution_count": null,
     "metadata": {},
     "output_type": "execute_result"
    }
   ],
   "source": [
    "customers = pages(sapi.customers.get, limit=100)\n",
    "len(customers), customers[0].keys()"
   ]
  },
  {
   "cell_type": "code",
   "execution_count": null,
   "id": "3da52cdf",
   "metadata": {},
   "outputs": [],
   "source": [
    "#| hide\n",
    "import nbdev; nbdev.nbdev_export()"
   ]
  }
 ],
 "metadata": {},
 "nbformat": 4,
 "nbformat_minor": 5
}
