{
 "cells": [
  {
   "cell_type": "code",
   "execution_count": null,
   "metadata": {},
   "outputs": [],
   "source": [
    "#| default_exp page"
   ]
  },
  {
   "cell_type": "markdown",
   "metadata": {},
   "source": [
    "This notebook implements pagination for the Stripe API."
   ]
  },
  {
   "cell_type": "code",
   "execution_count": null,
   "metadata": {},
   "outputs": [],
   "source": [
    "#| export\n",
    "from fastcore.all import *\n",
    "from faststripe.core import *"
   ]
  },
  {
   "cell_type": "code",
   "execution_count": null,
   "metadata": {},
   "outputs": [],
   "source": [
    "#| hide\n",
    "from nbdev import *\n",
    "\n",
    "import itertools, os"
   ]
  },
  {
   "cell_type": "code",
   "execution_count": null,
   "metadata": {},
   "outputs": [],
   "source": [
    "sapi = StripeApi(os.environ['STRIPE_SECRET_KEY'])"
   ]
  },
  {
   "cell_type": "code",
   "execution_count": null,
   "metadata": {},
   "outputs": [
    {
     "data": {
      "text/html": [
       "<pre style=\"white-space:pre;overflow-x:auto;line-height:normal;font-family:Menlo,'DejaVu Sans Mono',consolas,'Courier New',monospace\"></pre>\n"
      ],
      "text/plain": []
     },
     "metadata": {},
     "output_type": "display_data"
    },
    {
     "data": {
      "text/markdown": [
       "[customers.get](https://docs.stripe.com/api/customers/list)(created: 'str', email: 'str', ending_before: 'str', expand: 'str', limit: 'str', starting_after: 'str', test_clock: 'str'): *List all customers*"
      ],
      "text/plain": [
       "\u001b[1m[\u001b[0mcustomers.get\u001b[1m]\u001b[0m\u001b[1m(\u001b[0m\u001b[4;94mhttps://docs.stripe.com/api/customers/list\u001b[0m\u001b[4;94m)\u001b[0m\u001b[4;94m(\u001b[0m\u001b[4;94mcreated:\u001b[0m \u001b[32m'str'\u001b[0m, email: \u001b[32m'str'\u001b[0m, ending_before: \u001b[32m'str'\u001b[0m, expand: \u001b[32m'str'\u001b[0m, limit: \u001b[32m'str'\u001b[0m, starting_after: \u001b[32m'str'\u001b[0m, test_clock: \u001b[32m'str'\u001b[0m\u001b[1m)\u001b[0m: *List all customers*"
      ]
     },
     "execution_count": null,
     "metadata": {},
     "output_type": "execute_result"
    }
   ],
   "source": [
    "sapi.customers.get"
   ]
  },
  {
   "cell_type": "code",
   "execution_count": null,
   "metadata": {},
   "outputs": [
    {
     "data": {
      "text/html": [
       "<pre style=\"white-space:pre;overflow-x:auto;line-height:normal;font-family:Menlo,'DejaVu Sans Mono',consolas,'Courier New',monospace\"></pre>\n"
      ],
      "text/plain": []
     },
     "metadata": {},
     "output_type": "display_data"
    },
    {
     "data": {
      "text/plain": [
       "\n",
       "\u001b[1m(\u001b[0m\n",
       "    \u001b[1;35mdict_keys\u001b[0m\u001b[1m(\u001b[0m\u001b[1m[\u001b[0m\u001b[32m'object'\u001b[0m, \u001b[32m'data'\u001b[0m, \u001b[32m'has_more'\u001b[0m, \u001b[32m'url'\u001b[0m\u001b[1m]\u001b[0m\u001b[1m)\u001b[0m,\n",
       "    \u001b[1;35mdict_keys\u001b[0m\u001b[1m(\u001b[0m\u001b[1m[\u001b[0m\u001b[32m'id'\u001b[0m, \u001b[32m'object'\u001b[0m, \u001b[32m'address'\u001b[0m, \u001b[32m'balance'\u001b[0m, \u001b[32m'created'\u001b[0m, \u001b[32m'currency'\u001b[0m, \u001b[32m'default_source'\u001b[0m, \u001b[32m'delinquent'\u001b[0m, \u001b[32m'description'\u001b[0m, \u001b[32m'discount'\u001b[0m, \u001b[32m'email'\u001b[0m, \u001b[32m'invoice_prefix'\u001b[0m, \u001b[32m'invoice_settings'\u001b[0m, \u001b[32m'livemode'\u001b[0m, \u001b[32m'metadata'\u001b[0m, \u001b[32m'name'\u001b[0m, \u001b[32m'next_invoice_sequence'\u001b[0m, \u001b[32m'phone'\u001b[0m, \u001b[32m'preferred_locales'\u001b[0m, \u001b[32m'shipping'\u001b[0m, \u001b[32m'tax_exempt'\u001b[0m, \u001b[32m'test_clock'\u001b[0m\u001b[1m]\u001b[0m\u001b[1m)\u001b[0m\n",
       "\u001b[1m)\u001b[0m"
      ]
     },
     "execution_count": null,
     "metadata": {},
     "output_type": "execute_result"
    }
   ],
   "source": [
    "customers = sapi.customers.get(limit = 1)\n",
    "customers.keys(), customers.data[0].keys()"
   ]
  },
  {
   "cell_type": "markdown",
   "metadata": {},
   "source": [
    "The `paged` function provides an iterator that automatically handles pagination for Stripe API list methods."
   ]
  },
  {
   "cell_type": "code",
   "execution_count": null,
   "metadata": {},
   "outputs": [],
   "source": [
    "#| export\n",
    "def paged(oper, *args, **kwargs):\n",
    "    \"\"\"Iterate through all pages of a Stripe API operation.\"\"\"\n",
    "    page = oper(*args, **kwargs)\n",
    "    yield page\n",
    "    while page.has_more:\n",
    "        last_id = page.data[-1].id\n",
    "        page = oper(*args, starting_after=last_id, **kwargs)\n",
    "        yield page"
   ]
  },
  {
   "cell_type": "code",
   "execution_count": null,
   "metadata": {},
   "outputs": [
    {
     "name": "stdout",
     "output_type": "stream",
     "text": [
      "Number of pages: 2\n"
     ]
    }
   ],
   "source": [
    "ps = L(itertools.islice(paged(sapi.customers.get, limit=2), 2))\n",
    "cs = L(c for p in ps for c in p.data)\n",
    "test_eq(len(ps), 2)\n",
    "test_eq(len(cs), 4)"
   ]
  },
  {
   "cell_type": "markdown",
   "metadata": {},
   "source": [
    "The `pages` function retrieves all items from all pages and returns them as a single list."
   ]
  },
  {
   "cell_type": "code",
   "execution_count": null,
   "metadata": {},
   "outputs": [],
   "source": [
    "#| export\n",
    "def pages(oper, *args, **kwargs):\n",
    "    \"\"\"Retrieve all items from all pages of a Stripe API operation.\"\"\"\n",
    "    return L(p for page in paged(oper, *args, **kwargs) for p in page.data)"
   ]
  },
  {
   "cell_type": "markdown",
   "metadata": {},
   "source": [
    "Let's test the pagination with the `customers` endpoint."
   ]
  },
  {
   "cell_type": "code",
   "execution_count": null,
   "metadata": {},
   "outputs": [
    {
     "data": {
      "text/html": [
       "<pre style=\"white-space:pre;overflow-x:auto;line-height:normal;font-family:Menlo,'DejaVu Sans Mono',consolas,'Courier New',monospace\"></pre>\n"
      ],
      "text/plain": []
     },
     "metadata": {},
     "output_type": "display_data"
    },
    {
     "data": {
      "text/plain": [
       "\n",
       "\u001b[1m(\u001b[0m\n",
       "    \u001b[1;36m588\u001b[0m,\n",
       "    \u001b[1;35mdict_keys\u001b[0m\u001b[1m(\u001b[0m\u001b[1m[\u001b[0m\u001b[32m'id'\u001b[0m, \u001b[32m'object'\u001b[0m, \u001b[32m'address'\u001b[0m, \u001b[32m'balance'\u001b[0m, \u001b[32m'created'\u001b[0m, \u001b[32m'currency'\u001b[0m, \u001b[32m'default_source'\u001b[0m, \u001b[32m'delinquent'\u001b[0m, \u001b[32m'description'\u001b[0m, \u001b[32m'discount'\u001b[0m, \u001b[32m'email'\u001b[0m, \u001b[32m'invoice_prefix'\u001b[0m, \u001b[32m'invoice_settings'\u001b[0m, \u001b[32m'livemode'\u001b[0m, \u001b[32m'metadata'\u001b[0m, \u001b[32m'name'\u001b[0m, \u001b[32m'next_invoice_sequence'\u001b[0m, \u001b[32m'phone'\u001b[0m, \u001b[32m'preferred_locales'\u001b[0m, \u001b[32m'shipping'\u001b[0m, \u001b[32m'tax_exempt'\u001b[0m, \u001b[32m'test_clock'\u001b[0m\u001b[1m]\u001b[0m\u001b[1m)\u001b[0m\n",
       "\u001b[1m)\u001b[0m"
      ]
     },
     "execution_count": null,
     "metadata": {},
     "output_type": "execute_result"
    }
   ],
   "source": [
    "customers = pages(sapi.customers.get, limit=100)\n",
    "len(customers), customers[0].keys()"
   ]
  },
  {
   "cell_type": "code",
   "execution_count": null,
   "metadata": {},
   "outputs": [],
   "source": [
    "#| hide\n",
    "import nbdev; nbdev.nbdev_export()"
   ]
  }
 ],
 "metadata": {
  "kernelspec": {
   "display_name": "python3",
   "language": "python",
   "name": "python3"
  }
 },
 "nbformat": 4,
 "nbformat_minor": 4
}
