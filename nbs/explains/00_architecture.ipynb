{
 "cells": [
  {
   "cell_type": "markdown",
   "metadata": {},
   "source": [
    "# FastStripe Architecture\n",
    "\n",
    "> Understanding how FastStripe works under the hood"
   ]
  },
  {
   "cell_type": "markdown",
   "metadata": {},
   "source": [
    "This document explains the architectural decisions and design patterns that make FastStripe work.\n",
    "\n",
    "## Design Philosophy\n",
    "\n",
    "FastStripe was built with several key principles in mind:\n",
    "\n",
    "1. **Self-documenting**: Developers should be able to discover API capabilities without external documentation\n",
    "2. **Lightweight**: Minimal dependencies and overhead\n",
    "3. **Consistent**: Uniform patterns across all Stripe resources\n",
    "4. **Dynamic**: Automatically adapt to Stripe API changes\n",
    "5. **Pythonic**: Natural Python idioms and patterns"
   ]
  },
  {
   "cell_type": "markdown",
   "metadata": {},
   "source": [
    "## Core Components\n",
    "\n",
    "### 1. OpenAPI Spec Processing\n",
    "\n",
    "FastStripe downloads and parses Stripe's official OpenAPI specification at runtime:"
   ]
  },
  {
   "cell_type": "code",
   "execution_count": null,
   "metadata": {},
   "outputs": [],
   "source": [
    "# This happens automatically when you import FastStripe\n",
    "stripe_openapi_url = 'https://raw.githubusercontent.com/stripe/openapi/refs/heads/master/openapi/spec3.json'\n",
    "stripe_spec = httpx.get(stripe_openapi_url).json()\n",
    "\n",
    "# The spec contains all endpoint definitions, parameters, and documentation\n",
    "print(f\"Stripe API version: {stripe_spec['info']['version']}\")\n",
    "print(f\"Number of endpoints: {len(stripe_spec['paths'])}\")"
   ]
  },
  {
   "cell_type": "markdown",
   "metadata": {},
   "source": [
    "**Why this approach?**\n",
    "- Always up-to-date with Stripe's latest API\n",
    "- No need to manually maintain endpoint definitions\n",
    "- Automatic parameter validation and documentation\n",
    "- Catches API changes immediately"
   ]
  },
  {
   "cell_type": "markdown",
   "metadata": {},
   "source": [
    "### 2. Dynamic Function Generation\n",
    "\n",
    "Instead of hard-coding methods, FastStripe creates Python functions dynamically from the OpenAPI spec:"
   ]
  },
  {
   "cell_type": "code",
   "execution_count": null,
   "metadata": {},
   "outputs": [],
   "source": [
    "def _mk_func(path, verb, param_info, summary, hdrs={}):\n",
    "    \"\"\"Create a Python function from OpenAPI endpoint definition\"\"\"\n",
    "    # Create function signature with proper parameters\n",
    "    sig_params = [Parameter(param['name'], Parameter.KEYWORD_ONLY, default=None) \n",
    "                  for param in param_info]\n",
    "    \n",
    "    # Generate docstring from API documentation\n",
    "    param_docs = '\\n'.join(f\"    {param['name']}: {param['description']}\" \n",
    "                          for param in param_info)\n",
    "    docstring = f\"{summary}\\n\\nParameters:\\n{param_docs}\" if param_docs else summary\n",
    "    \n",
    "    # Create the actual function\n",
    "    def m(**kwargs): \n",
    "        return dict2obj(getattr(httpx, verb)(stripe_api_url + path, \n",
    "                                           headers=hdrs,\n",
    "                                           params=_flatten_data(kwargs)).json())\n",
    "    \n",
    "    # Attach signature and documentation\n",
    "    m.__signature__ = Signature(sig_params)\n",
    "    m.__doc__ = docstring\n",
    "    return m"
   ]
  },
  {
   "cell_type": "markdown",
   "metadata": {},
   "source": [
    "**Benefits:**\n",
    "- IDE auto-completion and parameter hints\n",
    "- Consistent function signatures\n",
    "- Built-in documentation\n",
    "- Reduced code maintenance"
   ]
  },
  {
   "cell_type": "markdown",
   "metadata": {},
   "source": [
    "### 3. Resource Organization\n",
    "\n",
    "Endpoints are grouped by resource type based on their `operationId`:"
   ]
  },
  {
   "cell_type": "code",
   "execution_count": null,
   "metadata": {},
   "outputs": [],
   "source": [
    "def _parse_operation_id(op_id):\n",
    "    \"\"\"Convert PostCustomers -> ('customers', 'create')\"\"\"\n",
    "    parts = re.findall(r'[A-Z][a-z]*', op_id)\n",
    "    verb, *resource_parts = [p.lower() for p in parts]\n",
    "    resource = '_'.join(resource_parts) if resource_parts else 'misc'\n",
    "    method_name = 'create' if verb == 'post' else 'fetch' if verb == 'get' else verb\n",
    "    return resource, method_name\n",
    "\n",
    "# Examples:\n",
    "# PostCustomers -> ('customers', 'create')\n",
    "# GetCustomers -> ('customers', 'fetch')\n",
    "# PostCheckoutSessions -> ('checkout_sessions', 'create')"
   ]
  },
  {
   "cell_type": "markdown",
   "metadata": {},
   "source": [
    "This creates intuitive groupings:\n",
    "```python\n",
    "sapi.customers.create()    # POST /v1/customers\n",
    "sapi.customers.fetch()     # GET /v1/customers\n",
    "sapi.products.create()     # POST /v1/products\n",
    "sapi.checkout_sessions.create()  # POST /v1/checkout/sessions\n",
    "```"
   ]
  },
  {
   "cell_type": "markdown",
   "metadata": {},
   "source": [
    "### 4. Data Flattening\n",
    "\n",
    "Stripe expects form-encoded data with flattened parameters. FastStripe handles this automatically:"
   ]
  },
  {
   "cell_type": "code",
   "execution_count": null,
   "metadata": {},
   "outputs": [],
   "source": [
    "def _flatten_data(data, prefix=''):\n",
    "    \"\"\"Convert nested dictionaries to Stripe's flat format\"\"\"\n",
    "    result = {}\n",
    "    for k, v in data.items():\n",
    "        key = f'{prefix}[{k}]' if prefix else k\n",
    "        if isinstance(v, dict): \n",
    "            result.update(_flatten_data(v, key))\n",
    "        elif isinstance(v, list): \n",
    "            for i, item in enumerate(v):\n",
    "                if isinstance(item, dict): \n",
    "                    result.update(_flatten_data(item, f'{key}[{i}]'))\n",
    "                else: \n",
    "                    result[f'{key}[{i}]'] = item\n",
    "        else: \n",
    "            result[key] = v\n",
    "    return result\n",
    "\n",
    "# Example transformation:\n",
    "# {\n",
    "#     'address': {\n",
    "#         'line1': '123 Main St',\n",
    "#         'city': 'San Francisco'\n",
    "#     }\n",
    "# }\n",
    "# Becomes:\n",
    "# {\n",
    "#     'address[line1]': '123 Main St',\n",
    "#     'address[city]': 'San Francisco'\n",
    "# }"
   ]
  },
  {
   "cell_type": "markdown",
   "metadata": {},
   "source": [
    "### 5. Response Enhancement\n",
    "\n",
    "API responses are converted to AttrDict objects for convenient access:"
   ]
  },
  {
   "cell_type": "code",
   "execution_count": null,
   "metadata": {},
   "outputs": [],
   "source": [
    "# Standard dictionary access\n",
    "customer['email']           # Works but verbose\n",
    "\n",
    "# AttrDict allows dot notation\n",
    "customer.email              # More Pythonic\n",
    "customer.address.city       # Nested access\n",
    "customer.metadata.user_id   # Custom metadata"
   ]
  },
  {
   "cell_type": "markdown",
   "metadata": {},
   "source": [
    "## High-Level API Design\n",
    "\n",
    "The convenience methods (`one_time_payment`, `subscription`) follow a pattern:\n",
    "\n",
    "1. **Create or find products/prices** using helper methods\n",
    "2. **Compose complex requests** from simple parameters\n",
    "3. **Return meaningful objects** with accessible properties\n",
    "\n",
    "This abstracts away the complexity of Stripe's multi-step workflows while maintaining flexibility."
   ]
  },
  {
   "cell_type": "markdown",
   "metadata": {},
   "source": [
    "## Comparison with Official SDK\n",
    "\n",
    "| Aspect | FastStripe | Official Stripe SDK |\n",
    "|--------|------------|---------------------|\n",
    "| **Dependencies** | httpx + fastcore | Many (requests, etc.) |\n",
    "| **Size** | ~100 lines core | Thousands of lines |\n",
    "| **API Coverage** | Complete (auto-generated) | Manual maintenance |\n",
    "| **Documentation** | In-IDE with parameters | External docs required |\n",
    "| **Response Access** | Dot notation | Dictionary only |\n",
    "| **Consistency** | Uniform create/fetch | Mixed naming |\n",
    "| **Updates** | Automatic | Manual releases |\n"
   ]
  },
  {
   "cell_type": "markdown",
   "metadata": {},
   "source": [
    "## Tradeoffs and Limitations\n",
    "\n",
    "### Advantages\n",
    "- **Self-documenting**: No need to check external docs\n",
    "- **Always current**: Uses latest Stripe API spec\n",
    "- **Lightweight**: Minimal overhead\n",
    "- **Consistent**: Uniform patterns across all resources\n",
    "- **Pythonic**: Natural Python idioms\n",
    "\n",
    "### Limitations\n",
    "- **Runtime dependency**: Requires internet to fetch OpenAPI spec\n",
    "- **Less mature**: Newer than official SDK\n",
    "- **Limited customization**: Fewer configuration options\n",
    "- **Error handling**: Less sophisticated than official SDK"
   ]
  },
  {
   "cell_type": "markdown",
   "metadata": {},
   "source": [
    "## Design Patterns\n",
    "\n",
    "### 1. Factory Pattern\n",
    "The `StripeApi` class acts as a factory, creating method groups and functions dynamically.\n",
    "\n",
    "### 2. Facade Pattern\n",
    "High-level methods like `one_time_payment()` provide a simplified interface to complex workflows.\n",
    "\n",
    "### 3. Adapter Pattern\n",
    "Data flattening adapts Python's natural nested dictionaries to Stripe's flat format.\n",
    "\n",
    "### 4. Decorator Pattern\n",
    "Helper methods are added to the main class using `@patch`, keeping the core clean."
   ]
  },
  {
   "cell_type": "markdown",
   "metadata": {},
   "source": [
    "## Future Considerations\n",
    "\n",
    "### Caching\n",
    "The OpenAPI spec could be cached locally to reduce startup time and network dependency.\n",
    "\n",
    "### Error Handling\n",
    "More sophisticated error handling and retry logic could be added.\n",
    "\n",
    "### Async Support\n",
    "Async/await support for high-performance applications.\n",
    "\n",
    "### Type Hints\n",
    "Dynamic type hint generation for better IDE support."
   ]
  }
 ],
 "metadata": {
  "kernelspec": {
   "display_name": "python3",
   "language": "python",
   "name": "python3"
  }
 },
 "nbformat": 4,
 "nbformat_minor": 4
}
