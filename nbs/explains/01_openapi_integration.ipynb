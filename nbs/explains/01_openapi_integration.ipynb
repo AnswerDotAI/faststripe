{
 "cells": [
  {
   "cell_type": "markdown",
   "metadata": {},
   "source": [
    "# OpenAPI Integration\n",
    "\n",
    "> How FastStripe leverages Stripe's OpenAPI specification"
   ]
  },
  {
   "cell_type": "markdown",
   "metadata": {},
   "source": [
    "This document explains how FastStripe uses Stripe's OpenAPI specification to provide automatic API coverage and self-documenting methods.\n",
    "\n",
    "## What is OpenAPI?\n",
    "\n",
    "OpenAPI (formerly Swagger) is a specification for describing REST APIs. It defines:\n",
    "\n",
    "- **Endpoints**: Available URLs and HTTP methods\n",
    "- **Parameters**: Required and optional parameters for each endpoint\n",
    "- **Schemas**: Data structures for requests and responses\n",
    "- **Documentation**: Descriptions and examples\n",
    "\n",
    "Stripe maintains an official OpenAPI specification that describes their entire API."
   ]
  },
  {
   "cell_type": "markdown",
   "metadata": {},
   "source": [
    "## Why Use OpenAPI?\n",
    "\n",
    "Traditional SDK approaches require manual maintenance:\n",
    "\n",
    "```python\n",
    "# Manual approach - requires constant updates\n",
    "class StripeClient:\n",
    "    def create_customer(self, email, name=None, phone=None, ...):\n",
    "        # Hard-coded parameters\n",
    "        # Manual documentation\n",
    "        # Prone to becoming outdated\n",
    "```\n",
    "\n",
    "OpenAPI-driven approach provides:\n",
    "\n",
    "1. **Automatic updates**: Always reflects latest API\n",
    "2. **Complete coverage**: No missing endpoints\n",
    "3. **Accurate documentation**: Pulled directly from Stripe\n",
    "4. **Parameter validation**: Based on official schemas"
   ]
  },
  {
   "cell_type": "markdown",
   "metadata": {},
   "source": [
    "## Stripe's OpenAPI Structure\n",
    "\n",
    "Let's examine how Stripe organizes their API specification:"
   ]
  },
  {
   "cell_type": "code",
   "execution_count": null,
   "metadata": {},
   "outputs": [],
   "source": [
    "import httpx\n",
    "\n",
    "# Fetch Stripe's OpenAPI spec\n",
    "stripe_openapi_url = 'https://raw.githubusercontent.com/stripe/openapi/refs/heads/master/openapi/spec3.json'\n",
    "stripe_spec = httpx.get(stripe_openapi_url).json()\n",
    "\n",
    "# Top-level structure\n",
    "print(\"OpenAPI spec keys:\", list(stripe_spec.keys()))\n",
    "print(f\"API version: {stripe_spec['info']['version']}\")\n",
    "print(f\"Number of paths: {len(stripe_spec['paths'])}\")"
   ]
  },
  {
   "cell_type": "markdown",
   "metadata": {},
   "source": [
    "### Examining an Endpoint\n",
    "\n",
    "Let's look at how a typical endpoint is defined:"
   ]
  },
  {
   "cell_type": "code",
   "execution_count": null,
   "metadata": {},
   "outputs": [],
   "source": [
    "# Example: Customer creation endpoint\n",
    "customers_path = stripe_spec['paths']['/v1/customers']\n",
    "create_customer = customers_path['post']\n",
    "\n",
    "print(f\"Operation ID: {create_customer['operationId']}\")\n",
    "print(f\"Summary: {create_customer['summary']}\")\n",
    "print(f\"Description: {create_customer['description'][:100]}...\")\n",
    "\n",
    "# Parameters from request body schema\n",
    "schema = create_customer['requestBody']['content']['application/x-www-form-urlencoded']['schema']\n",
    "properties = schema['properties']\n",
    "print(f\"\\nAvailable parameters: {len(properties)}\")\n",
    "print(\"First 5 parameters:\", list(properties.keys())[:5])"
   ]
  },
  {
   "cell_type": "markdown",
   "metadata": {},
   "source": [
    "### Parameter Information\n",
    "\n",
    "Each parameter includes rich metadata:"
   ]
  },
  {
   "cell_type": "code",
   "execution_count": null,
   "metadata": {},
   "outputs": [],
   "source": [
    "# Example: email parameter\n",
    "email_param = properties['email']\n",
    "print(\"Email parameter:\")\n",
    "print(f\"  Type: {email_param.get('type')}\")\n",
    "print(f\"  Max length: {email_param.get('maxLength')}\")\n",
    "print(f\"  Description: {email_param.get('description')}\")\n",
    "\n",
    "# Example: address parameter (nested object)\n",
    "address_param = properties['address']\n",
    "print(\"\\nAddress parameter:\")\n",
    "print(f\"  Type: {address_param['anyOf'][0]['type']}\")\n",
    "print(f\"  Description: {address_param.get('description')}\")\n",
    "if 'properties' in address_param['anyOf'][0]:\n",
    "    address_props = address_param['anyOf'][0]['properties']\n",
    "    print(f\"  Nested fields: {list(address_props.keys())}\")"
   ]
  },
  {
   "cell_type": "markdown",
   "metadata": {},
   "source": [
    "## FastStripe's Processing Pipeline\n",
    "\n",
    "Here's how FastStripe transforms the OpenAPI spec into Python methods:\n",
    "\n",
    "### 1. Endpoint Extraction"
   ]
  },
  {
   "cell_type": "code",
   "execution_count": null,
   "metadata": {},
   "outputs": [],
   "source": [
    "def stripe_endpoints(spec: dict):\n",
    "    \"\"\"Extract all endpoints from OpenAPI spec\"\"\"\n",
    "    endpoints = []\n",
    "    \n",
    "    for path, methods in spec['paths'].items():\n",
    "        for verb, details in methods.items():\n",
    "            # Extract basic info\n",
    "            op_id = details.get('operationId', '')\n",
    "            summary = details.get('summary', '')\n",
    "            \n",
    "            # Extract query parameters\n",
    "            query_params = [\n",
    "                dict(name=p['name'], description=p.get('description', ''))\n",
    "                for p in details.get('parameters', []) \n",
    "                if p.get('in') == 'query'\n",
    "            ]\n",
    "            \n",
    "            # Extract body parameters\n",
    "            body_params = []\n",
    "            if 'requestBody' in details:\n",
    "                schema_path = ['requestBody', 'content', 'application/x-www-form-urlencoded', 'schema', 'properties']\n",
    "                schema = nested_idx(details, *schema_path) or {}\n",
    "                body_params = [\n",
    "                    dict(name=k, description=v.get('description', ''))\n",
    "                    for k, v in schema.items()\n",
    "                ]\n",
    "            \n",
    "            all_params = query_params + body_params\n",
    "            endpoints.append(dict(\n",
    "                path=path, \n",
    "                verb=verb, \n",
    "                op_id=op_id, \n",
    "                summary=summary, \n",
    "                params=all_params\n",
    "            ))\n",
    "    \n",
    "    return endpoints"
   ]
  },
  {
   "cell_type": "markdown",
   "metadata": {},
   "source": [
    "### 2. Method Generation\n",
    "\n",
    "Each endpoint becomes a Python function with proper signature and documentation:"
   ]
  },
  {
   "cell_type": "code",
   "execution_count": null,
   "metadata": {},
   "outputs": [],
   "source": [
    "from inspect import Parameter, Signature\n",
    "\n",
    "def _mk_func(path, verb, param_info, summary, hdrs={}):\n",
    "    \"\"\"Generate Python function from endpoint definition\"\"\"\n",
    "    \n",
    "    # Create function signature\n",
    "    sig_params = [\n",
    "        Parameter(param['name'], Parameter.KEYWORD_ONLY, default=None) \n",
    "        for param in param_info\n",
    "    ]\n",
    "    \n",
    "    # Generate docstring\n",
    "    param_docs = '\\n'.join(\n",
    "        f\"    {param['name']}: {param['description']}\" \n",
    "        for param in param_info\n",
    "    )\n",
    "    docstring = f\"{summary}\\n\\nParameters:\\n{param_docs}\" if param_docs else summary\n",
    "    \n",
    "    # Create the actual function\n",
    "    def method(**kwargs):\n",
    "        response = getattr(httpx, verb)(\n",
    "            stripe_api_url + path, \n",
    "            headers=hdrs,\n",
    "            params=_flatten_data(kwargs)\n",
    "        )\n",
    "        return dict2obj(response.json())\n",
    "    \n",
    "    # Attach metadata\n",
    "    method.__signature__ = Signature(sig_params)\n",
    "    method.__doc__ = docstring\n",
    "    \n",
    "    return method"
   ]
  },
  {
   "cell_type": "markdown",
   "metadata": {},
   "source": [
    "### 3. Resource Grouping\n",
    "\n",
    "Methods are organized by resource type based on operation IDs:"
   ]
  },
  {
   "cell_type": "code",
   "execution_count": null,
   "metadata": {},
   "outputs": [],
   "source": [
    "import re\n",
    "from collections import defaultdict\n",
    "\n",
    "def _parse_operation_id(op_id):\n",
    "    \"\"\"Parse PostCustomers -> ('customers', 'create')\"\"\"\n",
    "    parts = re.findall(r'[A-Z][a-z]*', op_id)\n",
    "    verb, *resource_parts = [p.lower() for p in parts]\n",
    "    \n",
    "    resource = '_'.join(resource_parts) if resource_parts else 'misc'\n",
    "    method_name = {\n",
    "        'post': 'create',\n",
    "        'get': 'fetch',\n",
    "        'delete': 'delete'\n",
    "    }.get(verb, verb)\n",
    "    \n",
    "    return resource, method_name\n",
    "\n",
    "# Group endpoints by resource\n",
    "eps = stripe_endpoints(stripe_spec)\n",
    "groups = defaultdict(list)\n",
    "\n",
    "for ep in eps:\n",
    "    resource, method_name = _parse_operation_id(ep['op_id'])\n",
    "    groups[resource].append((ep['path'], ep['verb'], method_name, ep['summary'], ep['params']))\n",
    "\n",
    "print(f\"Found {len(groups)} resource groups\")\n",
    "print(\"Resource groups:\", list(groups.keys())[:10])"
   ]
  },
  {
   "cell_type": "markdown",
   "metadata": {},
   "source": [
    "## Benefits of OpenAPI Integration\n",
    "\n",
    "### 1. Complete API Coverage\n",
    "\n",
    "FastStripe automatically supports all Stripe endpoints without manual implementation:"
   ]
  },
  {
   "cell_type": "code",
   "execution_count": null,
   "metadata": {},
   "outputs": [],
   "source": [
    "# All these work automatically:\n",
    "sapi.customers.create()          # POST /v1/customers\n",
    "sapi.products.create()           # POST /v1/products\n",
    "sapi.prices.create()             # POST /v1/prices\n",
    "sapi.checkout_sessions.create()  # POST /v1/checkout/sessions\n",
    "sapi.payment_intents.create()    # POST /v1/payment_intents\n",
    "sapi.subscriptions.create()      # POST /v1/subscriptions\n",
    "sapi.invoices.create()           # POST /v1/invoices\n",
    "sapi.coupons.create()            # POST /v1/coupons\n",
    "# ... and 100+ more endpoints"
   ]
  },
  {
   "cell_type": "markdown",
   "metadata": {},
   "source": [
    "### 2. Self-Documenting Methods\n",
    "\n",
    "Every method includes parameter descriptions from Stripe's official docs:"
   ]
  },
  {
   "cell_type": "code",
   "execution_count": null,
   "metadata": {},
   "outputs": [],
   "source": [
    "# IDE will show all parameters with descriptions\n",
    "sapi.customers.create(\n",
    "    email='user@example.com',        # Customer's email address\n",
    "    name='John Doe',                 # Customer's full name\n",
    "    phone='+1234567890',            # Customer's phone number\n",
    "    address={\n",
    "        'line1': '123 Main St',       # Address line 1\n",
    "        'city': 'San Francisco',      # City\n",
    "        'state': 'CA',               # State\n",
    "        'postal_code': '94105',      # Postal code\n",
    "        'country': 'US'              # Country\n",
    "    },\n",
    "    metadata={                        # Key-value pairs for custom data\n",
    "        'user_id': '12345'\n",
    "    }\n",
    ")"
   ]
  },
  {
   "cell_type": "markdown",
   "metadata": {},
   "source": [
    "### 3. Automatic Updates\n",
    "\n",
    "When Stripe adds new endpoints or parameters, FastStripe automatically supports them:\n",
    "\n",
    "```python\n",
    "# If Stripe adds a new 'priority' parameter to customers\n",
    "# FastStripe will immediately support it:\n",
    "customer = sapi.customers.create(\n",
    "    email='user@example.com',\n",
    "    priority='high'  # New parameter automatically available\n",
    ")\n",
    "```"
   ]
  },
  {
   "cell_type": "markdown",
   "metadata": {},
   "source": [
    "## Handling OpenAPI Complexity\n",
    "\n",
    "### Nested Parameters\n",
    "\n",
    "OpenAPI can define complex nested structures. FastStripe handles these elegantly:"
   ]
  },
  {
   "cell_type": "code",
   "execution_count": null,
   "metadata": {},
   "outputs": [],
   "source": [
    "# OpenAPI defines address as:\n",
    "# {\n",
    "#   \"address\": {\n",
    "#     \"anyOf\": [\n",
    "#       {\n",
    "#         \"type\": \"object\",\n",
    "#         \"properties\": {\n",
    "#           \"line1\": {\"type\": \"string\"},\n",
    "#           \"city\": {\"type\": \"string\"}\n",
    "#         }\n",
    "#       }\n",
    "#     ]\n",
    "#   }\n",
    "# }\n",
    "\n",
    "# FastStripe allows natural Python syntax:\n",
    "sapi.customers.create(\n",
    "    email='user@example.com',\n",
    "    address={\n",
    "        'line1': '123 Main St',\n",
    "        'city': 'San Francisco'\n",
    "    }\n",
    ")"
   ]
  },
  {
   "cell_type": "markdown",
   "metadata": {},
   "source": [
    "### Parameter Validation\n",
    "\n",
    "While FastStripe doesn't implement client-side validation, the OpenAPI spec provides the foundation for future enhancements:\n",
    "\n",
    "- **Type information**: String, integer, boolean, array, object\n",
    "- **Constraints**: Max length, min/max values, enum options\n",
    "- **Required fields**: Which parameters are mandatory\n",
    "- **Format validation**: Email, URL, date formats"
   ]
  },
  {
   "cell_type": "markdown",
   "metadata": {},
   "source": [
    "## Limitations and Considerations\n",
    "\n",
    "### Runtime Dependency\n",
    "\n",
    "FastStripe requires internet access to fetch the OpenAPI spec. Future versions could:\n",
    "\n",
    "- Cache the spec locally\n",
    "- Bundle a fallback spec\n",
    "- Provide offline mode\n",
    "\n",
    "### Error Handling\n",
    "\n",
    "OpenAPI doesn't provide detailed error information. FastStripe relies on Stripe's HTTP error responses.\n",
    "\n",
    "### Complex Workflows\n",
    "\n",
    "OpenAPI describes individual endpoints, not multi-step workflows. FastStripe's high-level methods (`one_time_payment`, `subscription`) bridge this gap."
   ]
  },
  {
   "cell_type": "markdown",
   "metadata": {},
   "source": [
    "## Future Enhancements\n",
    "\n",
    "### Type Hints\n",
    "\n",
    "Generate dynamic type hints from OpenAPI schemas:\n",
    "\n",
    "```python\n",
    "def create_customer(\n",
    "    *,\n",
    "    email: Optional[str] = None,\n",
    "    name: Optional[str] = None,\n",
    "    address: Optional[CustomerAddress] = None\n",
    ") -> Customer:\n",
    "    ...\n",
    "```\n",
    "\n",
    "### Client-Side Validation\n",
    "\n",
    "Validate parameters before sending requests:\n",
    "\n",
    "```python\n",
    "# Catch errors early\n",
    "sapi.customers.create(email='invalid-email')  # ValidationError\n",
    "```\n",
    "\n",
    "### Response Models\n",
    "\n",
    "Generate typed response models from OpenAPI schemas for better IDE support and runtime safety."
   ]
  }
 ],
 "metadata": {
  "kernelspec": {
   "display_name": "python3",
   "language": "python",
   "name": "python3"
  }
 },
 "nbformat": 4,
 "nbformat_minor": 4
}
