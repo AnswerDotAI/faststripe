{
 "cells": [
  {
   "cell_type": "markdown",
   "metadata": {},
   "source": [
    "# OpenAPI Integration\n",
    "\n",
    "> How FastStripe leverages Stripe's OpenAPI specification"
   ]
  },
  {
   "cell_type": "markdown",
   "metadata": {},
   "outputs": [],
   "source": "This document explains how FastStripe uses Stripe's OpenAPI specification to provide automatic API coverage and self-documenting methods.\n\n## Static vs Dynamic Approach\n\nFastStripe uses a **static snapshot** approach rather than fetching the OpenAPI spec at runtime. The endpoints are pre-processed and stored in `endpoints.py`, which provides:\n\n- **Faster startup**: No network requests during import\n- **Reliability**: Works without internet connection for API calls\n- **Version stability**: Pinned to specific Stripe API versions\n- **Predictable behavior**: Same endpoints across all environments"
  },
  {
   "cell_type": "markdown",
   "metadata": {},
   "source": [
    "## Why Use OpenAPI?\n",
    "\n",
    "Traditional SDK approaches require manual maintenance:\n",
    "\n",
    "```python\n",
    "# Manual approach - requires constant updates\n",
    "class StripeClient:\n",
    "    def create_customer(self, email, name=None, phone=None, ...):\n",
    "        # Hard-coded parameters\n",
    "        # Manual documentation\n",
    "        # Prone to becoming outdated\n",
    "```\n",
    "\n",
    "OpenAPI-driven approach provides:\n",
    "\n",
    "1. **Automatic updates**: Always reflects latest API\n",
    "2. **Complete coverage**: No missing endpoints\n",
    "3. **Accurate documentation**: Pulled directly from Stripe\n",
    "4. **Parameter validation**: Based on official schemas"
   ]
  },
  {
   "cell_type": "markdown",
   "metadata": {},
   "source": [
    "## Stripe's OpenAPI Structure\n",
    "\n",
    "Let's examine how Stripe organizes their API specification:"
   ]
  },
  {
   "cell_type": "code",
   "metadata": {},
   "outputs": [],
   "source": "# FastStripe loads endpoints from a static file\nfrom faststripe.endpoints import eps\n\nprint(f\"Number of endpoints: {len(eps)}\")\nprint(f\"First endpoint: {eps[0]}\")\n\n# The endpoints file is generated from Stripe's OpenAPI spec\n# and updated using: faststripe_update"
  },
  {
   "cell_type": "markdown",
   "metadata": {},
   "outputs": [],
   "source": "### Examining Endpoint Structure\n\nLet's look at how endpoints are stored in the static file:"
  },
  {
   "cell_type": "code",
   "metadata": {},
   "outputs": [],
   "source": "# Example: Customer creation endpoint from static file\ncustomer_endpoint = next(ep for ep in eps if ep['path'] == '/v1/customers' and ep['verb'] == 'post')\n\nprint(f\"Path: {customer_endpoint['path']}\")\nprint(f\"Verb: {customer_endpoint['verb']}\")\nprint(f\"Operation ID: {customer_endpoint['op_id']}\")\nprint(f\"Summary: {customer_endpoint['summary']}\")\nprint(f\"Number of parameters: {len(customer_endpoint['params'])}\")\nprint(\"\\nFirst 3 parameters:\")\nfor param in customer_endpoint['params'][:3]:\n    print(f\"  {param['name']}: {param['description'][:50]}...\")"
  },
  {
   "cell_type": "markdown",
   "metadata": {},
   "source": [
    "### Parameter Information\n",
    "\n",
    "Each parameter includes rich metadata:"
   ]
  },
  {
   "cell_type": "code",
   "execution_count": null,
   "metadata": {},
   "outputs": [],
   "source": [
    "# Example: email parameter\n",
    "email_param = properties['email']\n",
    "print(\"Email parameter:\")\n",
    "print(f\"  Type: {email_param.get('type')}\")\n",
    "print(f\"  Max length: {email_param.get('maxLength')}\")\n",
    "print(f\"  Description: {email_param.get('description')}\")\n",
    "\n",
    "# Example: address parameter (nested object)\n",
    "address_param = properties['address']\n",
    "print(\"\\nAddress parameter:\")\n",
    "print(f\"  Type: {address_param['anyOf'][0]['type']}\")\n",
    "print(f\"  Description: {address_param.get('description')}\")\n",
    "if 'properties' in address_param['anyOf'][0]:\n",
    "    address_props = address_param['anyOf'][0]['properties']\n",
    "    print(f\"  Nested fields: {list(address_props.keys())}\")"
   ]
  },
  {
   "cell_type": "markdown",
   "metadata": {},
   "source": [
    "## FastStripe's Processing Pipeline\n",
    "\n",
    "Here's how FastStripe transforms the OpenAPI spec into Python methods:\n",
    "\n",
    "### 1. Endpoint Extraction"
   ]
  },
  {
   "cell_type": "code",
   "execution_count": null,
   "metadata": {},
   "outputs": [],
   "source": [
    "def stripe_endpoints(spec: dict):\n",
    "    \"\"\"Extract all endpoints from OpenAPI spec\"\"\"\n",
    "    endpoints = []\n",
    "    \n",
    "    for path, methods in spec['paths'].items():\n",
    "        for verb, details in methods.items():\n",
    "            # Extract basic info\n",
    "            op_id = details.get('operationId', '')\n",
    "            summary = details.get('summary', '')\n",
    "            \n",
    "            # Extract query parameters\n",
    "            query_params = [\n",
    "                dict(name=p['name'], description=p.get('description', ''))\n",
    "                for p in details.get('parameters', []) \n",
    "                if p.get('in') == 'query'\n",
    "            ]\n",
    "            \n",
    "            # Extract body parameters\n",
    "            body_params = []\n",
    "            if 'requestBody' in details:\n",
    "                schema_path = ['requestBody', 'content', 'application/x-www-form-urlencoded', 'schema', 'properties']\n",
    "                schema = nested_idx(details, *schema_path) or {}\n",
    "                body_params = [\n",
    "                    dict(name=k, description=v.get('description', ''))\n",
    "                    for k, v in schema.items()\n",
    "                ]\n",
    "            \n",
    "            all_params = query_params + body_params\n",
    "            endpoints.append(dict(\n",
    "                path=path, \n",
    "                verb=verb, \n",
    "                op_id=op_id, \n",
    "                summary=summary, \n",
    "                params=all_params\n",
    "            ))\n",
    "    \n",
    "    return endpoints"
   ]
  },
  {
   "cell_type": "markdown",
   "metadata": {},
   "source": [
    "### 2. Method Generation\n",
    "\n",
    "Each endpoint becomes a Python function with proper signature and documentation:"
   ]
  },
  {
   "cell_type": "code",
   "execution_count": null,
   "metadata": {},
   "outputs": [],
   "source": [
    "from inspect import Parameter, Signature\n",
    "\n",
    "def _mk_func(path, verb, param_info, summary, hdrs={}):\n",
    "    \"\"\"Generate Python function from endpoint definition\"\"\"\n",
    "    \n",
    "    # Create function signature\n",
    "    sig_params = [\n",
    "        Parameter(param['name'], Parameter.KEYWORD_ONLY, default=None) \n",
    "        for param in param_info\n",
    "    ]\n",
    "    \n",
    "    # Generate docstring\n",
    "    param_docs = '\\n'.join(\n",
    "        f\"    {param['name']}: {param['description']}\" \n",
    "        for param in param_info\n",
    "    )\n",
    "    docstring = f\"{summary}\\n\\nParameters:\\n{param_docs}\" if param_docs else summary\n",
    "    \n",
    "    # Create the actual function\n",
    "    def method(**kwargs):\n",
    "        response = getattr(httpx, verb)(\n",
    "            stripe_api_url + path, \n",
    "            headers=hdrs,\n",
    "            params=_flatten_data(kwargs)\n",
    "        )\n",
    "        return dict2obj(response.json())\n",
    "    \n",
    "    # Attach metadata\n",
    "    method.__signature__ = Signature(sig_params)\n",
    "    method.__doc__ = docstring\n",
    "    \n",
    "    return method"
   ]
  },
  {
   "cell_type": "markdown",
   "metadata": {},
   "source": [
    "### 3. Resource Grouping\n",
    "\n",
    "Methods are organized by resource type based on operation IDs:"
   ]
  },
  {
   "cell_type": "code",
   "execution_count": null,
   "metadata": {},
   "outputs": [],
   "source": [
    "import re\n",
    "from collections import defaultdict\n",
    "\n",
    "def _parse_operation_id(op_id):\n",
    "    \"\"\"Parse PostCustomers -> ('customers', 'create')\"\"\"\n",
    "    parts = re.findall(r'[A-Z][a-z]*', op_id)\n",
    "    verb, *resource_parts = [p.lower() for p in parts]\n",
    "    \n",
    "    resource = '_'.join(resource_parts) if resource_parts else 'misc'\n",
    "    method_name = {\n",
    "        'post': 'create',\n",
    "        'get': 'fetch',\n",
    "        'delete': 'delete'\n",
    "    }.get(verb, verb)\n",
    "    \n",
    "    return resource, method_name\n",
    "\n",
    "# Group endpoints by resource\n",
    "eps = stripe_endpoints(stripe_spec)\n",
    "groups = defaultdict(list)\n",
    "\n",
    "for ep in eps:\n",
    "    resource, method_name = _parse_operation_id(ep['op_id'])\n",
    "    groups[resource].append((ep['path'], ep['verb'], method_name, ep['summary'], ep['params']))\n",
    "\n",
    "print(f\"Found {len(groups)} resource groups\")\n",
    "print(\"Resource groups:\", list(groups.keys())[:10])"
   ]
  },
  {
   "cell_type": "markdown",
   "metadata": {},
   "source": [
    "## Benefits of OpenAPI Integration\n",
    "\n",
    "### 1. Complete API Coverage\n",
    "\n",
    "FastStripe automatically supports all Stripe endpoints without manual implementation:"
   ]
  },
  {
   "cell_type": "code",
   "execution_count": null,
   "metadata": {},
   "outputs": [],
   "source": [
    "# All these work automatically:\n",
    "sapi.customers.create()          # POST /v1/customers\n",
    "sapi.products.create()           # POST /v1/products\n",
    "sapi.prices.create()             # POST /v1/prices\n",
    "sapi.checkout_sessions.create()  # POST /v1/checkout/sessions\n",
    "sapi.payment_intents.create()    # POST /v1/payment_intents\n",
    "sapi.subscriptions.create()      # POST /v1/subscriptions\n",
    "sapi.invoices.create()           # POST /v1/invoices\n",
    "sapi.coupons.create()            # POST /v1/coupons\n",
    "# ... and 100+ more endpoints"
   ]
  },
  {
   "cell_type": "markdown",
   "metadata": {},
   "source": [
    "### 2. Self-Documenting Methods\n",
    "\n",
    "Every method includes parameter descriptions from Stripe's official docs:"
   ]
  },
  {
   "cell_type": "code",
   "execution_count": null,
   "metadata": {},
   "outputs": [],
   "source": [
    "# IDE will show all parameters with descriptions\n",
    "sapi.customers.create(\n",
    "    email='user@example.com',        # Customer's email address\n",
    "    name='John Doe',                 # Customer's full name\n",
    "    phone='+1234567890',            # Customer's phone number\n",
    "    address={\n",
    "        'line1': '123 Main St',       # Address line 1\n",
    "        'city': 'San Francisco',      # City\n",
    "        'state': 'CA',               # State\n",
    "        'postal_code': '94105',      # Postal code\n",
    "        'country': 'US'              # Country\n",
    "    },\n",
    "    metadata={                        # Key-value pairs for custom data\n",
    "        'user_id': '12345'\n",
    "    }\n",
    ")"
   ]
  },
  {
   "cell_type": "markdown",
   "metadata": {},
   "source": [
    "### 3. Automatic Updates\n",
    "\n",
    "When Stripe adds new endpoints or parameters, FastStripe automatically supports them:\n",
    "\n",
    "```python\n",
    "# If Stripe adds a new 'priority' parameter to customers\n",
    "# FastStripe will immediately support it:\n",
    "customer = sapi.customers.create(\n",
    "    email='user@example.com',\n",
    "    priority='high'  # New parameter automatically available\n",
    ")\n",
    "```"
   ]
  },
  {
   "cell_type": "markdown",
   "metadata": {},
   "source": [
    "## Handling OpenAPI Complexity\n",
    "\n",
    "### Nested Parameters\n",
    "\n",
    "OpenAPI can define complex nested structures. FastStripe handles these elegantly:"
   ]
  },
  {
   "cell_type": "code",
   "execution_count": null,
   "metadata": {},
   "outputs": [],
   "source": [
    "# OpenAPI defines address as:\n",
    "# {\n",
    "#   \"address\": {\n",
    "#     \"anyOf\": [\n",
    "#       {\n",
    "#         \"type\": \"object\",\n",
    "#         \"properties\": {\n",
    "#           \"line1\": {\"type\": \"string\"},\n",
    "#           \"city\": {\"type\": \"string\"}\n",
    "#         }\n",
    "#       }\n",
    "#     ]\n",
    "#   }\n",
    "# }\n",
    "\n",
    "# FastStripe allows natural Python syntax:\n",
    "sapi.customers.create(\n",
    "    email='user@example.com',\n",
    "    address={\n",
    "        'line1': '123 Main St',\n",
    "        'city': 'San Francisco'\n",
    "    }\n",
    ")"
   ]
  },
  {
   "cell_type": "markdown",
   "metadata": {},
   "source": [
    "### Parameter Validation\n",
    "\n",
    "While FastStripe doesn't implement client-side validation, the OpenAPI spec provides the foundation for future enhancements:\n",
    "\n",
    "- **Type information**: String, integer, boolean, array, object\n",
    "- **Constraints**: Max length, min/max values, enum options\n",
    "- **Required fields**: Which parameters are mandatory\n",
    "- **Format validation**: Email, URL, date formats"
   ]
  },
  {
   "cell_type": "markdown",
   "metadata": {},
   "outputs": [],
   "source": "## How Endpoints Are Updated\n\n### Generation Process\n\nThe `faststripe_update` command downloads Stripe's latest OpenAPI spec and regenerates the endpoints file:\n\n```bash\n# This is run by maintainers, not end users\nfaststripe_update\n```\n\nThis process:\n1. Downloads the latest OpenAPI spec from Stripe\n2. Extracts all endpoints and parameters \n3. Updates the FastStripe version to match Stripe's API version\n4. Regenerates `faststripe/endpoints.py` with the new data\n\n### Automated Updates\n\nA GitHub Actions workflow automatically checks for Stripe API updates and creates new releases when needed. This ensures FastStripe stays current with Stripe's API without manual intervention."
  },
  {
   "cell_type": "markdown",
   "metadata": {},
   "outputs": [],
   "source": "## Benefits of Static Approach\n\n### 1. Predictable Behavior\n\nSince endpoints are pinned to specific Stripe API versions, your code won't break unexpectedly:\n\n```python\n# This will always work the same way within a FastStripe version\ncustomer = sapi.customers.create(email='test@example.com')\n```\n\n### 2. Faster Imports\n\nNo network requests during module import means faster application startup.\n\n### 3. Version Control\n\nChanges to the Stripe API are tracked in git, making it easy to see what changed between versions.\n\n### 4. Offline Development\n\nOnce FastStripe is installed, you can develop and test without internet access (your app still needs internet to call Stripe's API)."
  }
 ],
 "metadata": {
  "kernelspec": {
   "display_name": "python3",
   "language": "python",
   "name": "python3"
  }
 },
 "nbformat": 4,
 "nbformat_minor": 4
}
