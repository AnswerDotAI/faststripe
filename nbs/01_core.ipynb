{
 "cells": [
  {
   "cell_type": "markdown",
   "metadata": {},
   "source": [
    "# core\n",
    "\n",
    "> Fill in a module description here"
   ]
  },
  {
   "cell_type": "code",
   "execution_count": null,
   "metadata": {},
   "outputs": [],
   "source": [
    "#| default_exp core"
   ]
  },
  {
   "cell_type": "code",
   "execution_count": null,
   "metadata": {},
   "outputs": [],
   "source": [
    "#| export\n",
    "from fastcore.all import *\n",
    "from faststripe.endpoints import eps\n",
    "from faststripe.spec import docs_url\n",
    "from inspect import Parameter, Signature\n",
    "\n",
    "import re"
   ]
  },
  {
   "cell_type": "code",
   "execution_count": null,
   "metadata": {},
   "outputs": [],
   "source": [
    "#| hide\n",
    "from nbdev import *\n",
    "\n",
    "import os"
   ]
  },
  {
   "cell_type": "code",
   "execution_count": null,
   "metadata": {},
   "outputs": [],
   "source": [
    "#| exports\n",
    "stripe_api_url = 'https://api.stripe.com'"
   ]
  },
  {
   "cell_type": "code",
   "execution_count": null,
   "metadata": {},
   "outputs": [
    {
     "data": {
      "text/plain": [
       "{'data': [{'annotation': list,\n",
       "   'default': None,\n",
       "   'description': 'Specifies which fields in the response should be expanded.',\n",
       "   'name': 'expand'},\n",
       "  {'annotation': bool,\n",
       "   'default': None,\n",
       "   'description': \"To request a new capability for an account, pass true. There can be a delay before the requested capability becomes active. If the capability has any activation requirements, the response includes them in the `requirements` arrays.\\n\\nIf a capability isn't permanent, you can remove it from the account by passing false. Some capabilities are permanent after they've been requested. Attempting to remove a permanent capability returns an error.\",\n",
       "   'name': 'requested'}],\n",
       " 'doc_url': 'https://docs.stripe.com/api/capabilities/update',\n",
       " 'op_id': 'PostAccountsAccountCapabilitiesCapability',\n",
       " 'path': '/v1/accounts/{account}/capabilities/{capability}',\n",
       " 'qparams': [],\n",
       " 'summary': 'Update an Account Capability',\n",
       " 'verb': 'post'}"
      ]
     },
     "execution_count": null,
     "metadata": {},
     "output_type": "execute_result"
    }
   ],
   "source": [
    "ep = first(eps, lambda x: x['data'] and len(x['data']) < 3)\n",
    "ep"
   ]
  },
  {
   "cell_type": "markdown",
   "metadata": {},
   "source": [
    "Now, with each of these descriptions, we can easily create a request that we want on the fly. However, to make it a little bit nicer to use in a library, we'll go ahead and automatically generate classes with proper signatures and docstrings that are then easily accessible in any standard IDE."
   ]
  },
  {
   "cell_type": "code",
   "execution_count": null,
   "metadata": {},
   "outputs": [],
   "source": [
    "#|export\n",
    "def _mk_param(name, **kwargs):\n",
    "    kwargs.pop('description', None)\n",
    "    return Parameter(name, kind=Parameter.POSITIONAL_OR_KEYWORD, **kwargs)\n",
    "\n",
    "def _mk_sig(req_args, opt_args, anno_args):\n",
    "    'req_args are args inside paths such as {account}, opt_args are query params, anno_args are payload params'\n",
    "    params =  [_mk_param(k) for k in req_args]\n",
    "    params += [_mk_param(**p) for p in opt_args + anno_args]\n",
    "    return Signature(params)"
   ]
  },
  {
   "cell_type": "code",
   "execution_count": null,
   "metadata": {},
   "outputs": [
    {
     "data": {
      "text/plain": [
       "<Signature (account, capability, expand: list = None, requested: bool = None)>"
      ]
     },
     "execution_count": null,
     "metadata": {},
     "output_type": "execute_result"
    }
   ],
   "source": [
    "path, *_ = partial_format(ep['path'])\n",
    "req_args = stringfmt_names(path)\n",
    "opt_args = ep['qparams']\n",
    "anno_args = ep['data']\n",
    "\n",
    "_mk_sig(req_args, opt_args, anno_args)"
   ]
  },
  {
   "cell_type": "markdown",
   "metadata": {},
   "source": [
    "For organizing our APIs into resource groups, which the OpenAPI spec tends to do, we're going to parse the operation ID."
   ]
  },
  {
   "cell_type": "code",
   "execution_count": null,
   "metadata": {},
   "outputs": [],
   "source": [
    "#|export\n",
    "def op2nm(op_id):\n",
    "    'Parse the operation ID to get the resource and name'\n",
    "    parts = re.findall(r'[A-Z][a-z]*', op_id)\n",
    "    verb, *nm = [p.lower() for p in parts]\n",
    "    res, nm = nm[0], nm[1:]\n",
    "    nm += [verb]\n",
    "    return res, nm"
   ]
  },
  {
   "cell_type": "code",
   "execution_count": null,
   "metadata": {},
   "outputs": [
    {
     "data": {
      "text/plain": [
       "('accounts', ['account', 'capabilities', 'capability', 'post'])"
      ]
     },
     "execution_count": null,
     "metadata": {},
     "output_type": "execute_result"
    }
   ],
   "source": [
    "op2nm(ep['op_id'])"
   ]
  },
  {
   "cell_type": "code",
   "execution_count": null,
   "metadata": {},
   "outputs": [],
   "source": [
    "#|export\n",
    "class _OAPIObj: pass"
   ]
  },
  {
   "cell_type": "code",
   "execution_count": null,
   "metadata": {},
   "outputs": [],
   "source": [
    "#| export\n",
    "def _flatten_data(data, prefix=''):\n",
    "    'Flatten a dictionary of data so that it can be used in a request body.'\n",
    "    result = {}\n",
    "    for k,v in data.items():\n",
    "        key = f'{prefix}[{k}]' if prefix else k\n",
    "        if isinstance(v, dict): result.update(_flatten_data(v, key))\n",
    "        elif isinstance(v, list): \n",
    "            for i,item in enumerate(v):\n",
    "                if isinstance(item, dict): result.update(_flatten_data(item, f'{key}[{i}]'))\n",
    "                else: result[f'{key}[{i}]'] = item\n",
    "        else: result[key] = v\n",
    "    return result"
   ]
  },
  {
   "cell_type": "code",
   "execution_count": null,
   "metadata": {},
   "outputs": [],
   "source": [
    "stripe_key = os.environ['STRIPE_SECRET_KEY']\n",
    "headers = {'Authorization': f'Bearer {stripe_key}'}"
   ]
  },
  {
   "cell_type": "code",
   "execution_count": null,
   "metadata": {},
   "outputs": [],
   "source": [
    "#|export\n",
    "names = lambda x: [o['name'] for o in x]\n",
    "\n",
    "class _OAPIVerb(_OAPIObj):\n",
    "    __slots__ = 'path verb res name summary pparams qparams url data doc_url hdrs client __doc__'.split()\n",
    "    def __init__(self, path, verb, op_id, summary, qparams, data, doc_url, url, hdrs, client, kwargs={}):\n",
    "        res, name = op2nm(op_id) # custom per oapi spec\n",
    "        name = '_'.join(name)\n",
    "        path, *_ = partial_format(path, **kwargs)\n",
    "        pparams = stringfmt_names(path) # params inside path\n",
    "        param_docs = '\\n'.join(f\"    {p['name']}: {p['description']}\" for p in qparams + data)\n",
    "        __doc__ = f\"{summary}\\n\\nParameters:\\n{param_docs}\" if param_docs else summary\n",
    "        store_attr()\n",
    "\n",
    "    def __call__(self, *args, **kwargs):\n",
    "        'Call the API endpoint with the given arguments'\n",
    "        flds = self.pparams + names(self.qparams) + names(self.data)\n",
    "        for a, b in zip(args, flds): kwargs[b] = a\n",
    "        route_p, query_p, data_p = [{p: kwargs[p] for p in o if p in kwargs}\n",
    "                                    for o in (self.pparams, names(self.qparams), names(self.data))]\n",
    "        return self.client(self.path, self.verb, route=route_p, query=query_p, data=data_p)\n",
    "\n",
    "    def __str__(self): return f'{self.res}.{self.name}{signature(self)}'\n",
    "    @property\n",
    "    def __signature__(self): return _mk_sig(self.pparams, self.qparams, self.data)\n",
    "    __call__.__signature__ = __signature__\n",
    "\n",
    "    def _repr_markdown_(self):\n",
    "        return f'[{self.res}.{self.name}]({self.doc_url}){self.__signature__}: *{self.summary}*'\n",
    "    __repr__ = _repr_markdown_"
   ]
  },
  {
   "cell_type": "markdown",
   "metadata": {},
   "source": [
    "With this, we can now construct a entire OpenAPI verb with proper documentation and nice repr inside Jupyter environments!"
   ]
  },
  {
   "cell_type": "code",
   "execution_count": null,
   "metadata": {},
   "outputs": [
    {
     "data": {
      "text/markdown": [
       "[account.get](https://docs.stripe.com/api/accounts/retrieve)(expand: 'str'): *Retrieve account*"
      ],
      "text/plain": [
       "[account.get](https://docs.stripe.com/api/accounts/retrieve)(expand: 'str'): *Retrieve account*"
      ]
     },
     "execution_count": null,
     "metadata": {},
     "output_type": "execute_result"
    }
   ],
   "source": [
    "v = _OAPIVerb(url=stripe_api_url, hdrs=headers, client=None, **eps[0])\n",
    "v"
   ]
  },
  {
   "cell_type": "markdown",
   "metadata": {},
   "source": [
    "Each endpoint includes a direct link to its documentation page. Due to Stripe's API organization, some links (like checkout endpoints) may return 404s, but most core endpoints link correctly to their documentation when you need additional context."
   ]
  },
  {
   "cell_type": "code",
   "execution_count": null,
   "metadata": {},
   "outputs": [
    {
     "name": "stdout",
     "output_type": "stream",
     "text": [
      "\u001b[31mSignature:\u001b[39m      v(expand: \u001b[33m'str'\u001b[39m)\n",
      "\u001b[31mType:\u001b[39m           _OAPIVerb\n",
      "\u001b[31mDocstring:\u001b[39m     \n",
      "Retrieve account\n",
      "\n",
      "Parameters:\n",
      "    expand: Specifies which fields in the response should be expanded.\n",
      "\u001b[31mCall docstring:\u001b[39m Call the API endpoint with the given arguments"
     ]
    }
   ],
   "source": [
    "v?"
   ]
  },
  {
   "cell_type": "markdown",
   "metadata": {},
   "source": [
    "Let's go ahead and group our verbs based on the resource they are apart of. We can setup a repr to make discoverability of operations you can perform easy."
   ]
  },
  {
   "cell_type": "code",
   "execution_count": null,
   "metadata": {},
   "outputs": [],
   "source": [
    "#|export\n",
    "class _OAPIVerbGroup(_OAPIObj):\n",
    "    def __init__(self, name, verbs):\n",
    "        self.name,self.verbs = name,verbs\n",
    "        for o in verbs: setattr(self, o.name, o)\n",
    "    def __str__(self): return \"\\n\".join(str(v) for v in self.verbs)\n",
    "    def _repr_markdown_(self): return \"\\n\".join(f'- {v._repr_markdown_()}' for v in self.verbs)"
   ]
  },
  {
   "cell_type": "code",
   "execution_count": null,
   "metadata": {},
   "outputs": [
    {
     "data": {
      "text/markdown": [
       "- [account.get](https://docs.stripe.com/api/accounts/retrieve)(expand: 'str'): *Retrieve account*\n",
       "- [account.links_post](https://docs.stripe.com/api/account_links/create)(account: str = None, collect: str = None, collection_options: dict = None, expand: list = None, refresh_url: str = None, return_url: str = None, type: str = None): *Create an account link*\n",
       "- [account.sessions_post](https://docs.stripe.com/api/account_sessions/create)(account: str = None, components: dict = None, expand: list = None): *Create an Account Session*"
      ],
      "text/plain": [
       "<__main__._OAPIVerbGroup>"
      ]
     },
     "execution_count": null,
     "metadata": {},
     "output_type": "execute_result"
    }
   ],
   "source": [
    "verbs = L(eps).map(lambda x: _OAPIVerb(**x, url=stripe_api_url, hdrs=headers, client=None))\n",
    "groups = {k.replace('-','_'): _OAPIVerbGroup(k,v) for k,v in groupby(verbs, 'res').items()}\n",
    "res, g = first(groups.items())\n",
    "g"
   ]
  },
  {
   "cell_type": "markdown",
   "metadata": {},
   "source": [
    "Let's go ahead and design a class since we need to store our API key and for use in the headers for each of these classes."
   ]
  },
  {
   "cell_type": "code",
   "execution_count": null,
   "metadata": {},
   "outputs": [],
   "source": [
    "#| export\n",
    "class StripeApi:\n",
    "    def __init__(self, api_key=None, base_url=stripe_api_url):\n",
    "        self.api_key,self.base_url = api_key,base_url\n",
    "        self.hdrs = {'Authorization': f'Bearer {self.api_key}'}\n",
    "        verbs = L(eps).map(lambda x: _OAPIVerb(**x, url=base_url, hdrs=self.hdrs, client=self))\n",
    "        self.func_dict = {f'{o.path}:{o.verb.upper()}':o for o in verbs}\n",
    "        self.groups = {k.replace('-','_'): _OAPIVerbGroup(k,v) for k,v in groupby(verbs, 'res').items()}\n",
    "    \n",
    "    def __call__(self, path:str, verb:str=None, headers:dict=None, route:dict=None, query:dict=None, data=None):\n",
    "        'Call the API endpoint with the given arguments'\n",
    "        headers = {**self.hdrs, **(headers or {})}\n",
    "        if route:\n",
    "            for k,v in route.items(): route[k] = quote(str(route[k]))\n",
    "        if data: data = _flatten_data(data)\n",
    "        res, self.recv_hdrs = urlsend(self.base_url + '/' + path, verb, headers=headers, return_headers=True,\n",
    "                                      route=route or None, query=query or None, data=data or None, return_json=True,\n",
    "                                      json_data=False)\n",
    "        return dict2obj(res)\n",
    "    \n",
    "    def __dir__(self): return super().__dir__() + list(self.groups)\n",
    "    def _repr_markdown_(self): return \"\\n\".join(f\"- [{o}]({docs_url + '/' + o})\" for o in sorted(self.groups))\n",
    "    def __getattr__(self,k): return self.groups[k] if 'groups' in vars(self) and k in self.groups else stop(AttributeError(k))\n",
    "    def __getitem__(self, k):\n",
    "        \"Lookup and call an endpoint by path and verb (which defaults to 'GET')\"\n",
    "        a,b = k if isinstance(k,tuple) else (k,'GET')\n",
    "        return self.func_dict[f'{a}:{b.upper()}']"
   ]
  },
  {
   "cell_type": "code",
   "execution_count": null,
   "metadata": {},
   "outputs": [
    {
     "data": {
      "text/markdown": [
       "- [account](https://docs.stripe.com/api/account)\n",
       "- [accounts](https://docs.stripe.com/api/accounts)\n",
       "- [apple](https://docs.stripe.com/api/apple)\n",
       "- [application](https://docs.stripe.com/api/application)\n",
       "- [apps](https://docs.stripe.com/api/apps)\n",
       "- [balance](https://docs.stripe.com/api/balance)\n",
       "- [billing](https://docs.stripe.com/api/billing)\n",
       "- [charges](https://docs.stripe.com/api/charges)\n",
       "- [checkout](https://docs.stripe.com/api/checkout)\n",
       "- [climate](https://docs.stripe.com/api/climate)\n",
       "- [confirmation](https://docs.stripe.com/api/confirmation)\n",
       "- [country](https://docs.stripe.com/api/country)\n",
       "- [coupons](https://docs.stripe.com/api/coupons)\n",
       "- [credit](https://docs.stripe.com/api/credit)\n",
       "- [customer](https://docs.stripe.com/api/customer)\n",
       "- [customers](https://docs.stripe.com/api/customers)\n",
       "- [disputes](https://docs.stripe.com/api/disputes)\n",
       "- [entitlements](https://docs.stripe.com/api/entitlements)\n",
       "- [ephemeral](https://docs.stripe.com/api/ephemeral)\n",
       "- [events](https://docs.stripe.com/api/events)\n",
       "- [exchange](https://docs.stripe.com/api/exchange)\n",
       "- [external](https://docs.stripe.com/api/external)\n",
       "- [file](https://docs.stripe.com/api/file)\n",
       "- [files](https://docs.stripe.com/api/files)\n",
       "- [financial](https://docs.stripe.com/api/financial)\n",
       "- [forwarding](https://docs.stripe.com/api/forwarding)\n",
       "- [identity](https://docs.stripe.com/api/identity)\n",
       "- [invoice](https://docs.stripe.com/api/invoice)\n",
       "- [invoiceitems](https://docs.stripe.com/api/invoiceitems)\n",
       "- [invoices](https://docs.stripe.com/api/invoices)\n",
       "- [issuing](https://docs.stripe.com/api/issuing)\n",
       "- [link](https://docs.stripe.com/api/link)\n",
       "- [linked](https://docs.stripe.com/api/linked)\n",
       "- [mandates](https://docs.stripe.com/api/mandates)\n",
       "- [payment](https://docs.stripe.com/api/payment)\n",
       "- [payouts](https://docs.stripe.com/api/payouts)\n",
       "- [plans](https://docs.stripe.com/api/plans)\n",
       "- [prices](https://docs.stripe.com/api/prices)\n",
       "- [products](https://docs.stripe.com/api/products)\n",
       "- [promotion](https://docs.stripe.com/api/promotion)\n",
       "- [quotes](https://docs.stripe.com/api/quotes)\n",
       "- [radar](https://docs.stripe.com/api/radar)\n",
       "- [refunds](https://docs.stripe.com/api/refunds)\n",
       "- [reporting](https://docs.stripe.com/api/reporting)\n",
       "- [reviews](https://docs.stripe.com/api/reviews)\n",
       "- [setup](https://docs.stripe.com/api/setup)\n",
       "- [shipping](https://docs.stripe.com/api/shipping)\n",
       "- [sigma](https://docs.stripe.com/api/sigma)\n",
       "- [sources](https://docs.stripe.com/api/sources)\n",
       "- [subscription](https://docs.stripe.com/api/subscription)\n",
       "- [subscriptions](https://docs.stripe.com/api/subscriptions)\n",
       "- [tax](https://docs.stripe.com/api/tax)\n",
       "- [terminal](https://docs.stripe.com/api/terminal)\n",
       "- [test](https://docs.stripe.com/api/test)\n",
       "- [tokens](https://docs.stripe.com/api/tokens)\n",
       "- [topups](https://docs.stripe.com/api/topups)\n",
       "- [transfers](https://docs.stripe.com/api/transfers)\n",
       "- [treasury](https://docs.stripe.com/api/treasury)\n",
       "- [webhook](https://docs.stripe.com/api/webhook)"
      ],
      "text/plain": [
       "<__main__.StripeApi>"
      ]
     },
     "execution_count": null,
     "metadata": {},
     "output_type": "execute_result"
    }
   ],
   "source": [
    "sapi = StripeApi(os.environ['STRIPE_SECRET_KEY'])\n",
    "sapi"
   ]
  },
  {
   "cell_type": "code",
   "execution_count": null,
   "metadata": {},
   "outputs": [
    {
     "data": {
      "text/markdown": [
       "- [account.get](https://docs.stripe.com/api/accounts/retrieve)(expand: 'str'): *Retrieve account*\n",
       "- [account.links_post](https://docs.stripe.com/api/account_links/create)(account: str = None, collect: str = None, collection_options: dict = None, expand: list = None, refresh_url: str = None, return_url: str = None, type: str = None): *Create an account link*\n",
       "- [account.sessions_post](https://docs.stripe.com/api/account_sessions/create)(account: str = None, components: dict = None, expand: list = None): *Create an Account Session*"
      ],
      "text/plain": [
       "<__main__._OAPIVerbGroup>"
      ]
     },
     "execution_count": null,
     "metadata": {},
     "output_type": "execute_result"
    }
   ],
   "source": [
    "sapi.account"
   ]
  },
  {
   "cell_type": "code",
   "execution_count": null,
   "metadata": {},
   "outputs": [
    {
     "data": {
      "text/plain": [
       "dict_keys(['id', 'object', 'business_type', 'capabilities', 'charges_enabled', 'country', 'default_currency', 'details_submitted', 'payouts_enabled', 'settings', 'type'])"
      ]
     },
     "execution_count": null,
     "metadata": {},
     "output_type": "execute_result"
    }
   ],
   "source": [
    "sapi.account.get().keys()"
   ]
  },
  {
   "cell_type": "markdown",
   "metadata": {},
   "source": [
    "You can also call `StripeApi` directly with the path, verb, parameters, headers, etc:"
   ]
  },
  {
   "cell_type": "code",
   "execution_count": null,
   "metadata": {},
   "outputs": [
    {
     "data": {
      "text/plain": [
       "('prod_SqeGFTettdtRRV', 'Test Product')"
      ]
     },
     "execution_count": null,
     "metadata": {},
     "output_type": "execute_result"
    }
   ],
   "source": [
    "prod = sapi('/v1/products', 'POST', data=dict(name='Test Product'))\n",
    "prod.id, prod.name"
   ]
  },
  {
   "cell_type": "code",
   "execution_count": null,
   "metadata": {},
   "outputs": [
    {
     "data": {
      "text/markdown": [
       "---\n",
       "\n",
       "[source](https://github.com/AnswerDotAI/faststripe/blob/main/faststripe/core.py#L118){target=\"_blank\" style=\"float:right; font-size:smaller\"}\n",
       "\n",
       "### StripeApi.__getitem__\n",
       "\n",
       ">      StripeApi.__getitem__ (k)\n",
       "\n",
       "*Lookup and call an endpoint by path and verb (which defaults to 'GET')*"
      ],
      "text/plain": [
       "---\n",
       "\n",
       "[source](https://github.com/AnswerDotAI/faststripe/blob/main/faststripe/core.py#L118){target=\"_blank\" style=\"float:right; font-size:smaller\"}\n",
       "\n",
       "### StripeApi.__getitem__\n",
       "\n",
       ">      StripeApi.__getitem__ (k)\n",
       "\n",
       "*Lookup and call an endpoint by path and verb (which defaults to 'GET')*"
      ]
     },
     "execution_count": null,
     "metadata": {},
     "output_type": "execute_result"
    }
   ],
   "source": [
    "show_doc(StripeApi.__getitem__)"
   ]
  },
  {
   "cell_type": "markdown",
   "metadata": {},
   "source": [
    "You can access endpoints by indexing into the object. When using the API this way, you do not need to specify what type of parameter (route, query, or post data) is being used. This is, therefore, the same call as above:"
   ]
  },
  {
   "cell_type": "code",
   "execution_count": null,
   "metadata": {},
   "outputs": [
    {
     "data": {
      "text/plain": [
       "('prod_SqeGFTettdtRRV', 'Test Product')"
      ]
     },
     "execution_count": null,
     "metadata": {},
     "output_type": "execute_result"
    }
   ],
   "source": [
    "prod = sapi['/v1/products'](name='Test Product') # defaults to GET\n",
    "prod.data[0].id, prod.data[0].name"
   ]
  },
  {
   "cell_type": "markdown",
   "metadata": {},
   "source": [
    "That is all we need in order to have a fully functional Python SDK that is compliant with the Stripe OpenAPI spec. Kind of insane that in under 100 lines of code, we can get this functionality, which in my opinion is in some respects even better than the official Stripe Python SDK for the simple fact that we can see the parameters that the functions take without looking up the API reference doc online."
   ]
  },
  {
   "cell_type": "markdown",
   "metadata": {},
   "source": [
    "Let's go ahead and try to build with this thing. The simplest payment system that you can have in Stripe is a one-time payment URL. Here is how we do this in our new API. First, we have to create a product and its price."
   ]
  },
  {
   "cell_type": "code",
   "execution_count": null,
   "metadata": {},
   "outputs": [
    {
     "data": {
      "text/plain": [
       "('prod_SqeGCs1DmOmahR', 'Test Product')"
      ]
     },
     "execution_count": null,
     "metadata": {},
     "output_type": "execute_result"
    }
   ],
   "source": [
    "prod = sapi.products.post(name='Test Product')\n",
    "prod.id, prod.name"
   ]
  },
  {
   "cell_type": "code",
   "execution_count": null,
   "metadata": {},
   "outputs": [
    {
     "data": {
      "text/plain": [
       "('price_1RuwyAKGhqIw9PXmSUAQhmC8', 1000, 'usd')"
      ]
     },
     "execution_count": null,
     "metadata": {},
     "output_type": "execute_result"
    }
   ],
   "source": [
    "price = sapi.prices.post(product=prod.id, unit_amount=10_00, currency='usd')\n",
    "price.id, price.unit_amount, price.currency"
   ]
  },
  {
   "cell_type": "markdown",
   "metadata": {},
   "source": [
    "Now we can create our checkout session with a mode of payment which means that it will only happen once and is not part of any sort of subscription."
   ]
  },
  {
   "cell_type": "code",
   "execution_count": null,
   "metadata": {},
   "outputs": [
    {
     "data": {
      "text/markdown": [
       "- [checkout.sessions_get](https://docs.stripe.com/api/sessions/list)(created: 'str', customer: 'str', customer_details: 'str', ending_before: 'str', expand: 'str', limit: 'str', payment_intent: 'str', payment_link: 'str', starting_after: 'str', status: 'str', subscription: 'str'): *List all Checkout Sessions*\n",
       "- [checkout.sessions_post](https://docs.stripe.com/api/sessions/create)(adaptive_pricing: dict = None, after_expiration: dict = None, allow_promotion_codes: bool = None, automatic_tax: dict = None, billing_address_collection: str = None, cancel_url: str = None, client_reference_id: str = None, consent_collection: dict = None, currency: str = None, custom_fields: list = None, custom_text: dict = None, customer: str = None, customer_creation: str = None, customer_email: str = None, customer_update: dict = None, discounts: list = None, expand: list = None, expires_at: int = None, invoice_creation: dict = None, line_items: list = None, locale: str = None, metadata: dict = None, mode: str = None, optional_items: list = None, origin_context: str = None, payment_intent_data: dict = None, payment_method_collection: str = None, payment_method_configuration: str = None, payment_method_data: dict = None, payment_method_options: dict = None, payment_method_types: list = None, permissions: dict = None, phone_number_collection: dict = None, redirect_on_completion: str = None, return_url: str = None, saved_payment_method_options: dict = None, setup_intent_data: dict = None, shipping_address_collection: dict = None, shipping_options: list = None, submit_type: str = None, subscription_data: dict = None, success_url: str = None, tax_id_collection: dict = None, ui_mode: str = None, wallet_options: dict = None): *Create a Checkout Session*\n",
       "- [checkout.sessions_session_get](https://docs.stripe.com/api/sessions/delete)(session, expand: 'str'): *Retrieve a Checkout Session*\n",
       "- [checkout.sessions_session_post](https://docs.stripe.com/api/sessions/update)(session, collected_information: dict = None, expand: list = None, metadata: object = None, shipping_options: object = None): *Update a Checkout Session*\n",
       "- [checkout.sessions_session_expire_post](https://docs.stripe.com/api/expires/update)(session, expand: list = None): *Expire a Checkout Session*\n",
       "- [checkout.sessions_session_line_items_get](https://docs.stripe.com/api/line_items/delete)(session, ending_before: 'str', expand: 'str', limit: 'str', starting_after: 'str'): *Retrieve a Checkout Session's line items*"
      ],
      "text/plain": [
       "<__main__._OAPIVerbGroup>"
      ]
     },
     "execution_count": null,
     "metadata": {},
     "output_type": "execute_result"
    }
   ],
   "source": [
    "sapi.checkout"
   ]
  },
  {
   "cell_type": "code",
   "execution_count": null,
   "metadata": {},
   "outputs": [
    {
     "name": "stdout",
     "output_type": "stream",
     "text": [
      "Payment link: https://billing.answer.ai/c/pay/cs_test_a1ehWnQMmjw5fr4BWXNYFEZ1...\n"
     ]
    }
   ],
   "source": [
    "checkout = sapi.checkout.sessions_post(mode='payment', line_items=[dict(price=price.id, quantity=1)],\n",
    "                                       success_url='https://localhost:5001/success', cancel_url='https://localhost:5001/cancel')\n",
    "print(f'Payment link: {checkout.url[:64]}...')"
   ]
  },
  {
   "cell_type": "markdown",
   "metadata": {},
   "source": [
    "Let's make this process even easier by add a higher level api ontop of our StripeApi."
   ]
  },
  {
   "cell_type": "markdown",
   "metadata": {},
   "source": [
    "First, let's make it a little bit easier to find an existing products and prices."
   ]
  },
  {
   "cell_type": "code",
   "execution_count": null,
   "metadata": {},
   "outputs": [],
   "source": [
    "#| export\n",
    "@patch\n",
    "def find_product(self:StripeApi, name: str):\n",
    "    'Find a product by name'\n",
    "    prods = L(self.products.get().data)\n",
    "    return first(prods, lambda p: p.name == name)"
   ]
  },
  {
   "cell_type": "code",
   "execution_count": null,
   "metadata": {},
   "outputs": [
    {
     "data": {
      "text/markdown": [
       "```json\n",
       "{ 'active': True,\n",
       "  'attributes': [],\n",
       "  'created': 1754923502,\n",
       "  'default_price': None,\n",
       "  'description': None,\n",
       "  'id': 'prod_SqeGCs1DmOmahR',\n",
       "  'images': [],\n",
       "  'livemode': False,\n",
       "  'marketing_features': [],\n",
       "  'metadata': {},\n",
       "  'name': 'Test Product',\n",
       "  'object': 'product',\n",
       "  'package_dimensions': None,\n",
       "  'shippable': None,\n",
       "  'statement_descriptor': None,\n",
       "  'tax_code': None,\n",
       "  'type': 'service',\n",
       "  'unit_label': None,\n",
       "  'updated': 1754923502,\n",
       "  'url': None}\n",
       "```"
      ],
      "text/plain": [
       "{'id': 'prod_SqeGCs1DmOmahR',\n",
       " 'object': 'product',\n",
       " 'active': True,\n",
       " 'attributes': (#0) [],\n",
       " 'created': 1754923502,\n",
       " 'default_price': None,\n",
       " 'description': None,\n",
       " 'images': (#0) [],\n",
       " 'livemode': False,\n",
       " 'marketing_features': (#0) [],\n",
       " 'metadata': {},\n",
       " 'name': 'Test Product',\n",
       " 'package_dimensions': None,\n",
       " 'shippable': None,\n",
       " 'statement_descriptor': None,\n",
       " 'tax_code': None,\n",
       " 'type': 'service',\n",
       " 'unit_label': None,\n",
       " 'updated': 1754923502,\n",
       " 'url': None}"
      ]
     },
     "execution_count": null,
     "metadata": {},
     "output_type": "execute_result"
    }
   ],
   "source": [
    "sapi.find_product('Test Product')"
   ]
  },
  {
   "cell_type": "code",
   "execution_count": null,
   "metadata": {},
   "outputs": [],
   "source": [
    "#| export\n",
    "@patch\n",
    "def find_prices(self:StripeApi, product_id: str):\n",
    "    'Find all prices associated with a product id'\n",
    "    return L(self.prices.get().data).filter(lambda p: p.product == product_id)"
   ]
  },
  {
   "cell_type": "code",
   "execution_count": null,
   "metadata": {},
   "outputs": [
    {
     "data": {
      "text/plain": [
       "(#1) [{'id': 'price_1RuwyAKGhqIw9PXmSUAQhmC8', 'object': 'price', 'active': True, 'billing_scheme': 'per_unit', 'created': 1754923502, 'currency': 'usd', 'custom_unit_amount': None, 'livemode': False, 'lookup_key': None, 'metadata': {}, 'nickname': None, 'product': 'prod_SqeGCs1DmOmahR', 'recurring': None, 'tax_behavior': 'unspecified', 'tiers_mode': None, 'transform_quantity': None, 'type': 'one_time', 'unit_amount': 1000, 'unit_amount_decimal': '1000'}]"
      ]
     },
     "execution_count": null,
     "metadata": {},
     "output_type": "execute_result"
    }
   ],
   "source": [
    "sapi.find_prices(sapi.find_product('Test Product').id)"
   ]
  },
  {
   "cell_type": "code",
   "execution_count": null,
   "metadata": {},
   "outputs": [],
   "source": [
    "#| export\n",
    "@patch\n",
    "def priced_product(self:StripeApi, product_name, amount_cents, currency='usd', recurring=None, description=None):\n",
    "    \"Create a product and price if they don't exist\"\n",
    "    prod_params = dict(name=product_name)\n",
    "    if description: prod_params['description'] = description\n",
    "    prod = self.find_product(product_name) or self.products.post(**prod_params)\n",
    "    price_params = dict(product=prod.id, unit_amount=amount_cents, currency=currency)\n",
    "    if recurring: price_params['recurring'] = recurring\n",
    "    price = first(self.find_prices(prod.id)) or self.prices.post(**price_params)\n",
    "    return prod, price"
   ]
  },
  {
   "cell_type": "code",
   "execution_count": null,
   "metadata": {},
   "outputs": [
    {
     "data": {
      "text/plain": [
       "('Test Product', 'price_1RuwyAKGhqIw9PXmSUAQhmC8', 1000)"
      ]
     },
     "execution_count": null,
     "metadata": {},
     "output_type": "execute_result"
    }
   ],
   "source": [
    "prod, price = sapi.priced_product('Test Product', 10_00, 'usd')\n",
    "prod.name, price.id, price.unit_amount"
   ]
  },
  {
   "cell_type": "markdown",
   "metadata": {},
   "source": [
    "Now we can automatically create a product or use an existing one when create a one time payment link."
   ]
  },
  {
   "cell_type": "code",
   "execution_count": null,
   "metadata": {},
   "outputs": [],
   "source": [
    "#| export\n",
    "@patch\n",
    "def one_time_payment(self:StripeApi, product_name, amount_cents, success_url, cancel_url, currency='usd', quantity=1, **kw):\n",
    "    'Create a simple one-time payment checkout'\n",
    "    _, price = self.priced_product(product_name, amount_cents, currency)\n",
    "    return self.checkout.sessions_post(mode='payment', line_items=[dict(price=price.id, quantity=quantity)],\n",
    "                                       automatic_tax={'enabled': True}, success_url=success_url, cancel_url=cancel_url, **kw)"
   ]
  },
  {
   "cell_type": "code",
   "execution_count": null,
   "metadata": {},
   "outputs": [
    {
     "name": "stdout",
     "output_type": "stream",
     "text": [
      "Payment link: https://billing.answer.ai/c/pay/cs_test_a1m9zXYmgpwkYHvcPNDkFG1W...\n"
     ]
    }
   ],
   "source": [
    "checkout = sapi.one_time_payment('Test Product', 10_00, 'https://localhost:5001/success', 'https://localhost:5001/cancel', 'usd')\n",
    "print(f'Payment link: {checkout.url[:64]}...')"
   ]
  },
  {
   "cell_type": "markdown",
   "metadata": {},
   "source": [
    "Another common use case is subscriptions. Let's go ahead and create a version that makes subscription creation just as easy."
   ]
  },
  {
   "cell_type": "code",
   "execution_count": null,
   "metadata": {},
   "outputs": [],
   "source": [
    "#| export\n",
    "@patch\n",
    "def subscription(self:StripeApi, product_name, amount_cents, success_url, cancel_url,\n",
    "                 currency='usd', interval='month', **kw):\n",
    "    'Create a simple recurring subscription'\n",
    "    _, price = self.priced_product(product_name, amount_cents, currency, recurring=dict(interval=interval))\n",
    "    return self.checkout.sessions_post(mode='subscription', success_url=success_url, cancel_url=cancel_url,\n",
    "                                       line_items=[dict(price=price.id, quantity=1)], **kw)"
   ]
  },
  {
   "cell_type": "code",
   "execution_count": null,
   "metadata": {},
   "outputs": [
    {
     "name": "stdout",
     "output_type": "stream",
     "text": [
      "Payment link: https://billing.answer.ai/c/pay/cs_test_a1vY5rFphunmvXAXsJmWZRcr...\n"
     ]
    }
   ],
   "source": [
    "sub_checkout = sapi.subscription('Test Subscription Product', 10_00, 'https://localhost:5001/success', 'https://localhost:5001/cancel')\n",
    "print(f'Payment link: {sub_checkout.url[:64]}...')"
   ]
  },
  {
   "cell_type": "markdown",
   "metadata": {},
   "source": [
    "**Note:** You'll want to use Stripe's webhook functionality for detecting payment and subscription events. To do so, you'll utilize the Python Stripe SDK that the event actually came from stripe."
   ]
  },
  {
   "cell_type": "code",
   "execution_count": null,
   "metadata": {},
   "outputs": [],
   "source": [
    "#| hide\n",
    "import nbdev; nbdev.nbdev_export()"
   ]
  }
 ],
 "metadata": {
  "kernelspec": {
   "display_name": ".venv",
   "language": "python",
   "name": "python3"
  },
  "language_info": {
   "name": "python",
   "version": "3.12.8"
  }
 },
 "nbformat": 4,
 "nbformat_minor": 4
}
