{
 "cells": [
  {
   "cell_type": "markdown",
   "metadata": {},
   "source": [
    "# core\n",
    "\n",
    "> Fill in a module description here"
   ]
  },
  {
   "cell_type": "code",
   "execution_count": null,
   "metadata": {},
   "outputs": [],
   "source": [
    "#| default_exp core"
   ]
  },
  {
   "cell_type": "code",
   "execution_count": null,
   "metadata": {},
   "outputs": [],
   "source": [
    "#| export\n",
    "from collections import defaultdict\n",
    "from fastcore.all import *\n",
    "from faststripe.endpoints import eps\n",
    "from inspect import Parameter, Signature\n",
    "\n",
    "import httpx, re"
   ]
  },
  {
   "cell_type": "code",
   "execution_count": null,
   "metadata": {},
   "outputs": [],
   "source": [
    "#| hide\n",
    "from nbdev import *\n",
    "\n",
    "import os"
   ]
  },
  {
   "cell_type": "code",
   "execution_count": null,
   "metadata": {},
   "outputs": [],
   "source": [
    "#| exports\n",
    "stripe_api_url = 'https://api.stripe.com'"
   ]
  },
  {
   "cell_type": "code",
   "execution_count": null,
   "metadata": {},
   "outputs": [
    {
     "data": {
      "text/html": [
       "<pre style=\"white-space:pre;overflow-x:auto;line-height:normal;font-family:Menlo,'DejaVu Sans Mono',consolas,'Courier New',monospace\"></pre>\n"
      ],
      "text/plain": []
     },
     "metadata": {},
     "output_type": "display_data"
    },
    {
     "data": {
      "text/plain": [
       "\n",
       "\u001b[1m{\u001b[0m\n",
       "    \u001b[32m'data'\u001b[0m: \u001b[1m[\u001b[0m\u001b[1m]\u001b[0m,\n",
       "    \u001b[32m'op_id'\u001b[0m: \u001b[32m'GetAccount'\u001b[0m,\n",
       "    \u001b[32m'path'\u001b[0m: \u001b[32m'/v1/account'\u001b[0m,\n",
       "    \u001b[32m'qparams'\u001b[0m: \u001b[1m[\u001b[0m\n",
       "        \u001b[1m{\u001b[0m\n",
       "            \u001b[32m'description'\u001b[0m: \u001b[32m'Specifies which fields in the response should be expanded.'\u001b[0m,\n",
       "            \u001b[32m'name'\u001b[0m: \u001b[32m'expand'\u001b[0m\n",
       "        \u001b[1m}\u001b[0m\n",
       "    \u001b[1m]\u001b[0m,\n",
       "    \u001b[32m'summary'\u001b[0m: \u001b[32m'Retrieve account'\u001b[0m,\n",
       "    \u001b[32m'verb'\u001b[0m: \u001b[32m'get'\u001b[0m\n",
       "\u001b[1m}\u001b[0m"
      ]
     },
     "execution_count": null,
     "metadata": {},
     "output_type": "execute_result"
    }
   ],
   "source": [
    "eps[0]"
   ]
  },
  {
   "cell_type": "code",
   "execution_count": null,
   "metadata": {},
   "outputs": [
    {
     "data": {
      "text/html": [
       "<pre style=\"white-space:pre;overflow-x:auto;line-height:normal;font-family:Menlo,'DejaVu Sans Mono',consolas,'Courier New',monospace\"></pre>\n"
      ],
      "text/plain": []
     },
     "metadata": {},
     "output_type": "display_data"
    },
    {
     "data": {
      "text/plain": [
       "\n",
       "\u001b[1m{\u001b[0m\n",
       "    \u001b[32m'data'\u001b[0m: \u001b[1m[\u001b[0m\n",
       "        \u001b[1m{\u001b[0m\n",
       "            \u001b[32m'annotation'\u001b[0m: \u001b[1m<\u001b[0m\u001b[1;95mclass\u001b[0m\u001b[39m \u001b[0m\u001b[32m'list'\u001b[0m\u001b[39m>,\u001b[0m\n",
       "\u001b[39m            \u001b[0m\u001b[32m'default'\u001b[0m\u001b[39m: \u001b[0m\u001b[3;35mNone\u001b[0m\u001b[39m,\u001b[0m\n",
       "\u001b[39m            \u001b[0m\u001b[32m'description'\u001b[0m\u001b[39m: \u001b[0m\u001b[32m'Specifies which fields in the response should be expanded.'\u001b[0m\u001b[39m,\u001b[0m\n",
       "\u001b[39m            \u001b[0m\u001b[32m'name'\u001b[0m\u001b[39m: \u001b[0m\u001b[32m'expand'\u001b[0m\n",
       "\u001b[39m        \u001b[0m\u001b[1;39m}\u001b[0m\u001b[39m,\u001b[0m\n",
       "\u001b[39m        \u001b[0m\u001b[1;39m{\u001b[0m\n",
       "\u001b[39m            \u001b[0m\u001b[32m'annotation'\u001b[0m\u001b[39m: <class \u001b[0m\u001b[32m'bool'\u001b[0m\u001b[1m>\u001b[0m,\n",
       "            \u001b[32m'default'\u001b[0m: \u001b[3;35mNone\u001b[0m,\n",
       "            \u001b[32m'description'\u001b[0m: \u001b[32m\"To request a new capability for an account, pass true. There can be a delay before the requested capability becomes active. If the capability has any activation requirements, the response includes them in the `requirements` arrays.\\n\\nIf a capability isn't permanent, you can remove it from the account by passing false. Some capabilities are permanent after they've been requested. Attempting to remove a permanent capability returns an error.\"\u001b[0m,\n",
       "            \u001b[32m'name'\u001b[0m: \u001b[32m'requested'\u001b[0m\n",
       "        \u001b[1m}\u001b[0m\n",
       "    \u001b[1m]\u001b[0m,\n",
       "    \u001b[32m'op_id'\u001b[0m: \u001b[32m'PostAccountsAccountCapabilitiesCapability'\u001b[0m,\n",
       "    \u001b[32m'path'\u001b[0m: \u001b[32m'/v1/accounts/\u001b[0m\u001b[32m{\u001b[0m\u001b[32maccount\u001b[0m\u001b[32m}\u001b[0m\u001b[32m/capabilities/\u001b[0m\u001b[32m{\u001b[0m\u001b[32mcapability\u001b[0m\u001b[32m}\u001b[0m\u001b[32m'\u001b[0m,\n",
       "    \u001b[32m'qparams'\u001b[0m: \u001b[1m[\u001b[0m\u001b[1m]\u001b[0m,\n",
       "    \u001b[32m'summary'\u001b[0m: \u001b[32m'Update an Account Capability'\u001b[0m,\n",
       "    \u001b[32m'verb'\u001b[0m: \u001b[32m'post'\u001b[0m\n",
       "\u001b[1m}\u001b[0m"
      ]
     },
     "execution_count": null,
     "metadata": {},
     "output_type": "execute_result"
    }
   ],
   "source": [
    "ep = first(eps, lambda x: x['data'] and len(x['data']) < 3)\n",
    "ep"
   ]
  },
  {
   "cell_type": "markdown",
   "metadata": {},
   "source": [
    "Now, with each of these descriptions, we can easily create a request that we want on the fly. However, to make it a little bit nicer to use in a library, we'll go ahead and automatically generate classes with proper signatures and docstrings that are then easily accessible in any standard IDE."
   ]
  },
  {
   "cell_type": "code",
   "execution_count": null,
   "metadata": {},
   "outputs": [],
   "source": [
    "#|export\n",
    "def _mk_param(name, **kwargs):\n",
    "    kwargs.pop('description', None)\n",
    "    return Parameter(name, kind=Parameter.POSITIONAL_OR_KEYWORD, **kwargs)\n",
    "\n",
    "def _mk_sig(req_args, opt_args, anno_args):\n",
    "    'req_args are args inside paths such as {account}, opt_args are query params, anno_args are payload params'\n",
    "    params =  [_mk_param(k) for k in req_args]\n",
    "    params += [_mk_param(**p) for p in opt_args + anno_args]\n",
    "    return Signature(params)"
   ]
  },
  {
   "cell_type": "code",
   "execution_count": null,
   "metadata": {},
   "outputs": [
    {
     "data": {
      "text/html": [
       "<pre style=\"white-space:pre;overflow-x:auto;line-height:normal;font-family:Menlo,'DejaVu Sans Mono',consolas,'Courier New',monospace\"></pre>\n"
      ],
      "text/plain": []
     },
     "metadata": {},
     "output_type": "display_data"
    },
    {
     "data": {
      "text/plain": [
       "\u001b[1m<\u001b[0m\u001b[1;95mSignature\u001b[0m\u001b[39m \u001b[0m\u001b[1;39m(\u001b[0m\u001b[39maccount, capability, expand: list = \u001b[0m\u001b[3;35mNone\u001b[0m\u001b[39m, requested: bool = \u001b[0m\u001b[3;35mNone\u001b[0m\u001b[1;39m)\u001b[0m\u001b[1m>\u001b[0m"
      ]
     },
     "execution_count": null,
     "metadata": {},
     "output_type": "execute_result"
    }
   ],
   "source": [
    "path, *_ = partial_format(ep['path'])\n",
    "req_args = stringfmt_names(path)\n",
    "opt_args = ep['qparams']\n",
    "anno_args = ep['data']\n",
    "\n",
    "_mk_sig(req_args, opt_args, anno_args)"
   ]
  },
  {
   "cell_type": "markdown",
   "metadata": {},
   "source": [
    "For organizing our APIs into resource groups, which the OpenAPI spec tends to do, we're going to parse the operation ID."
   ]
  },
  {
   "cell_type": "code",
   "execution_count": null,
   "metadata": {},
   "outputs": [],
   "source": [
    "#|export\n",
    "def op2nm(op_id):\n",
    "    'Parse the operation ID to get the resource and name'\n",
    "    parts = re.findall(r'[A-Z][a-z]*', op_id)\n",
    "    verb, *nm = [p.lower() for p in parts]\n",
    "    res, nm = nm[0], nm[1:]\n",
    "    nm += [verb]\n",
    "    return res, nm"
   ]
  },
  {
   "cell_type": "code",
   "execution_count": null,
   "metadata": {},
   "outputs": [
    {
     "data": {
      "text/html": [
       "<pre style=\"white-space:pre;overflow-x:auto;line-height:normal;font-family:Menlo,'DejaVu Sans Mono',consolas,'Courier New',monospace\"></pre>\n"
      ],
      "text/plain": []
     },
     "metadata": {},
     "output_type": "display_data"
    },
    {
     "data": {
      "text/plain": [
       "\u001b[1m(\u001b[0m\u001b[32m'accounts'\u001b[0m, \u001b[1m[\u001b[0m\u001b[32m'account'\u001b[0m, \u001b[32m'capabilities'\u001b[0m, \u001b[32m'capability'\u001b[0m, \u001b[32m'post'\u001b[0m\u001b[1m]\u001b[0m\u001b[1m)\u001b[0m"
      ]
     },
     "execution_count": null,
     "metadata": {},
     "output_type": "execute_result"
    }
   ],
   "source": [
    "op2nm(ep['op_id'])"
   ]
  },
  {
   "cell_type": "code",
   "execution_count": null,
   "metadata": {},
   "outputs": [],
   "source": [
    "#|export\n",
    "class _OAPIObj: pass"
   ]
  },
  {
   "cell_type": "code",
   "execution_count": null,
   "metadata": {},
   "outputs": [],
   "source": [
    "#| export\n",
    "def _flatten_data(data, prefix=''):\n",
    "    'Flatten a dictionary of data so that it can be used in a request body.'\n",
    "    result = {}\n",
    "    for k,v in data.items():\n",
    "        key = f'{prefix}[{k}]' if prefix else k\n",
    "        if isinstance(v, dict): result.update(_flatten_data(v, key))\n",
    "        elif isinstance(v, list): \n",
    "            for i,item in enumerate(v):\n",
    "                if isinstance(item, dict): result.update(_flatten_data(item, f'{key}[{i}]'))\n",
    "                else: result[f'{key}[{i}]'] = item\n",
    "        else: result[key] = v\n",
    "    return result"
   ]
  },
  {
   "cell_type": "code",
   "execution_count": null,
   "metadata": {},
   "outputs": [],
   "source": [
    "stripe_key = os.environ['STRIPE_SECRET_KEY']\n",
    "headers = {'Authorization': f'Bearer {stripe_key}'}"
   ]
  },
  {
   "cell_type": "code",
   "execution_count": null,
   "metadata": {},
   "outputs": [],
   "source": [
    "#|export\n",
    "names = lambda x: [o['name'] for o in x]\n",
    "\n",
    "class _OAPIVerb(_OAPIObj):\n",
    "    __slots__ = 'path verb res name summary pparams qparams url data hdrs client __doc__'.split()\n",
    "    def __init__(self, path, verb, op_id, summary, qparams, data, url, hdrs, client, kwargs={}):\n",
    "        res, name = op2nm(op_id) # custom per oapi spec\n",
    "        name = '_'.join(name)\n",
    "        path, *_ = partial_format(path, **kwargs)\n",
    "        pparams = stringfmt_names(path) # params inside path\n",
    "        param_docs = '\\n'.join(f\"    {p['name']}: {p['description']}\" for p in qparams + data)\n",
    "        __doc__ = f\"{summary}\\n\\nParameters:\\n{param_docs}\" if param_docs else summary\n",
    "        store_attr()\n",
    "\n",
    "    def __call__(self, *args, **kwargs):\n",
    "        'Call the API endpoint with the given arguments'\n",
    "        flds = self.pparams + names(self.qparams) + names(self.data)\n",
    "        for a, b in zip(args, flds): kwargs[b] = a\n",
    "        route_p, query_p, data_p = [{p: kwargs[p] for p in o if p in kwargs}\n",
    "                                    for o in (self.pparams, names(self.qparams), names(self.data))]\n",
    "        return self.client(self.path, self.verb, route=route_p, query=query_p, data=data_p)\n",
    "\n",
    "    def __str__(self): return f'{self.res}.{self.name}{signature(self)}'\n",
    "    @property\n",
    "    def __signature__(self): return _mk_sig(self.pparams, self.qparams, self.data)\n",
    "    __call__.__signature__ = __signature__\n",
    "\n",
    "    def _repr_markdown_(self):\n",
    "        return f'{self.res}.{self.name}{self.__signature__}: *{self.summary}*'\n",
    "    __repr__ = _repr_markdown_"
   ]
  },
  {
   "cell_type": "markdown",
   "metadata": {},
   "source": [
    "With this, we can now construct a entire OpenAPI verb with proper documentation and nice repr inside Jupyter environments!"
   ]
  },
  {
   "cell_type": "code",
   "execution_count": null,
   "metadata": {},
   "outputs": [
    {
     "data": {
      "text/html": [
       "<pre style=\"white-space:pre;overflow-x:auto;line-height:normal;font-family:Menlo,'DejaVu Sans Mono',consolas,'Courier New',monospace\"></pre>\n"
      ],
      "text/plain": []
     },
     "metadata": {},
     "output_type": "display_data"
    },
    {
     "data": {
      "text/markdown": [
       "account.get(expand): *Retrieve account*"
      ],
      "text/plain": [
       "\u001b[1;35maccount.get\u001b[0m\u001b[1m(\u001b[0mexpand\u001b[1m)\u001b[0m: *Retrieve account*"
      ]
     },
     "execution_count": null,
     "metadata": {},
     "output_type": "execute_result"
    }
   ],
   "source": [
    "v = _OAPIVerb(url=stripe_api_url, hdrs=headers, client=None, **eps[0])\n",
    "v"
   ]
  },
  {
   "cell_type": "code",
   "execution_count": null,
   "metadata": {},
   "outputs": [
    {
     "name": "stdout",
     "output_type": "stream",
     "text": [
      "\u001b[31mSignature:\u001b[39m      v(expand)\n",
      "\u001b[31mType:\u001b[39m           _OAPIVerb\n",
      "\u001b[31mDocstring:\u001b[39m     \n",
      "Retrieve account\n",
      "\n",
      "Parameters:\n",
      "    expand: Specifies which fields in the response should be expanded.\n",
      "\u001b[31mCall docstring:\u001b[39m Call the API endpoint with the given arguments"
     ]
    }
   ],
   "source": [
    "v?"
   ]
  },
  {
   "cell_type": "markdown",
   "metadata": {},
   "source": [
    "And we can directly call it to perform whatever action this endpoint give us:"
   ]
  },
  {
   "cell_type": "code",
   "execution_count": null,
   "metadata": {},
   "outputs": [
    {
     "data": {
      "text/html": [
       "<pre style=\"white-space:pre;overflow-x:auto;line-height:normal;font-family:Menlo,'DejaVu Sans Mono',consolas,'Courier New',monospace\"></pre>\n"
      ],
      "text/plain": []
     },
     "metadata": {},
     "output_type": "display_data"
    },
    {
     "data": {
      "text/plain": [
       "\u001b[1;35mdict_keys\u001b[0m\u001b[1m(\u001b[0m\u001b[1m[\u001b[0m\u001b[32m'id'\u001b[0m, \u001b[32m'object'\u001b[0m, \u001b[32m'business_type'\u001b[0m, \u001b[32m'capabilities'\u001b[0m, \u001b[32m'charges_enabled'\u001b[0m, \u001b[32m'country'\u001b[0m, \u001b[32m'default_currency'\u001b[0m, \u001b[32m'details_submitted'\u001b[0m, \u001b[32m'payouts_enabled'\u001b[0m, \u001b[32m'settings'\u001b[0m, \u001b[32m'type'\u001b[0m\u001b[1m]\u001b[0m\u001b[1m)\u001b[0m"
      ]
     },
     "execution_count": null,
     "metadata": {},
     "output_type": "execute_result"
    }
   ],
   "source": [
    "v().keys()"
   ]
  },
  {
   "cell_type": "markdown",
   "metadata": {},
   "source": [
    "Let's go ahead and group our verbs based on the resource they are apart of. We can setup a repr to make discoverability of operations you can perform easy."
   ]
  },
  {
   "cell_type": "code",
   "execution_count": null,
   "metadata": {},
   "outputs": [],
   "source": [
    "#|export\n",
    "class _OAPIVerbGroup(_OAPIObj):\n",
    "    def __init__(self, name, verbs):\n",
    "        self.name,self.verbs = name,verbs\n",
    "        for o in verbs: setattr(self, o.name, o)\n",
    "    def __str__(self): return \"\\n\".join(str(v) for v in self.verbs)\n",
    "    def _repr_markdown_(self): return \"\\n\".join(f'- {v._repr_markdown_()}' for v in self.verbs)"
   ]
  },
  {
   "cell_type": "code",
   "execution_count": null,
   "metadata": {},
   "outputs": [
    {
     "data": {
      "text/html": [
       "<pre style=\"white-space:pre;overflow-x:auto;line-height:normal;font-family:Menlo,'DejaVu Sans Mono',consolas,'Courier New',monospace\"></pre>\n"
      ],
      "text/plain": []
     },
     "metadata": {},
     "output_type": "display_data"
    },
    {
     "data": {
      "text/markdown": [
       "- account.get(expand): *Retrieve account*\n",
       "- account.links_post(account: str = None, collect: str = None, collection_options: dict = None, expand: list = None, refresh_url: str = None, return_url: str = None, type: str = None): *Create an account link*\n",
       "- account.sessions_post(account: str = None, components: dict = None, expand: list = None): *Create an Account Session*"
      ],
      "text/plain": [
       "\u001b[1m<\u001b[0m\u001b[1;95m__main__._OAPIVerbGroup\u001b[0m\u001b[39m object at \u001b[0m\u001b[1;36m0x12f331610\u001b[0m\u001b[1m>\u001b[0m"
      ]
     },
     "execution_count": null,
     "metadata": {},
     "output_type": "execute_result"
    }
   ],
   "source": [
    "verbs = L(eps).map(lambda x: _OAPIVerb(**x, url=stripe_api_url, hdrs=headers, client=None))\n",
    "groups = {k.replace('-','_'): _OAPIVerbGroup(k,v) for k,v in groupby(verbs, 'res').items()}\n",
    "res, g = first(groups.items())\n",
    "g"
   ]
  },
  {
   "cell_type": "markdown",
   "metadata": {},
   "source": [
    "Let's go ahead and design a class since we need to store our API key and for use in the headers for each of these classes."
   ]
  },
  {
   "cell_type": "code",
   "execution_count": null,
   "metadata": {},
   "outputs": [],
   "source": [
    "#| export\n",
    "class StripeApi:\n",
    "    def __init__(self, api_key=None, base_url=stripe_api_url):\n",
    "        self.api_key,self.base_url = api_key,base_url\n",
    "        self.hdrs = {'Authorization': f'Bearer {self.api_key}'}\n",
    "        verbs = L(eps).map(lambda x: _OAPIVerb(**x, url=base_url, hdrs=self.hdrs, client=self))\n",
    "        self.func_dict = {f'{o.path}:{o.verb.upper()}':o for o in verbs}\n",
    "        self.groups = {k.replace('-','_'): _OAPIVerbGroup(k,v) for k,v in groupby(verbs, 'res').items()}\n",
    "    \n",
    "    def __call__(self, path:str, verb:str=None, headers:dict=None, route:dict=None, query:dict=None, data=None):\n",
    "        'Call the API endpoint with the given arguments'\n",
    "        headers = {**self.hdrs, **(headers or {})}\n",
    "        if route:\n",
    "            for k,v in route.items(): route[k] = quote(str(route[k]))\n",
    "        if data: data = _flatten_data(data)\n",
    "        res, self.recv_hdrs = urlsend(self.base_url + '/' + path, verb, headers=headers, return_headers=True,\n",
    "                                      route=route or None, query=query or None, data=data or None, return_json=True,\n",
    "                                      json_data=False)\n",
    "        return dict2obj(res)\n",
    "    \n",
    "    def __dir__(self): return super().__dir__() + list(self.groups)\n",
    "    def _repr_markdown_(self): return \"\\n\".join(f\"- {o}\" for o in sorted(self.groups))\n",
    "    def __getattr__(self,k): return self.groups[k] if 'groups' in vars(self) and k in self.groups else stop(AttributeError(k))\n",
    "    def __getitem__(self, k):\n",
    "        \"Lookup and call an endpoint by path and verb (which defaults to 'GET')\"\n",
    "        a,b = k if isinstance(k,tuple) else (k,'GET')\n",
    "        return self.func_dict[f'{a}:{b.upper()}']"
   ]
  },
  {
   "cell_type": "code",
   "execution_count": null,
   "metadata": {},
   "outputs": [
    {
     "data": {
      "text/html": [
       "<pre style=\"white-space:pre;overflow-x:auto;line-height:normal;font-family:Menlo,'DejaVu Sans Mono',consolas,'Courier New',monospace\"></pre>\n"
      ],
      "text/plain": []
     },
     "metadata": {},
     "output_type": "display_data"
    },
    {
     "data": {
      "text/markdown": [
       "- account\n",
       "- accounts\n",
       "- apple\n",
       "- application\n",
       "- apps\n",
       "- balance\n",
       "- billing\n",
       "- charges\n",
       "- checkout\n",
       "- climate\n",
       "- confirmation\n",
       "- country\n",
       "- coupons\n",
       "- credit\n",
       "- customer\n",
       "- customers\n",
       "- disputes\n",
       "- entitlements\n",
       "- ephemeral\n",
       "- events\n",
       "- exchange\n",
       "- external\n",
       "- file\n",
       "- files\n",
       "- financial\n",
       "- forwarding\n",
       "- identity\n",
       "- invoice\n",
       "- invoiceitems\n",
       "- invoices\n",
       "- issuing\n",
       "- link\n",
       "- linked\n",
       "- mandates\n",
       "- payment\n",
       "- payouts\n",
       "- plans\n",
       "- prices\n",
       "- products\n",
       "- promotion\n",
       "- quotes\n",
       "- radar\n",
       "- refunds\n",
       "- reporting\n",
       "- reviews\n",
       "- setup\n",
       "- shipping\n",
       "- sigma\n",
       "- sources\n",
       "- subscription\n",
       "- subscriptions\n",
       "- tax\n",
       "- terminal\n",
       "- test\n",
       "- tokens\n",
       "- topups\n",
       "- transfers\n",
       "- treasury\n",
       "- webhook"
      ],
      "text/plain": [
       "\u001b[1m<\u001b[0m\u001b[1;95m__main__.StripeApi\u001b[0m\u001b[39m object at \u001b[0m\u001b[1;36m0x17a33e0c0\u001b[0m\u001b[1m>\u001b[0m"
      ]
     },
     "execution_count": null,
     "metadata": {},
     "output_type": "execute_result"
    }
   ],
   "source": [
    "sapi = StripeApi(os.environ['STRIPE_SECRET_KEY'])\n",
    "sapi"
   ]
  },
  {
   "cell_type": "code",
   "execution_count": null,
   "metadata": {},
   "outputs": [
    {
     "data": {
      "text/html": [
       "<pre style=\"white-space:pre;overflow-x:auto;line-height:normal;font-family:Menlo,'DejaVu Sans Mono',consolas,'Courier New',monospace\"></pre>\n"
      ],
      "text/plain": []
     },
     "metadata": {},
     "output_type": "display_data"
    },
    {
     "data": {
      "text/markdown": [
       "- account.get(expand): *Retrieve account*\n",
       "- account.links_post(account: str = None, collect: str = None, collection_options: dict = None, expand: list = None, refresh_url: str = None, return_url: str = None, type: str = None): *Create an account link*\n",
       "- account.sessions_post(account: str = None, components: dict = None, expand: list = None): *Create an Account Session*"
      ],
      "text/plain": [
       "\u001b[1m<\u001b[0m\u001b[1;95m__main__._OAPIVerbGroup\u001b[0m\u001b[39m object at \u001b[0m\u001b[1;36m0x17a3e7050\u001b[0m\u001b[1m>\u001b[0m"
      ]
     },
     "execution_count": null,
     "metadata": {},
     "output_type": "execute_result"
    }
   ],
   "source": [
    "sapi.account"
   ]
  },
  {
   "cell_type": "code",
   "execution_count": null,
   "metadata": {},
   "outputs": [
    {
     "data": {
      "text/html": [
       "<pre style=\"white-space:pre;overflow-x:auto;line-height:normal;font-family:Menlo,'DejaVu Sans Mono',consolas,'Courier New',monospace\"></pre>\n"
      ],
      "text/plain": []
     },
     "metadata": {},
     "output_type": "display_data"
    },
    {
     "data": {
      "text/plain": [
       "\u001b[1;35mdict_keys\u001b[0m\u001b[1m(\u001b[0m\u001b[1m[\u001b[0m\u001b[32m'id'\u001b[0m, \u001b[32m'object'\u001b[0m, \u001b[32m'business_type'\u001b[0m, \u001b[32m'capabilities'\u001b[0m, \u001b[32m'charges_enabled'\u001b[0m, \u001b[32m'country'\u001b[0m, \u001b[32m'default_currency'\u001b[0m, \u001b[32m'details_submitted'\u001b[0m, \u001b[32m'payouts_enabled'\u001b[0m, \u001b[32m'settings'\u001b[0m, \u001b[32m'type'\u001b[0m\u001b[1m]\u001b[0m\u001b[1m)\u001b[0m"
      ]
     },
     "execution_count": null,
     "metadata": {},
     "output_type": "execute_result"
    }
   ],
   "source": [
    "sapi.account.get().keys()"
   ]
  },
  {
   "cell_type": "markdown",
   "metadata": {},
   "source": [
    "You can also call `StripeApi` directly with the path, verb, parameters, headers, etc:"
   ]
  },
  {
   "cell_type": "code",
   "execution_count": null,
   "metadata": {},
   "outputs": [
    {
     "data": {
      "text/html": [
       "<pre style=\"white-space:pre;overflow-x:auto;line-height:normal;font-family:Menlo,'DejaVu Sans Mono',consolas,'Courier New',monospace\"></pre>\n"
      ],
      "text/plain": []
     },
     "metadata": {},
     "output_type": "display_data"
    },
    {
     "data": {
      "text/plain": [
       "\u001b[1m(\u001b[0m\u001b[32m'prod_SWtCGrjnxwa0wp'\u001b[0m, \u001b[32m'Test Product'\u001b[0m\u001b[1m)\u001b[0m"
      ]
     },
     "execution_count": null,
     "metadata": {},
     "output_type": "execute_result"
    }
   ],
   "source": [
    "prod = sapi('/v1/products', 'POST', data=dict(name='Test Product'))\n",
    "prod.id, prod.name"
   ]
  },
  {
   "cell_type": "code",
   "execution_count": null,
   "metadata": {},
   "outputs": [
    {
     "data": {
      "text/html": [
       "<pre style=\"white-space:pre;overflow-x:auto;line-height:normal;font-family:Menlo,'DejaVu Sans Mono',consolas,'Courier New',monospace\"></pre>\n"
      ],
      "text/plain": []
     },
     "metadata": {},
     "output_type": "display_data"
    },
    {
     "data": {
      "text/markdown": [
       "---\n",
       "\n",
       "### StripeApi.__getitem__\n",
       "\n",
       ">      StripeApi.__getitem__ (k)\n",
       "\n",
       "*Lookup and call an endpoint by path and verb (which defaults to 'GET')*"
      ],
      "text/plain": [
       "\n",
       "---\n",
       "\n",
       "### StripeApi.__getitem__\n",
       "\n",
       ">      StripeApi.__getitem__ \u001b[1m(\u001b[0mk\u001b[1m)\u001b[0m\n",
       "\n",
       "*Lookup and call an endpoint by path and verb \u001b[1m(\u001b[0mwhich defaults to \u001b[32m'GET'\u001b[0m\u001b[1m)\u001b[0m*"
      ]
     },
     "execution_count": null,
     "metadata": {},
     "output_type": "execute_result"
    }
   ],
   "source": [
    "show_doc(StripeApi.__getitem__)"
   ]
  },
  {
   "cell_type": "markdown",
   "metadata": {},
   "source": [
    "You can access endpoints by indexing into the object. When using the API this way, you do not need to specify what type of parameter (route, query, or post data) is being used. This is, therefore, the same call as above:"
   ]
  },
  {
   "cell_type": "code",
   "execution_count": null,
   "metadata": {},
   "outputs": [
    {
     "data": {
      "text/html": [
       "<pre style=\"white-space:pre;overflow-x:auto;line-height:normal;font-family:Menlo,'DejaVu Sans Mono',consolas,'Courier New',monospace\"></pre>\n"
      ],
      "text/plain": []
     },
     "metadata": {},
     "output_type": "display_data"
    },
    {
     "data": {
      "text/plain": [
       "\u001b[1m(\u001b[0m\u001b[32m'prod_SWtCGrjnxwa0wp'\u001b[0m, \u001b[32m'Test Product'\u001b[0m\u001b[1m)\u001b[0m"
      ]
     },
     "execution_count": null,
     "metadata": {},
     "output_type": "execute_result"
    }
   ],
   "source": [
    "prod = sapi['/v1/products'](name='Test Product') # defaults to GET\n",
    "prod.data[0].id, prod.data[0].name"
   ]
  },
  {
   "cell_type": "markdown",
   "metadata": {},
   "source": [
    "That is all we need in order to have a fully functional Python SDK that is compliant with the Stripe OpenAPI spec. Kind of insane that in under 100 lines of code, we can get this functionality, which in my opinion is in some respects even better than the official Stripe Python SDK for the simple fact that we can see the parameters that the functions take without looking up the API reference doc online."
   ]
  },
  {
   "cell_type": "markdown",
   "metadata": {},
   "source": [
    "Let's go ahead and try to build with this thing. The simplest payment system that you can have in Stripe is a one-time payment URL. Here is how we do this in our new API. First, we have to create a product and its price."
   ]
  },
  {
   "cell_type": "code",
   "execution_count": null,
   "metadata": {},
   "outputs": [
    {
     "data": {
      "text/html": [
       "<pre style=\"white-space:pre;overflow-x:auto;line-height:normal;font-family:Menlo,'DejaVu Sans Mono',consolas,'Courier New',monospace\"></pre>\n"
      ],
      "text/plain": []
     },
     "metadata": {},
     "output_type": "display_data"
    },
    {
     "data": {
      "text/plain": [
       "\u001b[1m(\u001b[0m\u001b[32m'prod_SWtKvW6RBrtNWL'\u001b[0m, \u001b[32m'Test Product'\u001b[0m\u001b[1m)\u001b[0m"
      ]
     },
     "execution_count": null,
     "metadata": {},
     "output_type": "execute_result"
    }
   ],
   "source": [
    "prod = sapi.products.post(name='Test Product')\n",
    "prod.id, prod.name"
   ]
  },
  {
   "cell_type": "code",
   "execution_count": null,
   "metadata": {},
   "outputs": [
    {
     "data": {
      "text/html": [
       "<pre style=\"white-space:pre;overflow-x:auto;line-height:normal;font-family:Menlo,'DejaVu Sans Mono',consolas,'Courier New',monospace\"></pre>\n"
      ],
      "text/plain": []
     },
     "metadata": {},
     "output_type": "display_data"
    },
    {
     "data": {
      "text/plain": [
       "\u001b[1m(\u001b[0m\u001b[32m'price_1RbpXeKGhqIw9PXmtfdsDjUh'\u001b[0m, \u001b[1;36m1000\u001b[0m, \u001b[32m'usd'\u001b[0m\u001b[1m)\u001b[0m"
      ]
     },
     "execution_count": null,
     "metadata": {},
     "output_type": "execute_result"
    }
   ],
   "source": [
    "price = sapi.prices.post(product=prod.id, unit_amount=10_00, currency='usd')\n",
    "price.id, price.unit_amount, price.currency"
   ]
  },
  {
   "cell_type": "markdown",
   "metadata": {},
   "source": [
    "Now we can create our checkout session with a mode of payment which means that it will only happen once and is not part of any sort of subscription."
   ]
  },
  {
   "cell_type": "code",
   "execution_count": null,
   "metadata": {},
   "outputs": [
    {
     "data": {
      "text/html": [
       "<pre style=\"white-space:pre;overflow-x:auto;line-height:normal;font-family:Menlo,'DejaVu Sans Mono',consolas,'Courier New',monospace\"></pre>\n"
      ],
      "text/plain": []
     },
     "metadata": {},
     "output_type": "display_data"
    },
    {
     "data": {
      "text/markdown": [
       "- checkout.sessions_get(created, customer, customer_details, ending_before, expand, limit, payment_intent, payment_link, starting_after, status, subscription): *List all Checkout Sessions*\n",
       "- checkout.sessions_post(adaptive_pricing: dict = None, after_expiration: dict = None, allow_promotion_codes: bool = None, automatic_tax: dict = None, billing_address_collection: str = None, cancel_url: str = None, client_reference_id: str = None, consent_collection: dict = None, currency: str = None, custom_fields: list = None, custom_text: dict = None, customer: str = None, customer_creation: str = None, customer_email: str = None, customer_update: dict = None, discounts: list = None, expand: list = None, expires_at: int = None, invoice_creation: dict = None, line_items: list = None, locale: str = None, metadata: dict = None, mode: str = None, optional_items: list = None, payment_intent_data: dict = None, payment_method_collection: str = None, payment_method_configuration: str = None, payment_method_data: dict = None, payment_method_options: dict = None, payment_method_types: list = None, permissions: dict = None, phone_number_collection: dict = None, redirect_on_completion: str = None, return_url: str = None, saved_payment_method_options: dict = None, setup_intent_data: dict = None, shipping_address_collection: dict = None, shipping_options: list = None, submit_type: str = None, subscription_data: dict = None, success_url: str = None, tax_id_collection: dict = None, ui_mode: str = None, wallet_options: dict = None): *Create a Checkout Session*\n",
       "- checkout.sessions_session_get(session, expand): *Retrieve a Checkout Session*\n",
       "- checkout.sessions_session_post(session, collected_information: dict = None, expand: list = None, metadata: object = None, shipping_options: object = None): *Update a Checkout Session*\n",
       "- checkout.sessions_session_expire_post(session, expand: list = None): *Expire a Checkout Session*\n",
       "- checkout.sessions_session_line_items_get(session, ending_before, expand, limit, starting_after): *Retrieve a Checkout Session's line items*"
      ],
      "text/plain": [
       "\u001b[1m<\u001b[0m\u001b[1;95m__main__._OAPIVerbGroup\u001b[0m\u001b[39m object at \u001b[0m\u001b[1;36m0x150438530\u001b[0m\u001b[1m>\u001b[0m"
      ]
     },
     "execution_count": null,
     "metadata": {},
     "output_type": "execute_result"
    }
   ],
   "source": [
    "sapi.checkout"
   ]
  },
  {
   "cell_type": "code",
   "execution_count": null,
   "metadata": {},
   "outputs": [
    {
     "name": "stdout",
     "output_type": "stream",
     "text": [
      "Payment link: https://billing.answer.ai/c/pay/cs_test_a1Ol7CKLturIxauF9uh2vbKD...\n"
     ]
    }
   ],
   "source": [
    "checkout = sapi.checkout.sessions_post(mode='payment', line_items=[dict(price=price.id, quantity=1)],\n",
    "                                       success_url='https://localhost:5001/success', cancel_url='https://localhost:5001/cancel')\n",
    "print(f'Payment link: {checkout.url[:64]}...')"
   ]
  },
  {
   "cell_type": "markdown",
   "metadata": {},
   "source": [
    "Let's make this process even easier by add a higher level api ontop of our StripeApi."
   ]
  },
  {
   "cell_type": "markdown",
   "metadata": {},
   "source": [
    "First, let's make it a little bit easier to find an existing products and prices."
   ]
  },
  {
   "cell_type": "code",
   "execution_count": null,
   "metadata": {},
   "outputs": [],
   "source": [
    "#| export\n",
    "@patch\n",
    "def find_product(self:StripeApi, name: str):\n",
    "    'Find a product by name'\n",
    "    prods = L(self.products.get().data)\n",
    "    return first(prods, lambda p: p.name == name)"
   ]
  },
  {
   "cell_type": "code",
   "execution_count": null,
   "metadata": {},
   "outputs": [
    {
     "data": {
      "text/html": [
       "<pre style=\"white-space:pre;overflow-x:auto;line-height:normal;font-family:Menlo,'DejaVu Sans Mono',consolas,'Courier New',monospace\"></pre>\n"
      ],
      "text/plain": []
     },
     "metadata": {},
     "output_type": "display_data"
    },
    {
     "data": {
      "text/markdown": [
       "```json\n",
       "{ 'active': True,\n",
       "  'attributes': [],\n",
       "  'created': 1750366704,\n",
       "  'default_price': None,\n",
       "  'description': None,\n",
       "  'id': 'prod_SWtKvW6RBrtNWL',\n",
       "  'images': [],\n",
       "  'livemode': False,\n",
       "  'marketing_features': [],\n",
       "  'metadata': {},\n",
       "  'name': 'Test Product',\n",
       "  'object': 'product',\n",
       "  'package_dimensions': None,\n",
       "  'shippable': None,\n",
       "  'statement_descriptor': None,\n",
       "  'tax_code': None,\n",
       "  'type': 'service',\n",
       "  'unit_label': None,\n",
       "  'updated': 1750366704,\n",
       "  'url': None}\n",
       "```"
      ],
      "text/plain": [
       "\n",
       "\u001b[1m{\u001b[0m\n",
       "    \u001b[32m'id'\u001b[0m: \u001b[32m'prod_SWtKvW6RBrtNWL'\u001b[0m,\n",
       "    \u001b[32m'object'\u001b[0m: \u001b[32m'product'\u001b[0m,\n",
       "    \u001b[32m'active'\u001b[0m: \u001b[3;92mTrue\u001b[0m,\n",
       "    \u001b[32m'attributes'\u001b[0m: \u001b[1m[\u001b[0m\u001b[1m]\u001b[0m,\n",
       "    \u001b[32m'created'\u001b[0m: \u001b[1;36m1750366704\u001b[0m,\n",
       "    \u001b[32m'default_price'\u001b[0m: \u001b[3;35mNone\u001b[0m,\n",
       "    \u001b[32m'description'\u001b[0m: \u001b[3;35mNone\u001b[0m,\n",
       "    \u001b[32m'images'\u001b[0m: \u001b[1m[\u001b[0m\u001b[1m]\u001b[0m,\n",
       "    \u001b[32m'livemode'\u001b[0m: \u001b[3;91mFalse\u001b[0m,\n",
       "    \u001b[32m'marketing_features'\u001b[0m: \u001b[1m[\u001b[0m\u001b[1m]\u001b[0m,\n",
       "    \u001b[32m'metadata'\u001b[0m: \u001b[1m{\u001b[0m\u001b[1m}\u001b[0m,\n",
       "    \u001b[32m'name'\u001b[0m: \u001b[32m'Test Product'\u001b[0m,\n",
       "    \u001b[32m'package_dimensions'\u001b[0m: \u001b[3;35mNone\u001b[0m,\n",
       "    \u001b[32m'shippable'\u001b[0m: \u001b[3;35mNone\u001b[0m,\n",
       "    \u001b[32m'statement_descriptor'\u001b[0m: \u001b[3;35mNone\u001b[0m,\n",
       "    \u001b[32m'tax_code'\u001b[0m: \u001b[3;35mNone\u001b[0m,\n",
       "    \u001b[32m'type'\u001b[0m: \u001b[32m'service'\u001b[0m,\n",
       "    \u001b[32m'unit_label'\u001b[0m: \u001b[3;35mNone\u001b[0m,\n",
       "    \u001b[32m'updated'\u001b[0m: \u001b[1;36m1750366704\u001b[0m,\n",
       "    \u001b[32m'url'\u001b[0m: \u001b[3;35mNone\u001b[0m\n",
       "\u001b[1m}\u001b[0m"
      ]
     },
     "execution_count": null,
     "metadata": {},
     "output_type": "execute_result"
    }
   ],
   "source": [
    "sapi.find_product('Test Product')"
   ]
  },
  {
   "cell_type": "code",
   "execution_count": null,
   "metadata": {},
   "outputs": [],
   "source": [
    "#| export\n",
    "@patch\n",
    "def find_prices(self:StripeApi, product_id: str):\n",
    "    'Find all prices associated with a product id'\n",
    "    return L(self.prices.get().data).filter(lambda p: p.product == product_id)"
   ]
  },
  {
   "cell_type": "code",
   "execution_count": null,
   "metadata": {},
   "outputs": [
    {
     "data": {
      "text/html": [
       "<pre style=\"white-space:pre;overflow-x:auto;line-height:normal;font-family:Menlo,'DejaVu Sans Mono',consolas,'Courier New',monospace\"></pre>\n"
      ],
      "text/plain": []
     },
     "metadata": {},
     "output_type": "display_data"
    },
    {
     "data": {
      "text/plain": [
       "\u001b[1m[\u001b[0m\u001b[1m{\u001b[0m\u001b[32m'id'\u001b[0m: \u001b[32m'price_1RbpXeKGhqIw9PXmtfdsDjUh'\u001b[0m, \u001b[32m'object'\u001b[0m: \u001b[32m'price'\u001b[0m, \u001b[32m'active'\u001b[0m: \u001b[3;92mTrue\u001b[0m, \u001b[32m'billing_scheme'\u001b[0m: \u001b[32m'per_unit'\u001b[0m, \u001b[32m'created'\u001b[0m: \u001b[1;36m1750366718\u001b[0m, \u001b[32m'currency'\u001b[0m: \u001b[32m'usd'\u001b[0m, \u001b[32m'custom_unit_amount'\u001b[0m: \u001b[3;35mNone\u001b[0m, \u001b[32m'livemode'\u001b[0m: \u001b[3;91mFalse\u001b[0m, \u001b[32m'lookup_key'\u001b[0m: \u001b[3;35mNone\u001b[0m, \u001b[32m'metadata'\u001b[0m: \u001b[1m{\u001b[0m\u001b[1m}\u001b[0m, \u001b[32m'nickname'\u001b[0m: \u001b[3;35mNone\u001b[0m, \u001b[32m'product'\u001b[0m: \u001b[32m'prod_SWtKvW6RBrtNWL'\u001b[0m, \u001b[32m'recurring'\u001b[0m: \u001b[3;35mNone\u001b[0m, \u001b[32m'tax_behavior'\u001b[0m: \u001b[32m'unspecified'\u001b[0m, \u001b[32m'tiers_mode'\u001b[0m: \u001b[3;35mNone\u001b[0m, \u001b[32m'transform_quantity'\u001b[0m: \u001b[3;35mNone\u001b[0m, \u001b[32m'type'\u001b[0m: \u001b[32m'one_time'\u001b[0m, \u001b[32m'unit_amount'\u001b[0m: \u001b[1;36m1000\u001b[0m, \u001b[32m'unit_amount_decimal'\u001b[0m: \u001b[32m'1000'\u001b[0m\u001b[1m}\u001b[0m\u001b[1m]\u001b[0m"
      ]
     },
     "execution_count": null,
     "metadata": {},
     "output_type": "execute_result"
    }
   ],
   "source": [
    "sapi.find_prices(sapi.find_product('Test Product').id)"
   ]
  },
  {
   "cell_type": "code",
   "execution_count": null,
   "metadata": {},
   "outputs": [],
   "source": [
    "#| export\n",
    "@patch\n",
    "def priced_product(self:StripeApi, product_name, amount_cents, currency='usd', recurring=None, description=None):\n",
    "    \"Create a product and price if they don't exist\"\n",
    "    prod_params = dict(name=product_name)\n",
    "    if description: prod_params['description'] = description\n",
    "    prod = self.find_product(product_name) or self.products.post(**prod_params)\n",
    "    price_params = dict(product=prod.id, unit_amount=amount_cents, currency=currency)\n",
    "    if recurring: price_params['recurring'] = recurring\n",
    "    price = first(self.find_prices(prod.id)) or self.prices.post(**price_params)\n",
    "    return prod, price"
   ]
  },
  {
   "cell_type": "code",
   "execution_count": null,
   "metadata": {},
   "outputs": [
    {
     "data": {
      "text/html": [
       "<pre style=\"white-space:pre;overflow-x:auto;line-height:normal;font-family:Menlo,'DejaVu Sans Mono',consolas,'Courier New',monospace\"></pre>\n"
      ],
      "text/plain": []
     },
     "metadata": {},
     "output_type": "display_data"
    },
    {
     "data": {
      "text/plain": [
       "\u001b[1m(\u001b[0m\u001b[32m'Test Product'\u001b[0m, \u001b[32m'price_1RbpXeKGhqIw9PXmtfdsDjUh'\u001b[0m, \u001b[1;36m1000\u001b[0m\u001b[1m)\u001b[0m"
      ]
     },
     "execution_count": null,
     "metadata": {},
     "output_type": "execute_result"
    }
   ],
   "source": [
    "prod, price = sapi.priced_product('Test Product', 10_00, 'usd')\n",
    "prod.name, price.id, price.unit_amount"
   ]
  },
  {
   "cell_type": "markdown",
   "metadata": {},
   "source": [
    "Now we can automatically create a product or use an existing one when create a one time payment link."
   ]
  },
  {
   "cell_type": "code",
   "execution_count": null,
   "metadata": {},
   "outputs": [],
   "source": [
    "#| export\n",
    "@patch\n",
    "def one_time_payment(self:StripeApi, product_name, amount_cents, success_url, cancel_url, currency='usd', quantity=1, **kw):\n",
    "    'Create a simple one-time payment checkout'\n",
    "    _, price = self.priced_product(product_name, amount_cents, currency)\n",
    "    return self.checkout.sessions_post(mode='payment', line_items=[dict(price=price.id, quantity=quantity)],\n",
    "                                       automatic_tax={'enabled': True}, success_url=success_url, cancel_url=cancel_url, **kw)"
   ]
  },
  {
   "cell_type": "code",
   "execution_count": null,
   "metadata": {},
   "outputs": [
    {
     "name": "stdout",
     "output_type": "stream",
     "text": [
      "Payment link: https://billing.answer.ai/c/pay/cs_test_a106yCKxaLyMefsDHkPoPknP...\n"
     ]
    }
   ],
   "source": [
    "checkout = sapi.one_time_payment('Test Product', 10_00, 'https://localhost:5001/success', 'https://localhost:5001/cancel', 'usd')\n",
    "print(f'Payment link: {checkout.url[:64]}...')"
   ]
  },
  {
   "cell_type": "markdown",
   "metadata": {},
   "source": [
    "Another common use case is subscriptions. Let's go ahead and create a version that makes subscription creation just as easy."
   ]
  },
  {
   "cell_type": "code",
   "execution_count": null,
   "metadata": {},
   "outputs": [],
   "source": [
    "#| export\n",
    "@patch\n",
    "def subscription(self:StripeApi, product_name, amount_cents, success_url, cancel_url,\n",
    "                 currency='usd', interval='month', **kw):\n",
    "    'Create a simple recurring subscription'\n",
    "    _, price = self.priced_product(product_name, amount_cents, currency, recurring=dict(interval=interval))\n",
    "    return self.checkout.sessions_post(mode='subscription', success_url=success_url, cancel_url=cancel_url,\n",
    "                                       line_items=[dict(price=price.id, quantity=1)], **kw)"
   ]
  },
  {
   "cell_type": "code",
   "execution_count": null,
   "metadata": {},
   "outputs": [
    {
     "name": "stdout",
     "output_type": "stream",
     "text": [
      "Payment link: https://billing.answer.ai/c/pay/cs_test_a1qojLG3EpnNajEwCPgm44lR...\n"
     ]
    }
   ],
   "source": [
    "sub_checkout = sapi.subscription('Test Subscription Product', 10_00, 'https://localhost:5001/success', 'https://localhost:5001/cancel')\n",
    "print(f'Payment link: {sub_checkout.url[:64]}...')"
   ]
  },
  {
   "cell_type": "markdown",
   "metadata": {},
   "source": [
    "**Note:** You'll want to use Stripe's webhook functionality for detecting payment and subscription events. To do so, you'll utilize the Python Stripe SDK that the event actually came from stripe."
   ]
  },
  {
   "cell_type": "code",
   "execution_count": null,
   "metadata": {},
   "outputs": [],
   "source": [
    "#| hide\n",
    "import nbdev; nbdev.nbdev_export()"
   ]
  }
 ],
 "metadata": {
  "kernelspec": {
   "display_name": "python3",
   "language": "python",
   "name": "python3"
  }
 },
 "nbformat": 4,
 "nbformat_minor": 4
}
