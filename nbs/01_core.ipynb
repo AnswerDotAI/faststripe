{
 "cells": [
  {
   "cell_type": "markdown",
   "metadata": {},
   "source": [
    "# core\n",
    "\n",
    "> Fill in a module description here"
   ]
  },
  {
   "cell_type": "code",
   "execution_count": null,
   "metadata": {},
   "outputs": [],
   "source": [
    "#| default_exp core"
   ]
  },
  {
   "cell_type": "code",
   "execution_count": null,
   "metadata": {},
   "outputs": [],
   "source": [
    "#| export\n",
    "from collections import defaultdict\n",
    "from fastcore.all import *\n",
    "from faststripe.endpoints import eps\n",
    "from inspect import Parameter, Signature\n",
    "\n",
    "import httpx, re"
   ]
  },
  {
   "cell_type": "code",
   "execution_count": null,
   "metadata": {},
   "outputs": [],
   "source": [
    "#| hide\n",
    "import os"
   ]
  },
  {
   "cell_type": "code",
   "execution_count": null,
   "metadata": {},
   "outputs": [],
   "source": [
    "#| exports\n",
    "stripe_api_url = 'https://api.stripe.com'"
   ]
  },
  {
   "cell_type": "code",
   "execution_count": null,
   "metadata": {},
   "outputs": [
    {
     "data": {
      "text/html": [
       "<pre style=\"white-space:pre;overflow-x:auto;line-height:normal;font-family:Menlo,'DejaVu Sans Mono',consolas,'Courier New',monospace\"></pre>\n"
      ],
      "text/plain": []
     },
     "metadata": {},
     "output_type": "display_data"
    },
    {
     "data": {
      "text/plain": [
       "\n",
       "\u001b[1m{\u001b[0m\n",
       "    \u001b[32m'path'\u001b[0m: \u001b[32m'/v1/account'\u001b[0m,\n",
       "    \u001b[32m'verb'\u001b[0m: \u001b[32m'get'\u001b[0m,\n",
       "    \u001b[32m'op_id'\u001b[0m: \u001b[32m'GetAccount'\u001b[0m,\n",
       "    \u001b[32m'summary'\u001b[0m: \u001b[32m'Retrieve account'\u001b[0m,\n",
       "    \u001b[32m'params'\u001b[0m: \u001b[1m[\u001b[0m\n",
       "        \u001b[1m{\u001b[0m\n",
       "            \u001b[32m'name'\u001b[0m: \u001b[32m'expand'\u001b[0m,\n",
       "            \u001b[32m'description'\u001b[0m: \u001b[32m'Specifies which fields in the response should be expanded.'\u001b[0m\n",
       "        \u001b[1m}\u001b[0m\n",
       "    \u001b[1m]\u001b[0m\n",
       "\u001b[1m}\u001b[0m"
      ]
     },
     "execution_count": null,
     "metadata": {},
     "output_type": "execute_result"
    }
   ],
   "source": [
    "eps[0]"
   ]
  },
  {
   "cell_type": "markdown",
   "metadata": {},
   "source": [
    "Now, with each of these descriptions, we can easily create a request that we want on the fly. However, to make it a little bit nicer to use in a library, we'll go ahead and automatically generate functions with proper signatures and docstrings that are then easily accessible in any standard IDE."
   ]
  },
  {
   "cell_type": "code",
   "execution_count": null,
   "metadata": {},
   "outputs": [],
   "source": [
    "#| export\n",
    "def _flatten_data(data, prefix=''):\n",
    "    'Flatten a dictionary of data so that it can be used in a request body.'\n",
    "    result = {}\n",
    "    for k,v in data.items():\n",
    "        key = f'{prefix}[{k}]' if prefix else k\n",
    "        if isinstance(v, dict): result.update(_flatten_data(v, key))\n",
    "        elif isinstance(v, list): \n",
    "            for i,item in enumerate(v):\n",
    "                if isinstance(item, dict): result.update(_flatten_data(item, f'{key}[{i}]'))\n",
    "                else: result[f'{key}[{i}]'] = item\n",
    "        else: result[key] = v\n",
    "    return result"
   ]
  },
  {
   "cell_type": "code",
   "execution_count": null,
   "metadata": {},
   "outputs": [],
   "source": [
    "stripe_key = os.environ['STRIPE_SECRET_KEY']\n",
    "headers = {'Authorization': f'Bearer {stripe_key}'}"
   ]
  },
  {
   "cell_type": "code",
   "execution_count": null,
   "metadata": {},
   "outputs": [],
   "source": [
    "def _mk_func(path, verb, param_info, summary):\n",
    "    sig_params = [Parameter(param['name'], Parameter.KEYWORD_ONLY, default=None) for param in param_info]\n",
    "    param_docs = '\\n'.join(f\"    {param['name']}: {param['description']}\" for param in param_info)\n",
    "    docstring = f\"{summary}\\n\\nParameters:\\n{param_docs}\" if param_docs else summary\n",
    "    def m(**kwargs): return getattr(httpx, verb)(stripe_api_url + path, headers=headers, params=_flatten_data(kwargs)).json()\n",
    "    m.__signature__ = Signature(sig_params)\n",
    "    m.__doc__ = docstring\n",
    "    return m"
   ]
  },
  {
   "cell_type": "code",
   "execution_count": null,
   "metadata": {},
   "outputs": [
    {
     "name": "stdout",
     "output_type": "stream",
     "text": [
      "\u001b[31mSignature:\u001b[39m get_account(*, expand=\u001b[38;5;28;01mNone\u001b[39;00m)\n",
      "\u001b[31mDocstring:\u001b[39m\n",
      "Retrieve account\n",
      "\n",
      "Parameters:\n",
      "    expand: Specifies which fields in the response should be expanded.\n",
      "\u001b[31mSource:\u001b[39m        \u001b[38;5;28;01mdef\u001b[39;00m m(**kwargs): \u001b[38;5;28;01mreturn\u001b[39;00m getattr(httpx, verb)(stripe_api_url + path, headers=headers, params=_flatten_data(kwargs)).json()\n",
      "\u001b[31mFile:\u001b[39m      /var/folders/5f/gb9vtfjd68q8pwth3s3t67rr0000gn/T/ipykernel_91319/3787833087.py\n",
      "\u001b[31mType:\u001b[39m      function"
     ]
    }
   ],
   "source": [
    "acc_ep = eps[0]\n",
    "get_account = _mk_func(acc_ep['path'], acc_ep['verb'], acc_ep['params'], acc_ep['summary'])\n",
    "get_account??"
   ]
  },
  {
   "cell_type": "code",
   "execution_count": null,
   "metadata": {},
   "outputs": [],
   "source": [
    "# get_account()"
   ]
  },
  {
   "cell_type": "markdown",
   "metadata": {},
   "source": [
    "Let's go ahead and design a class since we need to store our API key and for use in the headers for each of these functions. "
   ]
  },
  {
   "cell_type": "code",
   "execution_count": null,
   "metadata": {},
   "outputs": [],
   "source": [
    "#| export\n",
    "def _parse_operation_id(op_id):\n",
    "    'Parse the operation ID to get the resource and verb'\n",
    "    parts = re.findall(r'[A-Z][a-z]*', op_id)\n",
    "    verb,*resource_parts = [p.lower() for p in parts]\n",
    "    r = '_'.join(resource_parts) if resource_parts else 'misc'\n",
    "    nm = 'create' if verb == 'post' else 'fetch' if verb == 'get' else verb\n",
    "    return r, nm"
   ]
  },
  {
   "cell_type": "markdown",
   "metadata": {},
   "source": [
    "For the name of our function, we're going to use this operation ID. However, they use title case so let's make a helper to properly split and construct these names"
   ]
  },
  {
   "cell_type": "code",
   "execution_count": null,
   "metadata": {},
   "outputs": [
    {
     "data": {
      "text/html": [
       "<pre style=\"white-space:pre;overflow-x:auto;line-height:normal;font-family:Menlo,'DejaVu Sans Mono',consolas,'Courier New',monospace\"></pre>\n"
      ],
      "text/plain": []
     },
     "metadata": {},
     "output_type": "display_data"
    },
    {
     "data": {
      "text/plain": [
       "\u001b[32m'account.fetch'\u001b[0m"
      ]
     },
     "execution_count": null,
     "metadata": {},
     "output_type": "execute_result"
    }
   ],
   "source": [
    "r, nm = _parse_operation_id(acc_ep['op_id'])\n",
    "f'{r}.{nm}'"
   ]
  },
  {
   "cell_type": "markdown",
   "metadata": {},
   "source": [
    "**Note:** We can't set these as the same post/get verbs because when we actually add these as attributes in our class, we're going to use an AttrDict which we cannot overwrite the get method. So I went ahead and changed the names to either fetch or create. "
   ]
  },
  {
   "cell_type": "code",
   "execution_count": null,
   "metadata": {},
   "outputs": [],
   "source": [
    "#| export\n",
    "def _mk_func(path, verb, param_info, summary, hdrs={}):\n",
    "    'Create a function from the Stripe API endpoint'\n",
    "    sig_params = [Parameter(param['name'], Parameter.KEYWORD_ONLY, default=None) for param in param_info]\n",
    "    param_docs = '\\n'.join(f\"    {param['name']}: {param['description']}\" for param in param_info)\n",
    "    docstring = f\"{summary}\\n\\nParameters:\\n{param_docs}\" if param_docs else summary\n",
    "    def m(**kwargs): return dict2obj(getattr(httpx, verb)(stripe_api_url + path, headers=hdrs,\n",
    "                                                          params=_flatten_data(kwargs)).json())\n",
    "    m.__signature__ = Signature(sig_params)\n",
    "    m.__doc__ = docstring\n",
    "    return m"
   ]
  },
  {
   "cell_type": "code",
   "execution_count": null,
   "metadata": {},
   "outputs": [],
   "source": [
    "#| export\n",
    "class StripeApi:\n",
    "    def __init__(self, api_key=None, base_url=stripe_api_url):\n",
    "        self.api_key,self.base_url = api_key,base_url\n",
    "        self.hdrs = {'Authorization': f'Bearer {self.api_key}'}\n",
    "        groups = defaultdict(list)\n",
    "        for ep in eps:\n",
    "            r, nm = _parse_operation_id(ep['op_id'])\n",
    "            groups[r].append((ep['path'], ep['verb'], nm, ep['summary'], ep['params']))\n",
    "        for r, mtds in groups.items():\n",
    "            group = AttrDict()\n",
    "            for path, verb, method_name, summary, params in mtds:\n",
    "                setattr(group, method_name, _mk_func(path, verb, params, summary, hdrs=self.hdrs))\n",
    "            setattr(self, r, group)"
   ]
  },
  {
   "cell_type": "code",
   "execution_count": null,
   "metadata": {},
   "outputs": [
    {
     "name": "stdout",
     "output_type": "stream",
     "text": [
      "\u001b[31mSignature:\u001b[39m sapi.account.fetch(*, expand=\u001b[38;5;28;01mNone\u001b[39;00m)\n",
      "\u001b[31mDocstring:\u001b[39m\n",
      "Retrieve account\n",
      "\n",
      "Parameters:\n",
      "    expand: Specifies which fields in the response should be expanded.\n",
      "\u001b[31mFile:\u001b[39m      /var/folders/5f/gb9vtfjd68q8pwth3s3t67rr0000gn/T/ipykernel_91319/3653438635.py\n",
      "\u001b[31mType:\u001b[39m      function"
     ]
    }
   ],
   "source": [
    "sapi = StripeApi(api_key=stripe_key)\n",
    "sapi.account.fetch?"
   ]
  },
  {
   "cell_type": "markdown",
   "metadata": {},
   "source": [
    "That is all we need in order to have a fully functional Python SDK that is compliant with the Stripe OpenAPI spec. Kind of insane that in under 100 lines of code, we can get this functionality, which in my opinion is in some respects even better than the official Stripe Python SDK for the simple fact that we can see the parameters that the functions take without looking up the API reference doc online."
   ]
  },
  {
   "cell_type": "markdown",
   "metadata": {},
   "source": [
    "Let's go ahead and try to build with this thing. The simplest payment system that you can have in Stripe is a one-time payment URL. Here is how we do this in our new API. First, we have to create a product and its price."
   ]
  },
  {
   "cell_type": "code",
   "execution_count": null,
   "metadata": {},
   "outputs": [
    {
     "data": {
      "text/html": [
       "<pre style=\"white-space:pre;overflow-x:auto;line-height:normal;font-family:Menlo,'DejaVu Sans Mono',consolas,'Courier New',monospace\"></pre>\n"
      ],
      "text/plain": []
     },
     "metadata": {},
     "output_type": "display_data"
    },
    {
     "data": {
      "text/plain": [
       "\u001b[1m(\u001b[0m\u001b[32m'prod_SQ7qxJf545o8Mx'\u001b[0m, \u001b[32m'Test Product'\u001b[0m\u001b[1m)\u001b[0m"
      ]
     },
     "execution_count": null,
     "metadata": {},
     "output_type": "execute_result"
    }
   ],
   "source": [
    "prod = sapi.products.create(name='Test Product')\n",
    "prod.id, prod.name"
   ]
  },
  {
   "cell_type": "code",
   "execution_count": null,
   "metadata": {},
   "outputs": [
    {
     "data": {
      "text/html": [
       "<pre style=\"white-space:pre;overflow-x:auto;line-height:normal;font-family:Menlo,'DejaVu Sans Mono',consolas,'Courier New',monospace\"></pre>\n"
      ],
      "text/plain": []
     },
     "metadata": {},
     "output_type": "display_data"
    },
    {
     "data": {
      "text/plain": [
       "\u001b[1m(\u001b[0m\u001b[32m'price_1RVHaeKGhqIw9PXmUcCcld46'\u001b[0m, \u001b[1;36m1000\u001b[0m, \u001b[32m'usd'\u001b[0m\u001b[1m)\u001b[0m"
      ]
     },
     "execution_count": null,
     "metadata": {},
     "output_type": "execute_result"
    }
   ],
   "source": [
    "price = sapi.prices.create(product=prod.id, unit_amount=1000, currency='usd')\n",
    "price.id, price.unit_amount, price.currency"
   ]
  },
  {
   "cell_type": "markdown",
   "metadata": {},
   "source": [
    "Now we can create our checkout session with a mode of payment which means that it will only happen once and is not part of any sort of subscription."
   ]
  },
  {
   "cell_type": "code",
   "execution_count": null,
   "metadata": {},
   "outputs": [
    {
     "name": "stdout",
     "output_type": "stream",
     "text": [
      "Payment link: https://billing.answer.ai/c/pay/cs_test_a1CeqjqiyUvzou1qzPaOSr7T...\n"
     ]
    }
   ],
   "source": [
    "checkout = sapi.checkout_sessions.create(mode='payment', line_items=[dict(price=price.id, quantity=1)],\n",
    "                                         success_url='https://localhost:5001/success', cancel_url='https://localhost:5001/cancel')\n",
    "print(f'Payment link: {checkout.url[:64]}...')"
   ]
  },
  {
   "cell_type": "markdown",
   "metadata": {},
   "source": [
    "Let's make this process even easier by add a higher level api ontop of our StripeApi."
   ]
  },
  {
   "cell_type": "markdown",
   "metadata": {},
   "source": [
    "First, let's make it a little bit easier to find an existing products and prices."
   ]
  },
  {
   "cell_type": "code",
   "execution_count": null,
   "metadata": {},
   "outputs": [],
   "source": [
    "#| export\n",
    "@patch\n",
    "def find_product(self:StripeApi, name: str):\n",
    "    'Find a product by name'\n",
    "    prods = L(self.products.fetch().data)\n",
    "    return first(prods, lambda p: p.name == name)"
   ]
  },
  {
   "cell_type": "code",
   "execution_count": null,
   "metadata": {},
   "outputs": [
    {
     "data": {
      "text/html": [
       "<pre style=\"white-space:pre;overflow-x:auto;line-height:normal;font-family:Menlo,'DejaVu Sans Mono',consolas,'Courier New',monospace\"></pre>\n"
      ],
      "text/plain": []
     },
     "metadata": {},
     "output_type": "display_data"
    },
    {
     "data": {
      "text/markdown": [
       "```json\n",
       "{ 'active': True,\n",
       "  'attributes': [],\n",
       "  'created': 1748806240,\n",
       "  'default_price': None,\n",
       "  'description': None,\n",
       "  'id': 'prod_SQ7qxJf545o8Mx',\n",
       "  'images': [],\n",
       "  'livemode': False,\n",
       "  'marketing_features': [],\n",
       "  'metadata': {},\n",
       "  'name': 'Test Product',\n",
       "  'object': 'product',\n",
       "  'package_dimensions': None,\n",
       "  'shippable': None,\n",
       "  'statement_descriptor': None,\n",
       "  'tax_code': None,\n",
       "  'type': 'service',\n",
       "  'unit_label': None,\n",
       "  'updated': 1748806240,\n",
       "  'url': None}\n",
       "```"
      ],
      "text/plain": [
       "\n",
       "\u001b[1m{\u001b[0m\n",
       "    \u001b[32m'id'\u001b[0m: \u001b[32m'prod_SQ7qxJf545o8Mx'\u001b[0m,\n",
       "    \u001b[32m'object'\u001b[0m: \u001b[32m'product'\u001b[0m,\n",
       "    \u001b[32m'active'\u001b[0m: \u001b[3;92mTrue\u001b[0m,\n",
       "    \u001b[32m'attributes'\u001b[0m: \u001b[1m[\u001b[0m\u001b[1m]\u001b[0m,\n",
       "    \u001b[32m'created'\u001b[0m: \u001b[1;36m1748806240\u001b[0m,\n",
       "    \u001b[32m'default_price'\u001b[0m: \u001b[3;35mNone\u001b[0m,\n",
       "    \u001b[32m'description'\u001b[0m: \u001b[3;35mNone\u001b[0m,\n",
       "    \u001b[32m'images'\u001b[0m: \u001b[1m[\u001b[0m\u001b[1m]\u001b[0m,\n",
       "    \u001b[32m'livemode'\u001b[0m: \u001b[3;91mFalse\u001b[0m,\n",
       "    \u001b[32m'marketing_features'\u001b[0m: \u001b[1m[\u001b[0m\u001b[1m]\u001b[0m,\n",
       "    \u001b[32m'metadata'\u001b[0m: \u001b[1m{\u001b[0m\u001b[1m}\u001b[0m,\n",
       "    \u001b[32m'name'\u001b[0m: \u001b[32m'Test Product'\u001b[0m,\n",
       "    \u001b[32m'package_dimensions'\u001b[0m: \u001b[3;35mNone\u001b[0m,\n",
       "    \u001b[32m'shippable'\u001b[0m: \u001b[3;35mNone\u001b[0m,\n",
       "    \u001b[32m'statement_descriptor'\u001b[0m: \u001b[3;35mNone\u001b[0m,\n",
       "    \u001b[32m'tax_code'\u001b[0m: \u001b[3;35mNone\u001b[0m,\n",
       "    \u001b[32m'type'\u001b[0m: \u001b[32m'service'\u001b[0m,\n",
       "    \u001b[32m'unit_label'\u001b[0m: \u001b[3;35mNone\u001b[0m,\n",
       "    \u001b[32m'updated'\u001b[0m: \u001b[1;36m1748806240\u001b[0m,\n",
       "    \u001b[32m'url'\u001b[0m: \u001b[3;35mNone\u001b[0m\n",
       "\u001b[1m}\u001b[0m"
      ]
     },
     "execution_count": null,
     "metadata": {},
     "output_type": "execute_result"
    }
   ],
   "source": [
    "sapi.find_product('Test Product')"
   ]
  },
  {
   "cell_type": "code",
   "execution_count": null,
   "metadata": {},
   "outputs": [],
   "source": [
    "#| export\n",
    "@patch\n",
    "def find_prices(self:StripeApi, product_id: str):\n",
    "    'Find all prices associated with a product id'\n",
    "    return L(self.prices.fetch().data).filter(lambda p: p.product == product_id)"
   ]
  },
  {
   "cell_type": "code",
   "execution_count": null,
   "metadata": {},
   "outputs": [
    {
     "data": {
      "text/html": [
       "<pre style=\"white-space:pre;overflow-x:auto;line-height:normal;font-family:Menlo,'DejaVu Sans Mono',consolas,'Courier New',monospace\"></pre>\n"
      ],
      "text/plain": []
     },
     "metadata": {},
     "output_type": "display_data"
    },
    {
     "data": {
      "text/plain": [
       "\u001b[1m[\u001b[0m\u001b[1m{\u001b[0m\u001b[32m'id'\u001b[0m: \u001b[32m'price_1RVHaeKGhqIw9PXmUcCcld46'\u001b[0m, \u001b[32m'object'\u001b[0m: \u001b[32m'price'\u001b[0m, \u001b[32m'active'\u001b[0m: \u001b[3;92mTrue\u001b[0m, \u001b[32m'billing_scheme'\u001b[0m: \u001b[32m'per_unit'\u001b[0m, \u001b[32m'created'\u001b[0m: \u001b[1;36m1748806240\u001b[0m, \u001b[32m'currency'\u001b[0m: \u001b[32m'usd'\u001b[0m, \u001b[32m'custom_unit_amount'\u001b[0m: \u001b[3;35mNone\u001b[0m, \u001b[32m'livemode'\u001b[0m: \u001b[3;91mFalse\u001b[0m, \u001b[32m'lookup_key'\u001b[0m: \u001b[3;35mNone\u001b[0m, \u001b[32m'metadata'\u001b[0m: \u001b[1m{\u001b[0m\u001b[1m}\u001b[0m, \u001b[32m'nickname'\u001b[0m: \u001b[3;35mNone\u001b[0m, \u001b[32m'product'\u001b[0m: \u001b[32m'prod_SQ7qxJf545o8Mx'\u001b[0m, \u001b[32m'recurring'\u001b[0m: \u001b[3;35mNone\u001b[0m, \u001b[32m'tax_behavior'\u001b[0m: \u001b[32m'unspecified'\u001b[0m, \u001b[32m'tiers_mode'\u001b[0m: \u001b[3;35mNone\u001b[0m, \u001b[32m'transform_quantity'\u001b[0m: \u001b[3;35mNone\u001b[0m, \u001b[32m'type'\u001b[0m: \u001b[32m'one_time'\u001b[0m, \u001b[32m'unit_amount'\u001b[0m: \u001b[1;36m1000\u001b[0m, \u001b[32m'unit_amount_decimal'\u001b[0m: \u001b[32m'1000'\u001b[0m\u001b[1m}\u001b[0m\u001b[1m]\u001b[0m"
      ]
     },
     "execution_count": null,
     "metadata": {},
     "output_type": "execute_result"
    }
   ],
   "source": [
    "sapi.find_prices(sapi.find_product('Test Product').id)"
   ]
  },
  {
   "cell_type": "code",
   "execution_count": null,
   "metadata": {},
   "outputs": [],
   "source": [
    "#| export\n",
    "@patch\n",
    "def priced_product(self:StripeApi, product_name, amount_cents, currency='usd', recurring=None, description=None):\n",
    "    \"Create a product and price if they don't exist\"\n",
    "    prod_params = dict(name=product_name)\n",
    "    if description: prod_params['description'] = description\n",
    "    prod = self.find_product(product_name) or self.products.create(**prod_params)\n",
    "    price_params = dict(product=prod.id, unit_amount=amount_cents, currency=currency)\n",
    "    if recurring: price_params['recurring'] = recurring\n",
    "    price = first(self.find_prices(prod.id)) or self.prices.create(**price_params)\n",
    "    return prod, price"
   ]
  },
  {
   "cell_type": "code",
   "execution_count": null,
   "metadata": {},
   "outputs": [
    {
     "data": {
      "text/html": [
       "<pre style=\"white-space:pre;overflow-x:auto;line-height:normal;font-family:Menlo,'DejaVu Sans Mono',consolas,'Courier New',monospace\"></pre>\n"
      ],
      "text/plain": []
     },
     "metadata": {},
     "output_type": "display_data"
    },
    {
     "data": {
      "text/plain": [
       "\u001b[1m(\u001b[0m\u001b[32m'Test Product'\u001b[0m, \u001b[32m'price_1RVHaeKGhqIw9PXmUcCcld46'\u001b[0m, \u001b[1;36m1000\u001b[0m\u001b[1m)\u001b[0m"
      ]
     },
     "execution_count": null,
     "metadata": {},
     "output_type": "execute_result"
    }
   ],
   "source": [
    "prod, price = sapi.priced_product('Test Product', 1000, 'usd')\n",
    "prod.name, price.id, price.unit_amount"
   ]
  },
  {
   "cell_type": "markdown",
   "metadata": {},
   "source": [
    "Now we can automatically create a product or use an existing one when create a one time payment link."
   ]
  },
  {
   "cell_type": "code",
   "execution_count": null,
   "metadata": {},
   "outputs": [],
   "source": [
    "#| export\n",
    "@patch\n",
    "def one_time_payment(self:StripeApi, product_name, amount_cents, success_url, cancel_url, currency='usd', **kw):\n",
    "    'Create a simple one-time payment checkout'\n",
    "    _, price = self.priced_product(product_name, amount_cents, currency)\n",
    "    return self.checkout_sessions.create(mode='payment', line_items=[dict(price=price.id, quantity=1)],\n",
    "                                         automatic_tax={'enabled': True}, success_url=success_url, cancel_url=cancel_url, **kw)"
   ]
  },
  {
   "cell_type": "code",
   "execution_count": null,
   "metadata": {},
   "outputs": [
    {
     "name": "stdout",
     "output_type": "stream",
     "text": [
      "Payment link: https://billing.answer.ai/c/pay/cs_test_a12wY9kQ1i3R5AWGahSrl0tK...\n"
     ]
    }
   ],
   "source": [
    "checkout = sapi.one_time_payment('Test Product', 1000, 'https://localhost:5001/success', 'https://localhost:5001/cancel', 'usd')\n",
    "print(f'Payment link: {checkout.url[:64]}...')"
   ]
  },
  {
   "cell_type": "markdown",
   "metadata": {},
   "source": [
    "Another common use case is subscriptions. Let's go ahead and create a version that makes subscription creation just as easy."
   ]
  },
  {
   "cell_type": "code",
   "execution_count": null,
   "metadata": {},
   "outputs": [],
   "source": [
    "#| export\n",
    "@patch\n",
    "def subscription(self:StripeApi, product_name, amount_cents, success_url, cancel_url,\n",
    "                 currency='usd', interval='month', **kw):\n",
    "    'Create a simple recurring subscription'\n",
    "    _, price = self.priced_product(product_name, amount_cents, currency, recurring=dict(interval=interval))\n",
    "    return self.checkout_sessions.create(mode='subscription', success_url=success_url, cancel_url=cancel_url,\n",
    "                                         line_items=[dict(price=price.id, quantity=1)], **kw)"
   ]
  },
  {
   "cell_type": "code",
   "execution_count": null,
   "metadata": {},
   "outputs": [
    {
     "name": "stdout",
     "output_type": "stream",
     "text": [
      "Payment link: https://billing.answer.ai/c/pay/cs_test_a1Vu4oxCVP4E9HZ7FAH7g4UZ...\n"
     ]
    }
   ],
   "source": [
    "sub_checkout = sapi.subscription('Test Subscription Product', 1000, 'https://localhost:5001/success', 'https://localhost:5001/cancel')\n",
    "print(f'Payment link: {sub_checkout.url[:64]}...')"
   ]
  },
  {
   "cell_type": "markdown",
   "metadata": {},
   "source": [
    "**Note:** You'll want to use Stripe's webhook functionality for detecting payment and subscription events. To do so, you'll utilize the Python Stripe SDK that the event actually came from stripe."
   ]
  },
  {
   "cell_type": "code",
   "execution_count": null,
   "metadata": {},
   "outputs": [],
   "source": [
    "#| hide\n",
    "import nbdev; nbdev.nbdev_export()"
   ]
  }
 ],
 "metadata": {
  "kernelspec": {
   "display_name": "python3",
   "language": "python",
   "name": "python3"
  }
 },
 "nbformat": 4,
 "nbformat_minor": 4
}
