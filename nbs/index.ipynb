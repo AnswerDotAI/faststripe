{
 "cells": [
  {
   "cell_type": "code",
   "execution_count": null,
   "metadata": {},
   "outputs": [],
   "source": [
    "#| hide\n",
    "from faststripe.core import *"
   ]
  },
  {
   "cell_type": "markdown",
   "metadata": {},
   "source": [
    "# faststripe\n",
    "\n",
    "> Fastest way to use the Stripe API in python"
   ]
  },
  {
   "cell_type": "markdown",
   "metadata": {},
   "source": [
    "## Why FastStripe?\n",
    "\n",
    "FastStripe offers several advantages over the official Stripe Python SDK:\n",
    "\n",
    "- **🔍 Self-documenting**: See all available parameters with descriptions in your IDE\n",
    "- **🎯 Simplified workflows**: High-level methods for common payment patterns\n",
    "- **📦 Lightweight**: Minimal dependencies (just `httpx` and `fastcore`)\n",
    "- **🏗️ Consistent API**: Uniform `create`/`fetch` naming across all resources\n",
    "- **💫 AttrDict responses**: Access response data with dot notation (`customer.email`)\n",
    "- **🔧 Automatic data handling**: Nested dictionaries flattened for Stripe's API format"
   ]
  },
  {
   "cell_type": "markdown",
   "metadata": {},
   "source": [
    "## Usage"
   ]
  },
  {
   "cell_type": "markdown",
   "metadata": {},
   "source": [
    "### Installation"
   ]
  },
  {
   "cell_type": "markdown",
   "metadata": {},
   "source": [
    "Install latest from the GitHub [repository][repo]:\n",
    "\n",
    "```sh\n",
    "$ pip install git+https://github.com/AnswerDotAI/faststripe.git\n",
    "```\n",
    "\n",
    "or from [pypi][pypi]\n",
    "\n",
    "\n",
    "```sh\n",
    "$ pip install faststripe\n",
    "```\n",
    "\n",
    "\n",
    "[repo]: https://github.com/AnswerDotAI/faststripe\n",
    "[docs]: https://AnswerDotAI.github.io/faststripe/\n",
    "[pypi]: https://pypi.org/project/faststripe/\n",
    "[conda]: https://anaconda.org/AnswerDotAI/faststripe"
   ]
  },
  {
   "cell_type": "markdown",
   "metadata": {},
   "source": [
    "### Documentation"
   ]
  },
  {
   "cell_type": "markdown",
   "metadata": {},
   "source": [
    "Documentation can be found hosted on this GitHub [repository][repo]'s [pages][docs]. Additionally you can find package manager specific guidelines on [conda][conda] and [pypi][pypi] respectively.\n",
    "\n",
    "[repo]: https://github.com/AnswerDotAI/faststripe\n",
    "[docs]: https://AnswerDotAI.github.io/faststripe/\n",
    "[pypi]: https://pypi.org/project/faststripe/\n",
    "[conda]: https://anaconda.org/AnswerDotAI/faststripe"
   ]
  },
  {
   "cell_type": "markdown",
   "metadata": {},
   "source": [
    "## How to use\n",
    "\n",
    "FastStripe provides a simple, self-documenting interface to the Stripe API. All you need is your Stripe API key:"
   ]
  },
  {
   "cell_type": "code",
   "execution_count": null,
   "metadata": {},
   "outputs": [],
   "source": [
    "from faststripe.core import StripeApi\n",
    "\n",
    "import os\n",
    "\n",
    "# Initialize with your API key from environment\n",
    "sapi = StripeApi(os.environ['STRIPE_SECRET_KEY'])"
   ]
  },
  {
   "cell_type": "code",
   "execution_count": null,
   "metadata": {},
   "outputs": [
    {
     "name": "stdout",
     "output_type": "stream",
     "text": [
      "cus_SMsM453Vb64XcF user@example.com\n"
     ]
    }
   ],
   "source": [
    "# Create a customer\n",
    "customer = sapi.customers.create(email='user@example.com', name='John Doe')\n",
    "print(customer.id, customer.email)"
   ]
  },
  {
   "cell_type": "markdown",
   "metadata": {},
   "source": [
    "### Self-Documenting API\n",
    "\n",
    "One of FastStripe's key advantages is that all methods include parameter documentation directly in your IDE. You can see what parameters are available without checking external docs:"
   ]
  },
  {
   "cell_type": "code",
   "execution_count": null,
   "metadata": {},
   "outputs": [
    {
     "name": "stdout",
     "output_type": "stream",
     "text": [
      "\u001b[31mSignature:\u001b[39m\n",
      "sapi.customers.create(\n",
      "    *,\n",
      "    address=\u001b[38;5;28;01mNone\u001b[39;00m,\n",
      "    balance=\u001b[38;5;28;01mNone\u001b[39;00m,\n",
      "    cash_balance=\u001b[38;5;28;01mNone\u001b[39;00m,\n",
      "    description=\u001b[38;5;28;01mNone\u001b[39;00m,\n",
      "    email=\u001b[38;5;28;01mNone\u001b[39;00m,\n",
      "    expand=\u001b[38;5;28;01mNone\u001b[39;00m,\n",
      "    invoice_prefix=\u001b[38;5;28;01mNone\u001b[39;00m,\n",
      "    invoice_settings=\u001b[38;5;28;01mNone\u001b[39;00m,\n",
      "    metadata=\u001b[38;5;28;01mNone\u001b[39;00m,\n",
      "    name=\u001b[38;5;28;01mNone\u001b[39;00m,\n",
      "    next_invoice_sequence=\u001b[38;5;28;01mNone\u001b[39;00m,\n",
      "    payment_method=\u001b[38;5;28;01mNone\u001b[39;00m,\n",
      "    phone=\u001b[38;5;28;01mNone\u001b[39;00m,\n",
      "    preferred_locales=\u001b[38;5;28;01mNone\u001b[39;00m,\n",
      "    shipping=\u001b[38;5;28;01mNone\u001b[39;00m,\n",
      "    source=\u001b[38;5;28;01mNone\u001b[39;00m,\n",
      "    tax=\u001b[38;5;28;01mNone\u001b[39;00m,\n",
      "    tax_exempt=\u001b[38;5;28;01mNone\u001b[39;00m,\n",
      "    tax_id_data=\u001b[38;5;28;01mNone\u001b[39;00m,\n",
      "    test_clock=\u001b[38;5;28;01mNone\u001b[39;00m,\n",
      ")\n",
      "\u001b[31mDocstring:\u001b[39m\n",
      "Create a customer\n",
      "\n",
      "Parameters:\n",
      "    address: The customer's address.\n",
      "    balance: An integer amount in cents (or local equivalent) that represents the customer's current balance, which affect the customer's future invoices. A negative amount represents a credit that decreases the amount due on an invoice; a positive amount increases the amount due on an invoice.\n",
      "    cash_balance: Balance information and default balance settings for this customer.\n",
      "    description: An arbitrary string that you can attach to a customer object. It is displayed alongside the customer in the dashboard.\n",
      "    email: Customer's email address. It's displayed alongside the customer in your dashboard and can be useful for searching and tracking. This may be up to *512 characters*.\n",
      "    expand: Specifies which fields in the response should be expanded.\n",
      "    invoice_prefix: The prefix for the customer used to generate unique invoice numbers. Must be 3–12 uppercase letters or numbers.\n",
      "    invoice_settings: Default invoice settings for this customer.\n",
      "    metadata: Set of [key-value pairs](https://stripe.com/docs/api/metadata) that you can attach to an object. This can be useful for storing additional information about the object in a structured format. Individual keys can be unset by posting an empty value to them. All keys can be unset by posting an empty value to `metadata`.\n",
      "    name: The customer's full name or business name.\n",
      "    next_invoice_sequence: The sequence to be used on the customer's next invoice. Defaults to 1.\n",
      "    payment_method: \n",
      "    phone: The customer's phone number.\n",
      "    preferred_locales: Customer's preferred languages, ordered by preference.\n",
      "    shipping: The customer's shipping information. Appears on invoices emailed to this customer.\n",
      "    source: \n",
      "    tax: Tax details about the customer.\n",
      "    tax_exempt: The customer's tax exemption. One of `none`, `exempt`, or `reverse`.\n",
      "    tax_id_data: The customer's tax IDs.\n",
      "    test_clock: ID of the test clock to attach to the customer.\n",
      "\u001b[31mFile:\u001b[39m      ~/aai-ws/faststripe/faststripe/core.py\n",
      "\u001b[31mType:\u001b[39m      function"
     ]
    }
   ],
   "source": [
    "# Explore available methods and their parameters\n",
    "sapi.customers.create?"
   ]
  },
  {
   "cell_type": "markdown",
   "metadata": {},
   "source": [
    "### High-Level Convenience Methods\n",
    "\n",
    "FastStripe includes simplified methods for common payment workflows:"
   ]
  },
  {
   "cell_type": "code",
   "execution_count": null,
   "metadata": {},
   "outputs": [
    {
     "name": "stdout",
     "output_type": "stream",
     "text": [
      "Payment URL: https://billing.answer.ai/c/pay/cs_test_a17Swg1TqARRl0ItVDkdelkR...\n"
     ]
    }
   ],
   "source": [
    "# Create a one-time payment checkout session\n",
    "checkout = sapi.one_time_payment(\n",
    "    product_name='My Product',\n",
    "    amount_cents=2000,  # $20.00\n",
    "    success_url='https://localhost:8000/success',\n",
    "    cancel_url='https://localhost:8000/cancel'\n",
    ")\n",
    "print(f\"Payment URL: {checkout.url[:64]}...\")"
   ]
  },
  {
   "cell_type": "code",
   "execution_count": null,
   "metadata": {},
   "outputs": [
    {
     "name": "stdout",
     "output_type": "stream",
     "text": [
      "Subscription URL: https://billing.answer.ai/c/pay/cs_test_a1xQzvl0Qd6arXt9EKWsYDJ7...\n"
     ]
    }
   ],
   "source": [
    "# Create a subscription checkout session\n",
    "subscription = sapi.subscription(\n",
    "    product_name='Monthly Plan',\n",
    "    amount_cents=999,  # $9.99/month\n",
    "    success_url='https://localhost:8000/success',\n",
    "    cancel_url='https://localhost:8000/cancel',\n",
    "    customer_email=customer.email\n",
    ")\n",
    "print(f\"Subscription URL: {subscription.url[:64]}...\")"
   ]
  },
  {
   "cell_type": "markdown",
   "metadata": {},
   "source": [
    "### Complete API Coverage\n",
    "\n",
    "FastStripe provides access to the entire Stripe API through organized resource groups:"
   ]
  },
  {
   "cell_type": "code",
   "execution_count": null,
   "metadata": {},
   "outputs": [
    {
     "name": "stdout",
     "output_type": "stream",
     "text": [
      "Created product: New Product with ID: prod_SMsMg2mD205PNM\n"
     ]
    }
   ],
   "source": [
    "# Access any Stripe resource with consistent patterns\n",
    "product = sapi.products.create(name='New Product')\n",
    "print(f\"Created product: {product.name} with ID: {product.id}\")"
   ]
  },
  {
   "cell_type": "code",
   "execution_count": null,
   "metadata": {},
   "outputs": [
    {
     "name": "stdout",
     "output_type": "stream",
     "text": [
      "Found 3 customers\n"
     ]
    }
   ],
   "source": [
    "# Fetch existing resources\n",
    "customers = sapi.customers.fetch(limit=3)\n",
    "print(f\"Found {len(customers.data)} customers\")"
   ]
  },
  {
   "cell_type": "code",
   "execution_count": null,
   "metadata": {},
   "outputs": [
    {
     "name": "stdout",
     "output_type": "stream",
     "text": [
      "Payment intent status: requires_payment_method, amount: $10.0\n"
     ]
    }
   ],
   "source": [
    "# All responses are AttrDict objects for easy dot notation access\n",
    "payment_intent = sapi.payment_intents.create(amount=1000, currency='usd')\n",
    "print(f\"Payment intent status: {payment_intent.status}, amount: ${payment_intent.amount/100}\")"
   ]
  }
 ],
 "metadata": {
  "kernelspec": {
   "display_name": "python3",
   "language": "python",
   "name": "python3"
  }
 },
 "nbformat": 4,
 "nbformat_minor": 4
}
