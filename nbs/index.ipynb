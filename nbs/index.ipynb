{
 "cells": [
  {
   "cell_type": "code",
   "execution_count": null,
   "metadata": {},
   "outputs": [],
   "source": [
    "#| hide\n",
    "from faststripe.core import *"
   ]
  },
  {
   "cell_type": "markdown",
   "metadata": {},
   "outputs": [],
   "source": "# Tutorial: Get Started with FastStripe\n\n> Learn to accept payments with FastStripe in 15 minutes\n\nThis tutorial will guide you through setting up FastStripe and accepting your first payment. By the end, you'll have created a working payment link and understand the basics of the FastStripe API.\n\n## What you'll learn\n\n- How to install and configure FastStripe\n- How to create your first payment link\n- How to set up a subscription\n- How to handle customer data"
  },
  {
   "cell_type": "markdown",
   "metadata": {},
   "outputs": [],
   "source": "## Prerequisites\n\nBefore starting this tutorial, you'll need:\n\n- Python 3.8 or higher installed\n- A Stripe account (sign up at [stripe.com](https://stripe.com))\n- Your Stripe test API keys from the [Stripe Dashboard](https://dashboard.stripe.com/test/apikeys)\n\n## Why FastStripe?\n\nFastStripe offers several advantages over the official Stripe Python SDK:\n\n- **🔍 Self-documenting**: See all available parameters with descriptions in your IDE\n- **🎯 Simplified workflows**: High-level methods for common payment patterns\n- **📦 Lightweight**: Minimal dependencies (just `httpx` and `fastcore`)\n- **🏗️ Consistent API**: Uniform `create`/`fetch` naming across all resources\n- **💫 AttrDict responses**: Access response data with dot notation (`customer.email`)\n- **🔧 Automatic data handling**: Nested dictionaries flattened for Stripe's API format"
  },
  {
   "cell_type": "markdown",
   "metadata": {},
   "outputs": [],
   "source": "## Step 1: Installation"
  },
  {
   "cell_type": "markdown",
   "metadata": {},
   "outputs": [],
   "source": "First, install FastStripe using pip:"
  },
  {
   "cell_type": "markdown",
   "metadata": {},
   "outputs": [],
   "source": "```bash\npip install git+https://github.com/AnswerDotAI/faststripe.git\n```\n\nOr install from PyPI:\n\n```bash\npip install faststripe\n```"
  },
  {
   "cell_type": "markdown",
   "metadata": {},
   "outputs": [],
   "source": "## Step 2: Set up your API key\n\nFor this tutorial, you'll use your Stripe test API key. Create a `.env` file in your project directory:"
  },
  {
   "cell_type": "markdown",
   "metadata": {},
   "outputs": [],
   "source": "```bash\necho \"STRIPE_SECRET_KEY=sk_test_your_test_key_here\" > .env\n```\n\nThen load it in your Python environment:"
  },
  {
   "cell_type": "markdown",
   "metadata": {},
   "outputs": [],
   "source": "## Step 3: Initialize FastStripe\n\nNow let's import FastStripe and initialize it with your API key:"
  },
  {
   "cell_type": "code",
   "execution_count": null,
   "metadata": {},
   "outputs": [],
   "source": [
    "from faststripe.core import StripeApi\n",
    "\n",
    "import os\n",
    "\n",
    "# Initialize with your API key from environment\n",
    "sapi = StripeApi(os.environ['STRIPE_SECRET_KEY'])"
   ]
  },
  {
   "cell_type": "code",
   "execution_count": null,
   "metadata": {},
   "outputs": [
    {
     "name": "stdout",
     "output_type": "stream",
     "text": [
      "cus_SMsM453Vb64XcF user@example.com\n"
     ]
    }
   ],
   "source": [
    "# Create a customer\n",
    "customer = sapi.customers.create(email='user@example.com', name='John Doe')\n",
    "print(customer.id, customer.email)"
   ]
  },
  {
   "cell_type": "markdown",
   "metadata": {},
   "source": [
    "### Self-Documenting API\n",
    "\n",
    "One of FastStripe's key advantages is that all methods include parameter documentation directly in your IDE. You can see what parameters are available without checking external docs:"
   ]
  },
  {
   "cell_type": "code",
   "execution_count": null,
   "metadata": {},
   "outputs": [
    {
     "name": "stdout",
     "output_type": "stream",
     "text": [
      "\u001b[31mSignature:\u001b[39m\n",
      "sapi.customers.create(\n",
      "    *,\n",
      "    address=\u001b[38;5;28;01mNone\u001b[39;00m,\n",
      "    balance=\u001b[38;5;28;01mNone\u001b[39;00m,\n",
      "    cash_balance=\u001b[38;5;28;01mNone\u001b[39;00m,\n",
      "    description=\u001b[38;5;28;01mNone\u001b[39;00m,\n",
      "    email=\u001b[38;5;28;01mNone\u001b[39;00m,\n",
      "    expand=\u001b[38;5;28;01mNone\u001b[39;00m,\n",
      "    invoice_prefix=\u001b[38;5;28;01mNone\u001b[39;00m,\n",
      "    invoice_settings=\u001b[38;5;28;01mNone\u001b[39;00m,\n",
      "    metadata=\u001b[38;5;28;01mNone\u001b[39;00m,\n",
      "    name=\u001b[38;5;28;01mNone\u001b[39;00m,\n",
      "    next_invoice_sequence=\u001b[38;5;28;01mNone\u001b[39;00m,\n",
      "    payment_method=\u001b[38;5;28;01mNone\u001b[39;00m,\n",
      "    phone=\u001b[38;5;28;01mNone\u001b[39;00m,\n",
      "    preferred_locales=\u001b[38;5;28;01mNone\u001b[39;00m,\n",
      "    shipping=\u001b[38;5;28;01mNone\u001b[39;00m,\n",
      "    source=\u001b[38;5;28;01mNone\u001b[39;00m,\n",
      "    tax=\u001b[38;5;28;01mNone\u001b[39;00m,\n",
      "    tax_exempt=\u001b[38;5;28;01mNone\u001b[39;00m,\n",
      "    tax_id_data=\u001b[38;5;28;01mNone\u001b[39;00m,\n",
      "    test_clock=\u001b[38;5;28;01mNone\u001b[39;00m,\n",
      ")\n",
      "\u001b[31mDocstring:\u001b[39m\n",
      "Create a customer\n",
      "\n",
      "Parameters:\n",
      "    address: The customer's address.\n",
      "    balance: An integer amount in cents (or local equivalent) that represents the customer's current balance, which affect the customer's future invoices. A negative amount represents a credit that decreases the amount due on an invoice; a positive amount increases the amount due on an invoice.\n",
      "    cash_balance: Balance information and default balance settings for this customer.\n",
      "    description: An arbitrary string that you can attach to a customer object. It is displayed alongside the customer in the dashboard.\n",
      "    email: Customer's email address. It's displayed alongside the customer in your dashboard and can be useful for searching and tracking. This may be up to *512 characters*.\n",
      "    expand: Specifies which fields in the response should be expanded.\n",
      "    invoice_prefix: The prefix for the customer used to generate unique invoice numbers. Must be 3–12 uppercase letters or numbers.\n",
      "    invoice_settings: Default invoice settings for this customer.\n",
      "    metadata: Set of [key-value pairs](https://stripe.com/docs/api/metadata) that you can attach to an object. This can be useful for storing additional information about the object in a structured format. Individual keys can be unset by posting an empty value to them. All keys can be unset by posting an empty value to `metadata`.\n",
      "    name: The customer's full name or business name.\n",
      "    next_invoice_sequence: The sequence to be used on the customer's next invoice. Defaults to 1.\n",
      "    payment_method: \n",
      "    phone: The customer's phone number.\n",
      "    preferred_locales: Customer's preferred languages, ordered by preference.\n",
      "    shipping: The customer's shipping information. Appears on invoices emailed to this customer.\n",
      "    source: \n",
      "    tax: Tax details about the customer.\n",
      "    tax_exempt: The customer's tax exemption. One of `none`, `exempt`, or `reverse`.\n",
      "    tax_id_data: The customer's tax IDs.\n",
      "    test_clock: ID of the test clock to attach to the customer.\n",
      "\u001b[31mFile:\u001b[39m      ~/aai-ws/faststripe/faststripe/core.py\n",
      "\u001b[31mType:\u001b[39m      function"
     ]
    }
   ],
   "source": [
    "# Explore available methods and their parameters\n",
    "sapi.customers.create?"
   ]
  },
  {
   "cell_type": "markdown",
   "metadata": {},
   "source": [
    "### High-Level Convenience Methods\n",
    "\n",
    "FastStripe includes simplified methods for common payment workflows:"
   ]
  },
  {
   "cell_type": "code",
   "execution_count": null,
   "metadata": {},
   "outputs": [
    {
     "name": "stdout",
     "output_type": "stream",
     "text": [
      "Payment URL: https://billing.answer.ai/c/pay/cs_test_a17Swg1TqARRl0ItVDkdelkR...\n"
     ]
    }
   ],
   "source": [
    "# Create a one-time payment checkout session\n",
    "checkout = sapi.one_time_payment(\n",
    "    product_name='My Product',\n",
    "    amount_cents=2000,  # $20.00\n",
    "    success_url='https://localhost:8000/success',\n",
    "    cancel_url='https://localhost:8000/cancel'\n",
    ")\n",
    "print(f\"Payment URL: {checkout.url[:64]}...\")"
   ]
  },
  {
   "cell_type": "code",
   "execution_count": null,
   "metadata": {},
   "outputs": [
    {
     "name": "stdout",
     "output_type": "stream",
     "text": [
      "Subscription URL: https://billing.answer.ai/c/pay/cs_test_a1xQzvl0Qd6arXt9EKWsYDJ7...\n"
     ]
    }
   ],
   "source": [
    "# Create a subscription checkout session\n",
    "subscription = sapi.subscription(\n",
    "    product_name='Monthly Plan',\n",
    "    amount_cents=999,  # $9.99/month\n",
    "    success_url='https://localhost:8000/success',\n",
    "    cancel_url='https://localhost:8000/cancel',\n",
    "    customer_email=customer.email\n",
    ")\n",
    "print(f\"Subscription URL: {subscription.url[:64]}...\")"
   ]
  },
  {
   "cell_type": "markdown",
   "metadata": {},
   "source": [
    "### Complete API Coverage\n",
    "\n",
    "FastStripe provides access to the entire Stripe API through organized resource groups:"
   ]
  },
  {
   "cell_type": "code",
   "execution_count": null,
   "metadata": {},
   "outputs": [
    {
     "name": "stdout",
     "output_type": "stream",
     "text": [
      "Created product: New Product with ID: prod_SMsMg2mD205PNM\n"
     ]
    }
   ],
   "source": [
    "# Access any Stripe resource with consistent patterns\n",
    "product = sapi.products.create(name='New Product')\n",
    "print(f\"Created product: {product.name} with ID: {product.id}\")"
   ]
  },
  {
   "cell_type": "code",
   "execution_count": null,
   "metadata": {},
   "outputs": [
    {
     "name": "stdout",
     "output_type": "stream",
     "text": [
      "Found 3 customers\n"
     ]
    }
   ],
   "source": [
    "# Fetch existing resources\n",
    "customers = sapi.customers.fetch(limit=3)\n",
    "print(f\"Found {len(customers.data)} customers\")"
   ]
  },
  {
   "cell_type": "code",
   "execution_count": null,
   "metadata": {},
   "outputs": [
    {
     "name": "stdout",
     "output_type": "stream",
     "text": [
      "Payment intent status: requires_payment_method, amount: $10.0\n"
     ]
    }
   ],
   "source": [
    "# All responses are AttrDict objects for easy dot notation access\n",
    "payment_intent = sapi.payment_intents.create(amount=1000, currency='usd')\n",
    "print(f\"Payment intent status: {payment_intent.status}, amount: ${payment_intent.amount/100}\")"
   ]
  }
 ],
 "metadata": {
  "kernelspec": {
   "display_name": "python3",
   "language": "python",
   "name": "python3"
  }
 },
 "nbformat": 4,
 "nbformat_minor": 4
}
