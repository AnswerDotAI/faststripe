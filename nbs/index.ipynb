{
 "cells": [
  {
   "cell_type": "code",
   "execution_count": null,
   "metadata": {},
   "outputs": [],
   "source": [
    "#| hide\n",
    "from faststripe.core import *"
   ]
  },
  {
   "cell_type": "markdown",
   "metadata": {},
   "source": [
    "# Tutorial: Get Started with FastStripe\n",
    "\n",
    "> Learn to accept payments with FastStripe in 15 minutes\n",
    "\n",
    "This tutorial will guide you through setting up FastStripe and accepting your first payment. By the end, you'll have created a working payment link and understand the basics of the FastStripe API.\n",
    "\n",
    "## What you'll learn\n",
    "\n",
    "- How to install and configure FastStripe\n",
    "- How to create your first payment link\n",
    "- How to set up a subscription\n",
    "- How to handle customer data"
   ]
  },
  {
   "cell_type": "markdown",
   "metadata": {},
   "source": [
    "## Prerequisites\n",
    "\n",
    "Before starting this tutorial, you'll need:\n",
    "\n",
    "- Python 3.8 or higher installed\n",
    "- A Stripe account (sign up at [stripe.com](https://stripe.com))\n",
    "- Your Stripe test API keys from the [Stripe Dashboard](https://dashboard.stripe.com/test/apikeys)\n",
    "\n",
    "## Why FastStripe?\n",
    "\n",
    "FastStripe offers several advantages over the official Stripe Python SDK:\n",
    "\n",
    "- **Self-documenting**: See all available parameters with descriptions in your IDE\n",
    "- **Simplified workflows**: High-level methods for common payment patterns\n",
    "- **Lightweight**: Minimal dependencies (just `httpx` and `fastcore`)\n",
    "- **Consistent API**: Uniform `create`/`fetch` naming across all resources"
   ]
  },
  {
   "cell_type": "markdown",
   "metadata": {},
   "source": [
    "## Step 1: Installation"
   ]
  },
  {
   "cell_type": "markdown",
   "metadata": {},
   "source": [
    "First, install FastStripe using pip:"
   ]
  },
  {
   "cell_type": "markdown",
   "metadata": {},
   "source": [
    "```bash\n",
    "pip install faststripe\n",
    "```\n",
    "\n",
    "Or install the latest development version:\n",
    "\n",
    "```bash\n",
    "pip install git+https://github.com/AnswerDotAI/faststripe.git\n",
    "```\n",
    "\n",
    "## Versioning\n",
    "\n",
    "FastStripe versions follow Stripe's API versioning scheme (e.g., `2025.05.28.x`). Each FastStripe release is pinned to a specific Stripe API version, ensuring:\n",
    "\n",
    "- **Stability**: Your code won't break when Stripe updates their API\n",
    "- **Predictability**: Same behavior across all environments  \n",
    "- **Compatibility**: Choose the Stripe API version that works for your application\n",
    "\n",
    "When you install FastStripe, you get a specific snapshot of the Stripe API that's been tested and validated. The minor version represents non-breaking changes we add such as better higher-level APIs."
   ]
  },
  {
   "cell_type": "markdown",
   "metadata": {},
   "source": [
    "## Step 2: Set up your API key\n",
    "\n",
    "For this tutorial, you'll use your Stripe test API key. Create a `.env` file in your project directory:"
   ]
  },
  {
   "cell_type": "markdown",
   "metadata": {},
   "source": [
    "```bash\n",
    "echo \"STRIPE_SECRET_KEY=sk_test_your_test_key_here\" > .env\n",
    "```\n",
    "\n",
    "Then load it in your Python environment:"
   ]
  },
  {
   "cell_type": "markdown",
   "metadata": {},
   "source": [
    "## Step 3: Initialize FastStripe\n",
    "\n",
    "Now let's import FastStripe and initialize it with your API key:"
   ]
  },
  {
   "cell_type": "code",
   "execution_count": null,
   "metadata": {},
   "outputs": [],
   "source": [
    "from faststripe.core import StripeApi\n",
    "\n",
    "import os\n",
    "\n",
    "# Initialize with your API key from environment\n",
    "sapi = StripeApi(os.environ['STRIPE_SECRET_KEY'])"
   ]
  },
  {
   "cell_type": "code",
   "execution_count": null,
   "metadata": {},
   "outputs": [
    {
     "name": "stdout",
     "output_type": "stream",
     "text": [
      "cus_SMsM453Vb64XcF user@example.com\n"
     ]
    }
   ],
   "source": [
    "# Create a customer\n",
    "customer = sapi.customers.create(email='user@example.com', name='John Doe')\n",
    "print(customer.id, customer.email)"
   ]
  },
  {
   "cell_type": "markdown",
   "metadata": {},
   "source": [
    "### Self-Documenting API\n",
    "\n",
    "One of FastStripe's key advantages is that all methods include parameter documentation directly in your IDE. You can see what parameters are available without checking external docs:"
   ]
  },
  {
   "cell_type": "markdown",
   "metadata": {},
   "source": [
    "```python\n",
    "# Explore available methods and their parameters\n",
    "sapi.customers.create?\n",
    "```\n",
    "```\n",
    "Signature:\n",
    "sapi.customers.create(\n",
    "    *,\n",
    "    address=None,\n",
    "    balance=None,\n",
    "    cash_balance=None,\n",
    "    description=None,\n",
    "    email=None,\n",
    "    ...\n",
    "```\n",
    "\n",
    "It also supports the jump to definition or by typing `sapi.customers.create(`!"
   ]
  },
  {
   "cell_type": "markdown",
   "metadata": {},
   "source": [
    "### High-Level Convenience Methods\n",
    "\n",
    "FastStripe includes simplified methods for common payment workflows:"
   ]
  },
  {
   "cell_type": "code",
   "execution_count": null,
   "metadata": {},
   "outputs": [
    {
     "name": "stdout",
     "output_type": "stream",
     "text": [
      "Payment URL: https://billing.answer.ai/c/pay/cs_test_a17Swg1TqARRl0ItVDkdelkR...\n"
     ]
    }
   ],
   "source": [
    "# Create a one-time payment checkout session\n",
    "checkout = sapi.one_time_payment(\n",
    "    product_name='My Product',\n",
    "    amount_cents=2000,  # $20.00\n",
    "    success_url='https://localhost:8000/success',\n",
    "    cancel_url='https://localhost:8000/cancel'\n",
    ")\n",
    "print(f\"Payment URL: {checkout.url[:64]}...\")"
   ]
  },
  {
   "cell_type": "code",
   "execution_count": null,
   "metadata": {},
   "outputs": [
    {
     "name": "stdout",
     "output_type": "stream",
     "text": [
      "Subscription URL: https://billing.answer.ai/c/pay/cs_test_a1xQzvl0Qd6arXt9EKWsYDJ7...\n"
     ]
    }
   ],
   "source": [
    "# Create a subscription checkout session\n",
    "subscription = sapi.subscription(\n",
    "    product_name='Monthly Plan',\n",
    "    amount_cents=999,  # $9.99/month\n",
    "    success_url='https://localhost:8000/success',\n",
    "    cancel_url='https://localhost:8000/cancel',\n",
    "    customer_email=customer.email\n",
    ")\n",
    "print(f\"Subscription URL: {subscription.url[:64]}...\")"
   ]
  },
  {
   "cell_type": "markdown",
   "metadata": {},
   "source": [
    "### Complete API Coverage\n",
    "\n",
    "FastStripe provides access to the entire Stripe API through organized resource groups:"
   ]
  },
  {
   "cell_type": "code",
   "execution_count": null,
   "metadata": {},
   "outputs": [
    {
     "name": "stdout",
     "output_type": "stream",
     "text": [
      "Created product: New Product with ID: prod_SMsMg2mD205PNM\n"
     ]
    }
   ],
   "source": [
    "# Access any Stripe resource with consistent patterns\n",
    "product = sapi.products.create(name='New Product')\n",
    "print(f\"Created product: {product.name} with ID: {product.id}\")"
   ]
  },
  {
   "cell_type": "code",
   "execution_count": null,
   "metadata": {},
   "outputs": [
    {
     "name": "stdout",
     "output_type": "stream",
     "text": [
      "Found 3 customers\n"
     ]
    }
   ],
   "source": [
    "# Fetch existing resources\n",
    "customers = sapi.customers.fetch(limit=3)\n",
    "print(f\"Found {len(customers.data)} customers\")"
   ]
  },
  {
   "cell_type": "code",
   "execution_count": null,
   "metadata": {},
   "outputs": [
    {
     "name": "stdout",
     "output_type": "stream",
     "text": [
      "Payment intent status: requires_payment_method, amount: $10.0\n"
     ]
    }
   ],
   "source": [
    "# All responses are AttrDict objects for easy dot notation access\n",
    "payment_intent = sapi.payment_intents.create(amount=1000, currency='usd')\n",
    "print(f\"Payment intent status: {payment_intent.status}, amount: ${payment_intent.amount/100}\")"
   ]
  }
 ],
 "metadata": {
  "kernelspec": {
   "display_name": "python3",
   "language": "python",
   "name": "python3"
  }
 },
 "nbformat": 4,
 "nbformat_minor": 4
}
