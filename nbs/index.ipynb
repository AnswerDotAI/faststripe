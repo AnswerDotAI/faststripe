{
 "cells": [
  {
   "cell_type": "code",
   "execution_count": null,
   "id": "8ad16418",
   "metadata": {},
   "outputs": [],
   "source": [
    "#| hide\n",
    "from faststripe.core import *"
   ]
  },
  {
   "cell_type": "markdown",
   "id": "9b7a62a5",
   "metadata": {},
   "source": [
    "# Tutorial: Get Started with FastStripe\n",
    "\n",
    "> Learn to accept payments with FastStripe in 15 minutes\n",
    "\n",
    "This tutorial will guide you through setting up FastStripe and accepting your first payment. By the end, you'll have created a working payment link and understand the basics of the FastStripe API.\n",
    "\n",
    "## What you'll learn\n",
    "\n",
    "- How to install and configure FastStripe\n",
    "- How to create your first payment link\n",
    "- How to set up a subscription\n",
    "- How to handle customer data"
   ]
  },
  {
   "cell_type": "markdown",
   "id": "947b5130",
   "metadata": {},
   "source": [
    "## Prerequisites\n",
    "\n",
    "Before starting this tutorial, you'll need:\n",
    "\n",
    "- Python 3.9 or higher installed\n",
    "- A Stripe account (sign up at [stripe.com](https://stripe.com))\n",
    "- Your Stripe test API keys from the [Stripe Dashboard](https://dashboard.stripe.com/test/apikeys)\n",
    "\n",
    "## Why FastStripe?\n",
    "\n",
    "FastStripe offers several advantages over the official Stripe Python SDK:\n",
    "\n",
    "- **Self-documenting**: See all available parameters with descriptions in your IDE\n",
    "- **Simplified workflows**: High-level methods for common payment patterns\n",
    "- **Lightweight**: Minimal dependencies (just `fastcore`)\n",
    "- **Consistent API**: HTTP verb-based methods (`post`, `get`) with full parameter visibility"
   ]
  },
  {
   "cell_type": "markdown",
   "id": "cc7c757b",
   "metadata": {},
   "source": [
    "## Step 1: Installation"
   ]
  },
  {
   "cell_type": "markdown",
   "id": "5901ea52",
   "metadata": {},
   "source": [
    "First, install FastStripe using pip:"
   ]
  },
  {
   "cell_type": "markdown",
   "id": "fc75cfbc",
   "metadata": {},
   "source": [
    "```bash\n",
    "pip install faststripe\n",
    "```\n",
    "\n",
    "Or install the latest development version:\n",
    "\n",
    "```bash\n",
    "pip install git+https://github.com/AnswerDotAI/faststripe.git\n",
    "```\n",
    "\n",
    "## Versioning\n",
    "\n",
    "FastStripe versions follow Stripe's API versioning scheme (e.g., `2025.05.28.x`). Each FastStripe release is pinned to a specific Stripe API version, ensuring:\n",
    "\n",
    "- **Stability**: Your code won't break when Stripe updates their API\n",
    "- **Predictability**: Same behavior across all environments  \n",
    "- **Compatibility**: Choose the Stripe API version that works for your application\n",
    "\n",
    "When you install FastStripe, you get a specific snapshot of the Stripe API that's been tested and validated. The minor version represents non-breaking changes we add such as better higher-level APIs."
   ]
  },
  {
   "cell_type": "markdown",
   "id": "d4241b19",
   "metadata": {},
   "source": [
    "## Step 2: Set up your API key\n",
    "\n",
    "For this tutorial, you'll use your Stripe test API key. Create a `.env` file in your project directory:"
   ]
  },
  {
   "cell_type": "markdown",
   "id": "68675fd2",
   "metadata": {},
   "source": [
    "```bash\n",
    "echo \"STRIPE_SECRET_KEY=sk_test_your_test_key_here\" > .env\n",
    "```\n",
    "\n",
    "Then load it in your Python environment:"
   ]
  },
  {
   "cell_type": "markdown",
   "id": "37125279",
   "metadata": {},
   "source": [
    "## Step 3: Initialize FastStripe\n",
    "\n",
    "Now let's import FastStripe and initialize it with your API key:"
   ]
  },
  {
   "cell_type": "code",
   "execution_count": null,
   "id": "3f1e5e77",
   "metadata": {},
   "outputs": [],
   "source": [
    "from faststripe.core import StripeApi\n",
    "\n",
    "import os\n",
    "\n",
    "# Initialize with your API key from environment\n",
    "sapi = StripeApi('your-api-key')"
   ]
  },
  {
   "cell_type": "code",
   "execution_count": null,
   "id": "f7c13338",
   "metadata": {},
   "outputs": [],
   "source": [
    "sapi.customers.post("
   ]
  },
  {
   "cell_type": "code",
   "execution_count": null,
   "id": "23a6b1ff",
   "metadata": {},
   "outputs": [
    {
     "name": "stdout",
     "output_type": "stream",
     "text": [
      "cus_ScUPG9yb5cPV6G user@example.com\n"
     ]
    }
   ],
   "source": [
    "# Create a customer\n",
    "customer = sapi.customers.post(email='user@example.com', name='John Doe')\n",
    "print(customer.id, customer.email)"
   ]
  },
  {
   "cell_type": "markdown",
   "id": "0d69af63",
   "metadata": {},
   "source": [
    "### Self-Documenting API\n",
    "\n",
    "One of FastStripe's key advantages is that all methods include parameter documentation directly in your IDE. You can see what parameters are available without checking external docs:"
   ]
  },
  {
   "cell_type": "markdown",
   "id": "90d69bbc",
   "metadata": {},
   "source": [
    "```python\n",
    "# Explore available methods and their parameters\n",
    "sapi.customers.post?\n",
    "```\n",
    "```\n",
    "Signature:     \n",
    "sapi.customers.post(\n",
    "    address: object = None,\n",
    "    balance: int = None,\n",
    "    cash_balance: dict = None,\n",
    "    description: str = None,\n",
    "    email: str = None,\n",
    "    ...\n",
    "```\n",
    "\n",
    "It also supports tab completion when filling in parameters!"
   ]
  },
  {
   "cell_type": "markdown",
   "id": "4f18fd09",
   "metadata": {},
   "source": [
    "### High-Level Convenience Methods\n",
    "\n",
    "FastStripe includes simplified methods for common payment workflows:"
   ]
  },
  {
   "cell_type": "code",
   "execution_count": null,
   "id": "d68f6928",
   "metadata": {},
   "outputs": [
    {
     "name": "stdout",
     "output_type": "stream",
     "text": [
      "Payment URL: https://billing.answer.ai/c/pay/cs_test_a107uQXcqI6W9iD09wOmVinc...\n"
     ]
    }
   ],
   "source": [
    "# Create a one-time payment checkout session\n",
    "checkout = sapi.one_time_payment(\n",
    "    product_name='My Product',\n",
    "    amount_cents=2000,  # $20.00\n",
    "    success_url='https://localhost:8000/success',\n",
    "    cancel_url='https://localhost:8000/cancel'\n",
    ")\n",
    "print(f\"Payment URL: {checkout.url[:64]}...\")"
   ]
  },
  {
   "cell_type": "code",
   "execution_count": null,
   "id": "7d67ba90",
   "metadata": {},
   "outputs": [
    {
     "name": "stdout",
     "output_type": "stream",
     "text": [
      "Subscription URL: https://billing.answer.ai/c/pay/cs_test_a1O4fjw1mgs11zkLGgHZTp6T...\n"
     ]
    }
   ],
   "source": [
    "# Create a subscription checkout session\n",
    "subscription = sapi.subscription(\n",
    "    product_name='Monthly Plan',\n",
    "    amount_cents=999,  # $9.99/month\n",
    "    success_url='https://localhost:8000/success',\n",
    "    cancel_url='https://localhost:8000/cancel',\n",
    "    customer_email=customer.email\n",
    ")\n",
    "print(f\"Subscription URL: {subscription.url[:64]}...\")"
   ]
  },
  {
   "cell_type": "markdown",
   "id": "c747e7ee",
   "metadata": {},
   "source": [
    "### Complete API Coverage\n",
    "\n",
    "FastStripe provides access to the entire Stripe API through organized resource groups:"
   ]
  },
  {
   "cell_type": "code",
   "execution_count": null,
   "id": "58f7431f",
   "metadata": {},
   "outputs": [
    {
     "name": "stdout",
     "output_type": "stream",
     "text": [
      "Created product: New Product with ID: prod_ScUPzNzla8KDC6\n"
     ]
    }
   ],
   "source": [
    "# Access any Stripe resource with consistent patterns\n",
    "product = sapi.products.post(name='New Product')\n",
    "print(f\"Created product: {product.name} with ID: {product.id}\")"
   ]
  },
  {
   "cell_type": "code",
   "execution_count": null,
   "id": "1eef6ef2",
   "metadata": {},
   "outputs": [
    {
     "name": "stdout",
     "output_type": "stream",
     "text": [
      "Found 3 customers\n"
     ]
    }
   ],
   "source": [
    "# Fetch existing resources\n",
    "customers = sapi.customers.get(limit=3)\n",
    "print(f\"Found {len(customers.data)} customers\")"
   ]
  },
  {
   "cell_type": "code",
   "execution_count": null,
   "id": "2c510bd6",
   "metadata": {},
   "outputs": [
    {
     "name": "stdout",
     "output_type": "stream",
     "text": [
      "Payment intent status: requires_payment_method, amount: $10.0\n"
     ]
    }
   ],
   "source": [
    "# All responses are AttrDict objects for easy dot notation access\n",
    "payment_intent = sapi.payment.intents_post(amount=1000, currency='usd')\n",
    "print(f\"Payment intent status: {payment_intent.status}, amount: ${payment_intent.amount/100}\")"
   ]
  },
  {
   "cell_type": "markdown",
   "id": "33909542",
   "metadata": {},
   "source": [
    "### Pagination Support\n",
    "\n",
    "FastStripe includes built-in utilities for handling paginated API responses, making it easy to work with large requests."
   ]
  },
  {
   "cell_type": "code",
   "execution_count": null,
   "id": "64fa69eb",
   "metadata": {},
   "outputs": [
    {
     "name": "stdout",
     "output_type": "stream",
     "text": [
      "Got 5 customers\n",
      "Has more pages: True\n"
     ]
    }
   ],
   "source": [
    "from faststripe.page import paged, pages\n",
    "\n",
    "for p in paged(sapi.customers.get, limit=5): break\n",
    "print(f\"Got {len(p.data)} customers\")\n",
    "print(f\"Has more pages: {p.has_more}\")"
   ]
  },
  {
   "cell_type": "code",
   "execution_count": null,
   "id": "4c01c0a3",
   "metadata": {},
   "outputs": [
    {
     "data": {
      "text/html": [
       "<pre style=\"white-space:pre;overflow-x:auto;line-height:normal;font-family:Menlo,'DejaVu Sans Mono',consolas,'Courier New',monospace\"></pre>\n"
      ],
      "text/plain": []
     },
     "metadata": {},
     "output_type": "display_data"
    },
    {
     "data": {
      "text/markdown": [
       "- [products.get](https://docs.stripe.com/api/products/list)(active: 'str', created: 'str', ending_before: 'str', expand: 'str', ids: 'str', limit: 'str', shippable: 'str', starting_after: 'str', url: 'str'): *List all products*\n",
       "- [products.post](https://docs.stripe.com/api/products/create)(active: bool = None, default_price_data: dict = None, description: str = None, expand: list = None, id: str = None, images: list = None, marketing_features: list = None, metadata: dict = None, name: str = None, package_dimensions: dict = None, shippable: bool = None, statement_descriptor: str = None, tax_code: str = None, unit_label: str = None, url: str = None): *Create a product*\n",
       "- [products.search_get](https://docs.stripe.com/api/searchs/retrieve)(expand: 'str', limit: 'str', page: 'str', query: 'str'): *Search products*\n",
       "- [products.id_delete](https://docs.stripe.com/api/products/delete)(id): *Delete a product*\n",
       "- [products.id_get](https://docs.stripe.com/api/products/delete)(id, expand: 'str'): *Retrieve a product*\n",
       "- [products.id_post](https://docs.stripe.com/api/products/update)(id, active: bool = None, default_price: str = None, description: object = None, expand: list = None, images: object = None, marketing_features: object = None, metadata: object = None, name: str = None, package_dimensions: object = None, shippable: bool = None, statement_descriptor: str = None, tax_code: object = None, unit_label: object = None, url: object = None): *Update a product*\n",
       "- [products.product_features_get](https://docs.stripe.com/api/features/delete)(product, ending_before: 'str', expand: 'str', limit: 'str', starting_after: 'str'): *List all features attached to a product*\n",
       "- [products.product_features_post](https://docs.stripe.com/api/features/update)(product, entitlement_feature: str = None, expand: list = None): *Attach a feature to a product*\n",
       "- [products.product_features_id_delete](https://docs.stripe.com/api/features/delete)(product, id): *Remove a feature from a product*\n",
       "- [products.product_features_id_get](https://docs.stripe.com/api/features/delete)(product, id, expand: 'str'): *Retrieve a product_feature*"
      ],
      "text/plain": [
       "\u001b[1m<\u001b[0m\u001b[1;95mfaststripe.core._OAPIVerbGroup\u001b[0m\u001b[39m object at \u001b[0m\u001b[1;36m0x122fddee0\u001b[0m\u001b[1m>\u001b[0m"
      ]
     },
     "execution_count": null,
     "metadata": {},
     "output_type": "execute_result"
    }
   ],
   "source": [
    "sapi.products"
   ]
  },
  {
   "cell_type": "code",
   "execution_count": null,
   "id": "fb3383c7",
   "metadata": {},
   "outputs": [
    {
     "data": {
      "text/html": [
       "<pre style=\"white-space:pre;overflow-x:auto;line-height:normal;font-family:Menlo,'DejaVu Sans Mono',consolas,'Courier New',monospace\"></pre>\n"
      ],
      "text/plain": []
     },
     "metadata": {},
     "output_type": "display_data"
    },
    {
     "data": {
      "text/plain": [
       "\n",
       "\u001b[1m(\u001b[0m\n",
       "    \u001b[1;36m650\u001b[0m,\n",
       "    \u001b[1m{\u001b[0m\n",
       "        \u001b[32m'id'\u001b[0m: \u001b[32m'prod_ScUPzNzla8KDC6'\u001b[0m,\n",
       "        \u001b[32m'object'\u001b[0m: \u001b[32m'product'\u001b[0m,\n",
       "        \u001b[32m'active'\u001b[0m: \u001b[3;92mTrue\u001b[0m,\n",
       "        \u001b[32m'attributes'\u001b[0m: \u001b[1m[\u001b[0m\u001b[1m]\u001b[0m,\n",
       "        \u001b[32m'created'\u001b[0m: \u001b[1;36m1751657895\u001b[0m,\n",
       "        \u001b[32m'default_price'\u001b[0m: \u001b[3;35mNone\u001b[0m,\n",
       "        \u001b[32m'description'\u001b[0m: \u001b[3;35mNone\u001b[0m,\n",
       "        \u001b[32m'images'\u001b[0m: \u001b[1m[\u001b[0m\u001b[1m]\u001b[0m,\n",
       "        \u001b[32m'livemode'\u001b[0m: \u001b[3;91mFalse\u001b[0m,\n",
       "        \u001b[32m'marketing_features'\u001b[0m: \u001b[1m[\u001b[0m\u001b[1m]\u001b[0m,\n",
       "        \u001b[32m'metadata'\u001b[0m: \u001b[1m{\u001b[0m\u001b[1m}\u001b[0m,\n",
       "        \u001b[32m'name'\u001b[0m: \u001b[32m'New Product'\u001b[0m,\n",
       "        \u001b[32m'package_dimensions'\u001b[0m: \u001b[3;35mNone\u001b[0m,\n",
       "        \u001b[32m'shippable'\u001b[0m: \u001b[3;35mNone\u001b[0m,\n",
       "        \u001b[32m'statement_descriptor'\u001b[0m: \u001b[3;35mNone\u001b[0m,\n",
       "        \u001b[32m'tax_code'\u001b[0m: \u001b[3;35mNone\u001b[0m,\n",
       "        \u001b[32m'type'\u001b[0m: \u001b[32m'service'\u001b[0m,\n",
       "        \u001b[32m'unit_label'\u001b[0m: \u001b[3;35mNone\u001b[0m,\n",
       "        \u001b[32m'updated'\u001b[0m: \u001b[1;36m1751657895\u001b[0m,\n",
       "        \u001b[32m'url'\u001b[0m: \u001b[3;35mNone\u001b[0m\n",
       "    \u001b[1m}\u001b[0m\n",
       "\u001b[1m)\u001b[0m"
      ]
     },
     "execution_count": null,
     "metadata": {},
     "output_type": "execute_result"
    }
   ],
   "source": [
    "products = pages(sapi.products.get, limit=10)\n",
    "len(products), products[0]"
   ]
  },
  {
   "cell_type": "markdown",
   "id": "d97bd85a",
   "metadata": {},
   "source": [
    "The pagination utilities work with any Stripe resource that supports pagination:\n",
    "\n",
    "- **`paged()`**: Creates a paged generator for a resource's API\n",
    "- **`pages()`**: Iterator that automatically fetches all pages and returns all items returned in those pages\n",
    "\n",
    "This makes it easy to process large datasets without manually handling pagination tokens."
   ]
  }
 ],
 "metadata": {
  "kernelspec": {
   "display_name": "python3",
   "language": "python",
   "name": "python3"
  }
 },
 "nbformat": 4,
 "nbformat_minor": 5
}
